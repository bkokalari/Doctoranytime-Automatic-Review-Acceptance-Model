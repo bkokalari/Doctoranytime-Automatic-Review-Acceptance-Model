{
  "nbformat": 4,
  "nbformat_minor": 0,
  "metadata": {
    "colab": {
      "name": "Textblob_translation.ipynb",
      "provenance": [],
      "collapsed_sections": [],
      "toc_visible": true,
      "include_colab_link": true
    },
    "kernelspec": {
      "name": "python3",
      "display_name": "Python 3"
    }
  },
  "cells": [
    {
      "cell_type": "markdown",
      "metadata": {
        "id": "view-in-github",
        "colab_type": "text"
      },
      "source": [
        "<a href=\"https://colab.research.google.com/github/bkokalari/Doctoranytime-Automatic-Review-Acceptance-Model/blob/main/English/Textblob_translation.ipynb\" target=\"_parent\"><img src=\"https://colab.research.google.com/assets/colab-badge.svg\" alt=\"Open In Colab\"/></a>"
      ]
    },
    {
      "cell_type": "code",
      "metadata": {
        "id": "3PbApFL0uIgL",
        "outputId": "29d67f69-c844-406b-cfa2-ef881079d70e",
        "colab": {
          "base_uri": "https://localhost:8080/",
          "height": 34
        }
      },
      "source": [
        "from google.colab import drive\n",
        "drive.mount(\"/content/drive\")"
      ],
      "execution_count": null,
      "outputs": [
        {
          "output_type": "stream",
          "text": [
            "Mounted at /content/drive\n"
          ],
          "name": "stdout"
        }
      ]
    },
    {
      "cell_type": "code",
      "metadata": {
        "id": "wJittLtQal-Z"
      },
      "source": [
        ""
      ],
      "execution_count": null,
      "outputs": []
    },
    {
      "cell_type": "code",
      "metadata": {
        "id": "DOq4USIFvNLk",
        "outputId": "0c5bd1c4-676d-46ec-cf1b-8bbeb5e98e15",
        "colab": {
          "base_uri": "https://localhost:8080/",
          "height": 306
        }
      },
      "source": [
        "!pip install -U textblob\n",
        "!python -m textblob.download_corpora"
      ],
      "execution_count": null,
      "outputs": [
        {
          "output_type": "stream",
          "text": [
            "Requirement already up-to-date: textblob in /usr/local/lib/python3.6/dist-packages (0.15.3)\n",
            "Requirement already satisfied, skipping upgrade: nltk>=3.1 in /usr/local/lib/python3.6/dist-packages (from textblob) (3.2.5)\n",
            "Requirement already satisfied, skipping upgrade: six in /usr/local/lib/python3.6/dist-packages (from nltk>=3.1->textblob) (1.15.0)\n",
            "[nltk_data] Downloading package brown to /root/nltk_data...\n",
            "[nltk_data]   Unzipping corpora/brown.zip.\n",
            "[nltk_data] Downloading package punkt to /root/nltk_data...\n",
            "[nltk_data]   Unzipping tokenizers/punkt.zip.\n",
            "[nltk_data] Downloading package wordnet to /root/nltk_data...\n",
            "[nltk_data]   Unzipping corpora/wordnet.zip.\n",
            "[nltk_data] Downloading package averaged_perceptron_tagger to\n",
            "[nltk_data]     /root/nltk_data...\n",
            "[nltk_data]   Unzipping taggers/averaged_perceptron_tagger.zip.\n",
            "[nltk_data] Downloading package conll2000 to /root/nltk_data...\n",
            "[nltk_data]   Unzipping corpora/conll2000.zip.\n",
            "[nltk_data] Downloading package movie_reviews to /root/nltk_data...\n",
            "[nltk_data]   Unzipping corpora/movie_reviews.zip.\n",
            "Finished.\n"
          ],
          "name": "stdout"
        }
      ]
    },
    {
      "cell_type": "code",
      "metadata": {
        "id": "IHyP7CXTvI-9",
        "outputId": "10a6143f-3a7c-426a-87da-10e02baf272b",
        "colab": {
          "base_uri": "https://localhost:8080/",
          "height": 781
        }
      },
      "source": [
        "import numpy as np\n",
        "import pandas as pd\n",
        "import matplotlib.pyplot as plt\n",
        "import spacy\n",
        "import time\n",
        "from textblob import TextBlob\n",
        "\n",
        "# install googletrans using pip\n",
        "!pip install googletrans\n",
        "\n",
        "# import the library\n",
        "import googletrans\n",
        "from googletrans import Translator"
      ],
      "execution_count": null,
      "outputs": [
        {
          "output_type": "stream",
          "text": [
            "Collecting googletrans\n",
            "  Downloading https://files.pythonhosted.org/packages/71/3a/3b19effdd4c03958b90f40fe01c93de6d5280e03843cc5adf6956bfc9512/googletrans-3.0.0.tar.gz\n",
            "Collecting httpx==0.13.3\n",
            "\u001b[?25l  Downloading https://files.pythonhosted.org/packages/54/b4/698b284c6aed4d7c2b4fe3ba5df1fcf6093612423797e76fbb24890dd22f/httpx-0.13.3-py3-none-any.whl (55kB)\n",
            "\u001b[K     |████████████████████████████████| 61kB 2.8MB/s \n",
            "\u001b[?25hRequirement already satisfied: idna==2.* in /usr/local/lib/python3.6/dist-packages (from httpx==0.13.3->googletrans) (2.10)\n",
            "Collecting rfc3986<2,>=1.3\n",
            "  Downloading https://files.pythonhosted.org/packages/78/be/7b8b99fd74ff5684225f50dd0e865393d2265656ef3b4ba9eaaaffe622b8/rfc3986-1.4.0-py2.py3-none-any.whl\n",
            "Collecting httpcore==0.9.*\n",
            "\u001b[?25l  Downloading https://files.pythonhosted.org/packages/dd/d5/e4ff9318693ac6101a2095e580908b591838c6f33df8d3ee8dd953ba96a8/httpcore-0.9.1-py3-none-any.whl (42kB)\n",
            "\u001b[K     |████████████████████████████████| 51kB 5.7MB/s \n",
            "\u001b[?25hRequirement already satisfied: certifi in /usr/local/lib/python3.6/dist-packages (from httpx==0.13.3->googletrans) (2020.6.20)\n",
            "Collecting sniffio\n",
            "  Downloading https://files.pythonhosted.org/packages/b3/82/4bd4b7d9c0d1dc0fbfbc2a1e00138e7f3ab85bc239358fe9b78aa2ab586d/sniffio-1.1.0-py3-none-any.whl\n",
            "Collecting hstspreload\n",
            "\u001b[?25l  Downloading https://files.pythonhosted.org/packages/f0/16/59b51f8e640f16acad2c0e101fa1e55a87bfd80cff23f77ab23cb8927541/hstspreload-2020.10.6-py3-none-any.whl (965kB)\n",
            "\u001b[K     |████████████████████████████████| 972kB 8.0MB/s \n",
            "\u001b[?25hRequirement already satisfied: chardet==3.* in /usr/local/lib/python3.6/dist-packages (from httpx==0.13.3->googletrans) (3.0.4)\n",
            "Collecting h11<0.10,>=0.8\n",
            "\u001b[?25l  Downloading https://files.pythonhosted.org/packages/5a/fd/3dad730b0f95e78aeeb742f96fa7bbecbdd56a58e405d3da440d5bfb90c6/h11-0.9.0-py2.py3-none-any.whl (53kB)\n",
            "\u001b[K     |████████████████████████████████| 61kB 7.6MB/s \n",
            "\u001b[?25hCollecting h2==3.*\n",
            "\u001b[?25l  Downloading https://files.pythonhosted.org/packages/25/de/da019bcc539eeab02f6d45836f23858ac467f584bfec7a526ef200242afe/h2-3.2.0-py2.py3-none-any.whl (65kB)\n",
            "\u001b[K     |████████████████████████████████| 71kB 7.5MB/s \n",
            "\u001b[?25hCollecting contextvars>=2.1; python_version < \"3.7\"\n",
            "  Downloading https://files.pythonhosted.org/packages/83/96/55b82d9f13763be9d672622e1b8106c85acb83edd7cc2fa5bc67cd9877e9/contextvars-2.4.tar.gz\n",
            "Collecting hyperframe<6,>=5.2.0\n",
            "  Downloading https://files.pythonhosted.org/packages/19/0c/bf88182bcb5dce3094e2f3e4fe20db28a9928cb7bd5b08024030e4b140db/hyperframe-5.2.0-py2.py3-none-any.whl\n",
            "Collecting hpack<4,>=3.0\n",
            "  Downloading https://files.pythonhosted.org/packages/8a/cc/e53517f4a1e13f74776ca93271caef378dadec14d71c61c949d759d3db69/hpack-3.0.0-py2.py3-none-any.whl\n",
            "Collecting immutables>=0.9\n",
            "\u001b[?25l  Downloading https://files.pythonhosted.org/packages/99/e0/ea6fd4697120327d26773b5a84853f897a68e33d3f9376b00a8ff96e4f63/immutables-0.14-cp36-cp36m-manylinux1_x86_64.whl (98kB)\n",
            "\u001b[K     |████████████████████████████████| 102kB 7.4MB/s \n",
            "\u001b[?25hBuilding wheels for collected packages: googletrans, contextvars\n",
            "  Building wheel for googletrans (setup.py) ... \u001b[?25l\u001b[?25hdone\n",
            "  Created wheel for googletrans: filename=googletrans-3.0.0-cp36-none-any.whl size=15736 sha256=a618846f00b1d115dd86d9be6690e7fab872c793701043853432d6ef33ae21c1\n",
            "  Stored in directory: /root/.cache/pip/wheels/28/1a/a7/eaf4d7a3417a0c65796c547cff4deb6d79c7d14c2abd29273e\n",
            "  Building wheel for contextvars (setup.py) ... \u001b[?25l\u001b[?25hdone\n",
            "  Created wheel for contextvars: filename=contextvars-2.4-cp36-none-any.whl size=7666 sha256=95a19c4294f3fba5b3b2c8a0303cf7180d0f767fb6b128ded32215624d5fb551\n",
            "  Stored in directory: /root/.cache/pip/wheels/a5/7d/68/1ebae2668bda2228686e3c1cf16f2c2384cea6e9334ad5f6de\n",
            "Successfully built googletrans contextvars\n",
            "Installing collected packages: rfc3986, immutables, contextvars, sniffio, h11, hyperframe, hpack, h2, httpcore, hstspreload, httpx, googletrans\n",
            "Successfully installed contextvars-2.4 googletrans-3.0.0 h11-0.9.0 h2-3.2.0 hpack-3.0.0 hstspreload-2020.10.6 httpcore-0.9.1 httpx-0.13.3 hyperframe-5.2.0 immutables-0.14 rfc3986-1.4.0 sniffio-1.1.0\n"
          ],
          "name": "stdout"
        }
      ]
    },
    {
      "cell_type": "code",
      "metadata": {
        "id": "pNEutBM5a1RL"
      },
      "source": [
        "translations = pd.read_csv(\"/content/drive/My Drive/reviews_ml/cleaner/data/05_translated_reviews_raw.csv\") "
      ],
      "execution_count": null,
      "outputs": []
    },
    {
      "cell_type": "code",
      "metadata": {
        "id": "1xDC4YJba7x6",
        "outputId": "2aa07978-02ed-4dba-afc2-42485a425645",
        "colab": {
          "base_uri": "https://localhost:8080/",
          "height": 197
        }
      },
      "source": [
        "translations.head()"
      ],
      "execution_count": null,
      "outputs": [
        {
          "output_type": "execute_result",
          "data": {
            "text/html": [
              "<div>\n",
              "<style scoped>\n",
              "    .dataframe tbody tr th:only-of-type {\n",
              "        vertical-align: middle;\n",
              "    }\n",
              "\n",
              "    .dataframe tbody tr th {\n",
              "        vertical-align: top;\n",
              "    }\n",
              "\n",
              "    .dataframe thead th {\n",
              "        text-align: right;\n",
              "    }\n",
              "</style>\n",
              "<table border=\"1\" class=\"dataframe\">\n",
              "  <thead>\n",
              "    <tr style=\"text-align: right;\">\n",
              "      <th></th>\n",
              "      <th>Review</th>\n",
              "      <th>Approved</th>\n",
              "      <th>TotalScore</th>\n",
              "      <th>PunctualityScore</th>\n",
              "      <th>TranslatedReview</th>\n",
              "    </tr>\n",
              "  </thead>\n",
              "  <tbody>\n",
              "    <tr>\n",
              "      <th>0</th>\n",
              "      <td>Καθησυχαστικη, έμπειρη και αποτέλεσμάτικη</td>\n",
              "      <td>1</td>\n",
              "      <td>10</td>\n",
              "      <td>10</td>\n",
              "      <td>Reassuring, experienced and effective</td>\n",
              "    </tr>\n",
              "    <tr>\n",
              "      <th>1</th>\n",
              "      <td>Υπέροχος άνθρωπος σε κάνει να την εμπιστευτείς...</td>\n",
              "      <td>1</td>\n",
              "      <td>10</td>\n",
              "      <td>10</td>\n",
              "      <td>A wonderful person makes you trust her and be ...</td>\n",
              "    </tr>\n",
              "    <tr>\n",
              "      <th>2</th>\n",
              "      <td>O γιατρός είναι εξαιρετικος, γνωστής του αντικ...</td>\n",
              "      <td>1</td>\n",
              "      <td>10</td>\n",
              "      <td>10</td>\n",
              "      <td>The doctor is excellent, familiar with the sub...</td>\n",
              "    </tr>\n",
              "    <tr>\n",
              "      <th>3</th>\n",
              "      <td>Μου ενέπνευσε εμπιστοσύνη και είπα πράγματα πο...</td>\n",
              "      <td>1</td>\n",
              "      <td>10</td>\n",
              "      <td>10</td>\n",
              "      <td>It gave me confidence and I said things I have...</td>\n",
              "    </tr>\n",
              "    <tr>\n",
              "      <th>4</th>\n",
              "      <td>Πολύ καλός γιατρός  Τον συστήνω ανεπιφύλακτα. ...</td>\n",
              "      <td>1</td>\n",
              "      <td>10</td>\n",
              "      <td>10</td>\n",
              "      <td>Very good doctor I highly recommend him. Absol...</td>\n",
              "    </tr>\n",
              "  </tbody>\n",
              "</table>\n",
              "</div>"
            ],
            "text/plain": [
              "                                              Review  ...                                   TranslatedReview\n",
              "0         Καθησυχαστικη, έμπειρη και αποτέλεσμάτικη   ...              Reassuring, experienced and effective\n",
              "1  Υπέροχος άνθρωπος σε κάνει να την εμπιστευτείς...  ...  A wonderful person makes you trust her and be ...\n",
              "2  O γιατρός είναι εξαιρετικος, γνωστής του αντικ...  ...  The doctor is excellent, familiar with the sub...\n",
              "3  Μου ενέπνευσε εμπιστοσύνη και είπα πράγματα πο...  ...  It gave me confidence and I said things I have...\n",
              "4  Πολύ καλός γιατρός  Τον συστήνω ανεπιφύλακτα. ...  ...  Very good doctor I highly recommend him. Absol...\n",
              "\n",
              "[5 rows x 5 columns]"
            ]
          },
          "metadata": {
            "tags": []
          },
          "execution_count": 4
        }
      ]
    },
    {
      "cell_type": "code",
      "metadata": {
        "id": "SSPnTSURbUJg",
        "outputId": "3cfc02f9-66dd-46de-8632-eebfce19d878",
        "colab": {
          "base_uri": "https://localhost:8080/",
          "height": 197
        }
      },
      "source": [
        "translationsCleaned.head()"
      ],
      "execution_count": null,
      "outputs": [
        {
          "output_type": "execute_result",
          "data": {
            "text/html": [
              "<div>\n",
              "<style scoped>\n",
              "    .dataframe tbody tr th:only-of-type {\n",
              "        vertical-align: middle;\n",
              "    }\n",
              "\n",
              "    .dataframe tbody tr th {\n",
              "        vertical-align: top;\n",
              "    }\n",
              "\n",
              "    .dataframe thead th {\n",
              "        text-align: right;\n",
              "    }\n",
              "</style>\n",
              "<table border=\"1\" class=\"dataframe\">\n",
              "  <thead>\n",
              "    <tr style=\"text-align: right;\">\n",
              "      <th></th>\n",
              "      <th>TranslatedReview</th>\n",
              "      <th>Approved</th>\n",
              "    </tr>\n",
              "  </thead>\n",
              "  <tbody>\n",
              "    <tr>\n",
              "      <th>0</th>\n",
              "      <td>Reassuring, experienced and effective</td>\n",
              "      <td>1</td>\n",
              "    </tr>\n",
              "    <tr>\n",
              "      <th>1</th>\n",
              "      <td>A wonderful person makes you trust her and be ...</td>\n",
              "      <td>1</td>\n",
              "    </tr>\n",
              "    <tr>\n",
              "      <th>2</th>\n",
              "      <td>The doctor is excellent, familiar with the sub...</td>\n",
              "      <td>1</td>\n",
              "    </tr>\n",
              "    <tr>\n",
              "      <th>3</th>\n",
              "      <td>It gave me confidence and I said things I have...</td>\n",
              "      <td>1</td>\n",
              "    </tr>\n",
              "    <tr>\n",
              "      <th>4</th>\n",
              "      <td>Very good doctor I highly recommend him. Absol...</td>\n",
              "      <td>1</td>\n",
              "    </tr>\n",
              "  </tbody>\n",
              "</table>\n",
              "</div>"
            ],
            "text/plain": [
              "                                    TranslatedReview  Approved\n",
              "0              Reassuring, experienced and effective         1\n",
              "1  A wonderful person makes you trust her and be ...         1\n",
              "2  The doctor is excellent, familiar with the sub...         1\n",
              "3  It gave me confidence and I said things I have...         1\n",
              "4  Very good doctor I highly recommend him. Absol...         1"
            ]
          },
          "metadata": {
            "tags": []
          },
          "execution_count": 7
        }
      ]
    },
    {
      "cell_type": "code",
      "metadata": {
        "id": "aF4OB33MbgA3"
      },
      "source": [
        "translationsCleaned.to_csv('/content/drive/My Drive/reviews_ml/cleaner/data/07_englishReviews.csv',index=False)"
      ],
      "execution_count": null,
      "outputs": []
    },
    {
      "cell_type": "code",
      "metadata": {
        "id": "WKoxDlGiuRZE",
        "outputId": "6ef34dfd-2ff5-4b74-88e0-20358de906cb",
        "colab": {
          "base_uri": "https://localhost:8080/",
          "height": 35
        }
      },
      "source": [
        "## Detect Language\n",
        "text = \"Υπέροχος άνθρωπος σε κάνει να την εμπιστευτείς\"\n",
        "blob_obj = TextBlob(text)\n",
        "blob_obj.detect_language()"
      ],
      "execution_count": null,
      "outputs": [
        {
          "output_type": "execute_result",
          "data": {
            "application/vnd.google.colaboratory.intrinsic+json": {
              "type": "string"
            },
            "text/plain": [
              "'el'"
            ]
          },
          "metadata": {
            "tags": []
          },
          "execution_count": 4
        }
      ]
    },
    {
      "cell_type": "code",
      "metadata": {
        "id": "WVqwXrfYujj9",
        "outputId": "90a1df30-1a87-4742-80f4-62c986a81136",
        "colab": {
          "base_uri": "https://localhost:8080/",
          "height": 34
        }
      },
      "source": [
        "## Translate to english language\n",
        "blob_obj.translate(to=\"en\")"
      ],
      "execution_count": null,
      "outputs": [
        {
          "output_type": "execute_result",
          "data": {
            "text/plain": [
              "TextBlob(\"A wonderful person makes you trust her\")"
            ]
          },
          "metadata": {
            "tags": []
          },
          "execution_count": 5
        }
      ]
    },
    {
      "cell_type": "code",
      "metadata": {
        "id": "l4PHb_exuwhU"
      },
      "source": [
        "revs = pd.read_csv(\"/content/drive/My Drive/Colab Notebooks/Copy of app_reviews_gr_raw - app_reviews_gr_raw.csv\") "
      ],
      "execution_count": null,
      "outputs": []
    },
    {
      "cell_type": "code",
      "metadata": {
        "id": "IXKbIliC0VUv",
        "outputId": "066d0b19-66cb-49ad-dcfe-20a90ca3a61d",
        "colab": {
          "base_uri": "https://localhost:8080/",
          "height": 419
        }
      },
      "source": [
        "revs"
      ],
      "execution_count": null,
      "outputs": [
        {
          "output_type": "execute_result",
          "data": {
            "text/html": [
              "<div>\n",
              "<style scoped>\n",
              "    .dataframe tbody tr th:only-of-type {\n",
              "        vertical-align: middle;\n",
              "    }\n",
              "\n",
              "    .dataframe tbody tr th {\n",
              "        vertical-align: top;\n",
              "    }\n",
              "\n",
              "    .dataframe thead th {\n",
              "        text-align: right;\n",
              "    }\n",
              "</style>\n",
              "<table border=\"1\" class=\"dataframe\">\n",
              "  <thead>\n",
              "    <tr style=\"text-align: right;\">\n",
              "      <th></th>\n",
              "      <th>review</th>\n",
              "      <th>approved</th>\n",
              "      <th>TotalScore</th>\n",
              "      <th>PunctualityScore</th>\n",
              "    </tr>\n",
              "  </thead>\n",
              "  <tbody>\n",
              "    <tr>\n",
              "      <th>0</th>\n",
              "      <td>Καθησυχαστικη, έμπειρη και αποτέλεσμάτικη</td>\n",
              "      <td>1</td>\n",
              "      <td>10.0</td>\n",
              "      <td>10.0</td>\n",
              "    </tr>\n",
              "    <tr>\n",
              "      <th>1</th>\n",
              "      <td>Υπέροχος άνθρωπος σε κάνει να την εμπιστευτείς...</td>\n",
              "      <td>1</td>\n",
              "      <td>10.0</td>\n",
              "      <td>10.0</td>\n",
              "    </tr>\n",
              "    <tr>\n",
              "      <th>2</th>\n",
              "      <td>O γιατρός είναι εξαιρετικος, γνωστής του αντικ...</td>\n",
              "      <td>1</td>\n",
              "      <td>10.0</td>\n",
              "      <td>10.0</td>\n",
              "    </tr>\n",
              "    <tr>\n",
              "      <th>3</th>\n",
              "      <td>Μου ενέπνευσε εμπιστοσύνη και είπα πράγματα πο...</td>\n",
              "      <td>1</td>\n",
              "      <td>10.0</td>\n",
              "      <td>10.0</td>\n",
              "    </tr>\n",
              "    <tr>\n",
              "      <th>4</th>\n",
              "      <td>Πολύ καλός γιατρός  Τον συστήνω ανεπιφύλακτα. ...</td>\n",
              "      <td>1</td>\n",
              "      <td>10.0</td>\n",
              "      <td>10.0</td>\n",
              "    </tr>\n",
              "    <tr>\n",
              "      <th>...</th>\n",
              "      <td>...</td>\n",
              "      <td>...</td>\n",
              "      <td>...</td>\n",
              "      <td>...</td>\n",
              "    </tr>\n",
              "    <tr>\n",
              "      <th>127303</th>\n",
              "      <td>Τον συστηνω για οσους τον εχουν αναγκη.</td>\n",
              "      <td>1</td>\n",
              "      <td>10.0</td>\n",
              "      <td>10.0</td>\n",
              "    </tr>\n",
              "    <tr>\n",
              "      <th>127304</th>\n",
              "      <td>πηγα στο ραντεβου αλλα δεν ηταν ενημερωμενοι γ...</td>\n",
              "      <td>0</td>\n",
              "      <td>0.0</td>\n",
              "      <td>2.0</td>\n",
              "    </tr>\n",
              "    <tr>\n",
              "      <th>127305</th>\n",
              "      <td>Ειμαι πολύ ικανοποιημένη με τον εν λογω γιατρο...</td>\n",
              "      <td>1</td>\n",
              "      <td>10.0</td>\n",
              "      <td>10.0</td>\n",
              "    </tr>\n",
              "    <tr>\n",
              "      <th>127306</th>\n",
              "      <td>άψογη συμπεριφορά και υψηλός επαγγελματισμός</td>\n",
              "      <td>1</td>\n",
              "      <td>10.0</td>\n",
              "      <td>10.0</td>\n",
              "    </tr>\n",
              "    <tr>\n",
              "      <th>127307</th>\n",
              "      <td>Ευγενής, προσηνής, κατατοπιστικός.</td>\n",
              "      <td>0</td>\n",
              "      <td>10.0</td>\n",
              "      <td>10.0</td>\n",
              "    </tr>\n",
              "  </tbody>\n",
              "</table>\n",
              "<p>127308 rows × 4 columns</p>\n",
              "</div>"
            ],
            "text/plain": [
              "                                                   review  ...  PunctualityScore\n",
              "0              Καθησυχαστικη, έμπειρη και αποτέλεσμάτικη   ...              10.0\n",
              "1       Υπέροχος άνθρωπος σε κάνει να την εμπιστευτείς...  ...              10.0\n",
              "2       O γιατρός είναι εξαιρετικος, γνωστής του αντικ...  ...              10.0\n",
              "3       Μου ενέπνευσε εμπιστοσύνη και είπα πράγματα πο...  ...              10.0\n",
              "4       Πολύ καλός γιατρός  Τον συστήνω ανεπιφύλακτα. ...  ...              10.0\n",
              "...                                                   ...  ...               ...\n",
              "127303            Τον συστηνω για οσους τον εχουν αναγκη.  ...              10.0\n",
              "127304  πηγα στο ραντεβου αλλα δεν ηταν ενημερωμενοι γ...  ...               2.0\n",
              "127305  Ειμαι πολύ ικανοποιημένη με τον εν λογω γιατρο...  ...              10.0\n",
              "127306       άψογη συμπεριφορά και υψηλός επαγγελματισμός  ...              10.0\n",
              "127307                 Ευγενής, προσηνής, κατατοπιστικός.  ...              10.0\n",
              "\n",
              "[127308 rows x 4 columns]"
            ]
          },
          "metadata": {
            "tags": []
          },
          "execution_count": 7
        }
      ]
    },
    {
      "cell_type": "code",
      "metadata": {
        "id": "ebBcXP71ecQ1",
        "outputId": "bed77413-1121-4b3e-e2c4-fbb98cc91805",
        "colab": {
          "base_uri": "https://localhost:8080/",
          "height": 34
        }
      },
      "source": [
        "#drop nan values\n",
        "revs = revs.dropna()\n",
        "revs.shape"
      ],
      "execution_count": null,
      "outputs": [
        {
          "output_type": "execute_result",
          "data": {
            "text/plain": [
              "(127212, 4)"
            ]
          },
          "metadata": {
            "tags": []
          },
          "execution_count": 8
        }
      ]
    },
    {
      "cell_type": "code",
      "metadata": {
        "id": "ZgJiPmQA4KLr",
        "outputId": "511414ad-f3d3-4228-928b-0b493f2cc3fe",
        "colab": {
          "base_uri": "https://localhost:8080/",
          "height": 419
        }
      },
      "source": [
        "revs"
      ],
      "execution_count": null,
      "outputs": [
        {
          "output_type": "execute_result",
          "data": {
            "text/html": [
              "<div>\n",
              "<style scoped>\n",
              "    .dataframe tbody tr th:only-of-type {\n",
              "        vertical-align: middle;\n",
              "    }\n",
              "\n",
              "    .dataframe tbody tr th {\n",
              "        vertical-align: top;\n",
              "    }\n",
              "\n",
              "    .dataframe thead th {\n",
              "        text-align: right;\n",
              "    }\n",
              "</style>\n",
              "<table border=\"1\" class=\"dataframe\">\n",
              "  <thead>\n",
              "    <tr style=\"text-align: right;\">\n",
              "      <th></th>\n",
              "      <th>review</th>\n",
              "      <th>approved</th>\n",
              "      <th>TotalScore</th>\n",
              "      <th>PunctualityScore</th>\n",
              "    </tr>\n",
              "  </thead>\n",
              "  <tbody>\n",
              "    <tr>\n",
              "      <th>0</th>\n",
              "      <td>Καθησυχαστικη, έμπειρη και αποτέλεσμάτικη</td>\n",
              "      <td>1</td>\n",
              "      <td>10.0</td>\n",
              "      <td>10.0</td>\n",
              "    </tr>\n",
              "    <tr>\n",
              "      <th>1</th>\n",
              "      <td>Υπέροχος άνθρωπος σε κάνει να την εμπιστευτείς...</td>\n",
              "      <td>1</td>\n",
              "      <td>10.0</td>\n",
              "      <td>10.0</td>\n",
              "    </tr>\n",
              "    <tr>\n",
              "      <th>2</th>\n",
              "      <td>O γιατρός είναι εξαιρετικος, γνωστής του αντικ...</td>\n",
              "      <td>1</td>\n",
              "      <td>10.0</td>\n",
              "      <td>10.0</td>\n",
              "    </tr>\n",
              "    <tr>\n",
              "      <th>3</th>\n",
              "      <td>Μου ενέπνευσε εμπιστοσύνη και είπα πράγματα πο...</td>\n",
              "      <td>1</td>\n",
              "      <td>10.0</td>\n",
              "      <td>10.0</td>\n",
              "    </tr>\n",
              "    <tr>\n",
              "      <th>4</th>\n",
              "      <td>Πολύ καλός γιατρός  Τον συστήνω ανεπιφύλακτα. ...</td>\n",
              "      <td>1</td>\n",
              "      <td>10.0</td>\n",
              "      <td>10.0</td>\n",
              "    </tr>\n",
              "    <tr>\n",
              "      <th>...</th>\n",
              "      <td>...</td>\n",
              "      <td>...</td>\n",
              "      <td>...</td>\n",
              "      <td>...</td>\n",
              "    </tr>\n",
              "    <tr>\n",
              "      <th>127303</th>\n",
              "      <td>Τον συστηνω για οσους τον εχουν αναγκη.</td>\n",
              "      <td>1</td>\n",
              "      <td>10.0</td>\n",
              "      <td>10.0</td>\n",
              "    </tr>\n",
              "    <tr>\n",
              "      <th>127304</th>\n",
              "      <td>πηγα στο ραντεβου αλλα δεν ηταν ενημερωμενοι γ...</td>\n",
              "      <td>0</td>\n",
              "      <td>0.0</td>\n",
              "      <td>2.0</td>\n",
              "    </tr>\n",
              "    <tr>\n",
              "      <th>127305</th>\n",
              "      <td>Ειμαι πολύ ικανοποιημένη με τον εν λογω γιατρο...</td>\n",
              "      <td>1</td>\n",
              "      <td>10.0</td>\n",
              "      <td>10.0</td>\n",
              "    </tr>\n",
              "    <tr>\n",
              "      <th>127306</th>\n",
              "      <td>άψογη συμπεριφορά και υψηλός επαγγελματισμός</td>\n",
              "      <td>1</td>\n",
              "      <td>10.0</td>\n",
              "      <td>10.0</td>\n",
              "    </tr>\n",
              "    <tr>\n",
              "      <th>127307</th>\n",
              "      <td>Ευγενής, προσηνής, κατατοπιστικός.</td>\n",
              "      <td>0</td>\n",
              "      <td>10.0</td>\n",
              "      <td>10.0</td>\n",
              "    </tr>\n",
              "  </tbody>\n",
              "</table>\n",
              "<p>127212 rows × 4 columns</p>\n",
              "</div>"
            ],
            "text/plain": [
              "                                                   review  ...  PunctualityScore\n",
              "0              Καθησυχαστικη, έμπειρη και αποτέλεσμάτικη   ...              10.0\n",
              "1       Υπέροχος άνθρωπος σε κάνει να την εμπιστευτείς...  ...              10.0\n",
              "2       O γιατρός είναι εξαιρετικος, γνωστής του αντικ...  ...              10.0\n",
              "3       Μου ενέπνευσε εμπιστοσύνη και είπα πράγματα πο...  ...              10.0\n",
              "4       Πολύ καλός γιατρός  Τον συστήνω ανεπιφύλακτα. ...  ...              10.0\n",
              "...                                                   ...  ...               ...\n",
              "127303            Τον συστηνω για οσους τον εχουν αναγκη.  ...              10.0\n",
              "127304  πηγα στο ραντεβου αλλα δεν ηταν ενημερωμενοι γ...  ...               2.0\n",
              "127305  Ειμαι πολύ ικανοποιημένη με τον εν λογω γιατρο...  ...              10.0\n",
              "127306       άψογη συμπεριφορά και υψηλός επαγγελματισμός  ...              10.0\n",
              "127307                 Ευγενής, προσηνής, κατατοπιστικός.  ...              10.0\n",
              "\n",
              "[127212 rows x 4 columns]"
            ]
          },
          "metadata": {
            "tags": []
          },
          "execution_count": 16
        }
      ]
    },
    {
      "cell_type": "code",
      "metadata": {
        "id": "B9wJ3rDbn4St",
        "outputId": "b5e6433a-08c1-4e87-bfa4-a1ecaaa4090f",
        "colab": {
          "base_uri": "https://localhost:8080/",
          "height": 1000
        }
      },
      "source": [
        "from tqdm import tqdm\n",
        "start = time.time()\n",
        "d = []\n",
        "#batches of 20000\n",
        "for rev in tqdm(revs.review[100000:]):\n",
        "  try:\n",
        "    blob_obj = TextBlob(rev)\n",
        "    translated = str(blob_obj.translate(to=\"en\"))\n",
        "    time.sleep(0.5)\n",
        "    #print(blob_obj.translate(to=\"en\"))\n",
        "    d.append(translated)\n",
        "    #revs.review[rev] = blob_obj.translate(to=\"en\")\n",
        "  except Exception as e:\n",
        "    d.append(rev)\n",
        "    print(rev)\n",
        "    print(str(e))\n",
        "    time.sleep(1)\n",
        "end = time.time()\n",
        "print(\"it took:\", end - start ,\"seconds\")"
      ],
      "execution_count": null,
      "outputs": [
        {
          "output_type": "stream",
          "text": [
            "  0%|          | 11/27212 [00:05<4:04:26,  1.85it/s]"
          ],
          "name": "stderr"
        },
        {
          "output_type": "stream",
          "text": [
            "Giatros.\n",
            "Translation API returned the input string unchanged.\n"
          ],
          "name": "stdout"
        },
        {
          "output_type": "stream",
          "text": [
            "  0%|          | 23/27212 [00:12<3:57:42,  1.91it/s]"
          ],
          "name": "stderr"
        },
        {
          "output_type": "stream",
          "text": [
            "den ton sinistw \n",
            "Translation API returned the input string unchanged.\n"
          ],
          "name": "stdout"
        },
        {
          "output_type": "stream",
          "text": [
            "  0%|          | 28/27212 [00:15<4:09:30,  1.82it/s]"
          ],
          "name": "stderr"
        },
        {
          "output_type": "stream",
          "text": [
            "***\n",
            "Translation API returned the input string unchanged.\n"
          ],
          "name": "stdout"
        },
        {
          "output_type": "stream",
          "text": [
            "  0%|          | 39/27212 [00:21<3:55:17,  1.92it/s]"
          ],
          "name": "stderr"
        },
        {
          "output_type": "stream",
          "text": [
            "DDD\n",
            "Translation API returned the input string unchanged.\n"
          ],
          "name": "stdout"
        },
        {
          "output_type": "stream",
          "text": [
            "  0%|          | 56/27212 [00:30<3:52:54,  1.94it/s]"
          ],
          "name": "stderr"
        },
        {
          "output_type": "stream",
          "text": [
            "10+\n",
            "Translation API returned the input string unchanged.\n"
          ],
          "name": "stdout"
        },
        {
          "output_type": "stream",
          "text": [
            "  0%|          | 130/27212 [01:09<3:52:05,  1.94it/s]"
          ],
          "name": "stderr"
        },
        {
          "output_type": "stream",
          "text": [
            "...\n",
            "Translation API returned the input string unchanged.\n"
          ],
          "name": "stdout"
        },
        {
          "output_type": "stream",
          "text": [
            "  0%|          | 132/27212 [01:11<4:39:13,  1.62it/s]"
          ],
          "name": "stderr"
        },
        {
          "output_type": "stream",
          "text": [
            ".....\n",
            "Translation API returned the input string unchanged.\n"
          ],
          "name": "stdout"
        },
        {
          "output_type": "stream",
          "text": [
            "  1%|          | 155/27212 [01:23<4:06:52,  1.83it/s]"
          ],
          "name": "stderr"
        },
        {
          "output_type": "stream",
          "text": [
            "Very pleased with Dr. Georgia Katsarma...\n",
            "Translation API returned the input string unchanged.\n"
          ],
          "name": "stdout"
        },
        {
          "output_type": "stream",
          "text": [
            "  1%|          | 231/27212 [02:03<3:51:08,  1.95it/s]"
          ],
          "name": "stderr"
        },
        {
          "output_type": "stream",
          "text": [
            "ytit\n",
            "Translation API returned the input string unchanged.\n"
          ],
          "name": "stdout"
        },
        {
          "output_type": "stream",
          "text": [
            "  1%|          | 243/27212 [02:09<3:53:12,  1.93it/s]"
          ],
          "name": "stderr"
        },
        {
          "output_type": "stream",
          "text": [
            "A thorough professional, understanding ,erudite, forthcoming . She made me feel very comfortable and secure.\n",
            "Translation API returned the input string unchanged.\n"
          ],
          "name": "stdout"
        },
        {
          "output_type": "stream",
          "text": [
            "  1%|          | 302/27212 [02:40<3:51:24,  1.94it/s]"
          ],
          "name": "stderr"
        },
        {
          "output_type": "stream",
          "text": [
            "Over the Top\n",
            "Translation API returned the input string unchanged.\n"
          ],
          "name": "stdout"
        },
        {
          "output_type": "stream",
          "text": [
            "  1%|          | 308/27212 [02:44<4:01:37,  1.86it/s]"
          ],
          "name": "stderr"
        },
        {
          "output_type": "stream",
          "text": [
            "!!!!\n",
            "Translation API returned the input string unchanged.\n"
          ],
          "name": "stdout"
        },
        {
          "output_type": "stream",
          "text": [
            "  1%|▏         | 380/27212 [03:21<3:50:06,  1.94it/s]"
          ],
          "name": "stderr"
        },
        {
          "output_type": "stream",
          "text": [
            "10!\n",
            "Translation API returned the input string unchanged.\n"
          ],
          "name": "stdout"
        },
        {
          "output_type": "stream",
          "text": [
            "  1%|▏         | 387/27212 [03:26<3:57:39,  1.88it/s]"
          ],
          "name": "stderr"
        },
        {
          "output_type": "stream",
          "text": [
            "!!!\n",
            "Translation API returned the input string unchanged.\n"
          ],
          "name": "stdout"
        },
        {
          "output_type": "stream",
          "text": [
            "  1%|▏         | 406/27212 [03:36<3:49:12,  1.95it/s]"
          ],
          "name": "stderr"
        },
        {
          "output_type": "stream",
          "text": [
            "ola ok\n",
            "Translation API returned the input string unchanged.\n"
          ],
          "name": "stdout"
        },
        {
          "output_type": "stream",
          "text": [
            "  2%|▏         | 470/27212 [04:09<3:50:16,  1.94it/s]"
          ],
          "name": "stderr"
        },
        {
          "output_type": "stream",
          "text": [
            "!!!!\n",
            "Translation API returned the input string unchanged.\n"
          ],
          "name": "stdout"
        },
        {
          "output_type": "stream",
          "text": [
            "  2%|▏         | 553/27212 [04:52<3:48:12,  1.95it/s]"
          ],
          "name": "stderr"
        },
        {
          "output_type": "stream",
          "text": [
            "Emeina apoluta euxaristimeni. \n",
            "Translation API returned the input string unchanged.\n"
          ],
          "name": "stdout"
        },
        {
          "output_type": "stream",
          "text": [
            "  2%|▏         | 562/27212 [04:58<3:52:15,  1.91it/s]"
          ],
          "name": "stderr"
        },
        {
          "output_type": "stream",
          "text": [
            "excellent\n",
            "Translation API returned the input string unchanged.\n"
          ],
          "name": "stdout"
        },
        {
          "output_type": "stream",
          "text": [
            "  2%|▏         | 566/27212 [05:00<4:11:32,  1.77it/s]"
          ],
          "name": "stderr"
        },
        {
          "output_type": "stream",
          "text": [
            "His english is excellent and his manners as well. Will go back for sure.\n",
            "Translation API returned the input string unchanged.\n"
          ],
          "name": "stdout"
        },
        {
          "output_type": "stream",
          "text": [
            "  2%|▏         | 590/27212 [05:14<4:23:31,  1.68it/s]"
          ],
          "name": "stderr"
        },
        {
          "output_type": "stream",
          "text": [
            "POLI KALOS ANTROPOS KE QTROS \n",
            "Translation API returned the input string unchanged.\n"
          ],
          "name": "stdout"
        },
        {
          "output_type": "stream",
          "text": [
            "  2%|▏         | 595/27212 [05:17<4:26:48,  1.66it/s]"
          ],
          "name": "stderr"
        },
        {
          "output_type": "stream",
          "text": [
            "Great knowledgeable and kind professional. The appointment went smoothly and I was satisfied with the outcome.\n",
            "Translation API returned the input string unchanged.\n"
          ],
          "name": "stdout"
        },
        {
          "output_type": "stream",
          "text": [
            "  2%|▏         | 652/27212 [05:51<4:22:47,  1.68it/s]"
          ],
          "name": "stderr"
        },
        {
          "output_type": "stream",
          "text": [
            "Polu kali.Tin proteinw.\n",
            "Translation API returned the input string unchanged.\n"
          ],
          "name": "stdout"
        },
        {
          "output_type": "stream",
          "text": [
            "  3%|▎         | 721/27212 [06:32<4:03:55,  1.81it/s]"
          ],
          "name": "stderr"
        },
        {
          "output_type": "stream",
          "text": [
            "Kalos, ekseretikos \n",
            "Translation API returned the input string unchanged.\n"
          ],
          "name": "stdout"
        },
        {
          "output_type": "stream",
          "text": [
            "  3%|▎         | 826/27212 [07:34<4:08:33,  1.77it/s]"
          ],
          "name": "stderr"
        },
        {
          "output_type": "stream",
          "text": [
            "The best of the first.!!!! Εύγε!\n",
            "Translation API returned the input string unchanged.\n"
          ],
          "name": "stdout"
        },
        {
          "output_type": "stream",
          "text": [
            "  3%|▎         | 861/27212 [07:54<4:09:05,  1.76it/s]"
          ],
          "name": "stderr"
        },
        {
          "output_type": "stream",
          "text": [
            ".           \n",
            "Translation API returned the input string unchanged.\n"
          ],
          "name": "stdout"
        },
        {
          "output_type": "stream",
          "text": [
            "  3%|▎         | 898/27212 [08:17<4:21:18,  1.68it/s]"
          ],
          "name": "stderr"
        },
        {
          "output_type": "stream",
          "text": [
            "Poli kalos.\n",
            "Translation API returned the input string unchanged.\n"
          ],
          "name": "stdout"
        },
        {
          "output_type": "stream",
          "text": [
            "  3%|▎         | 921/27212 [08:31<4:37:41,  1.58it/s]"
          ],
          "name": "stderr"
        },
        {
          "output_type": "stream",
          "text": [
            "Very pleased.\n",
            "Translation API returned the input string unchanged.\n"
          ],
          "name": "stdout"
        },
        {
          "output_type": "stream",
          "text": [
            "\r  3%|▎         | 922/27212 [08:32<5:27:29,  1.34it/s]"
          ],
          "name": "stderr"
        },
        {
          "output_type": "stream",
          "text": [
            ".......\n",
            "Translation API returned the input string unchanged.\n"
          ],
          "name": "stdout"
        },
        {
          "output_type": "stream",
          "text": [
            "  3%|▎         | 945/27212 [08:46<4:06:53,  1.77it/s]"
          ],
          "name": "stderr"
        },
        {
          "output_type": "stream",
          "text": [
            "Polu kalh!\n",
            "Translation API returned the input string unchanged.\n"
          ],
          "name": "stdout"
        },
        {
          "output_type": "stream",
          "text": [
            "  3%|▎         | 949/27212 [08:49<4:36:14,  1.58it/s]"
          ],
          "name": "stderr"
        },
        {
          "output_type": "stream",
          "text": [
            "OK.\n",
            "Translation API returned the input string unchanged.\n"
          ],
          "name": "stdout"
        },
        {
          "output_type": "stream",
          "text": [
            "  4%|▎         | 1019/27212 [09:31<4:27:41,  1.63it/s]"
          ],
          "name": "stderr"
        },
        {
          "output_type": "stream",
          "text": [
            "*****\n",
            "Translation API returned the input string unchanged.\n"
          ],
          "name": "stdout"
        },
        {
          "output_type": "stream",
          "text": [
            "  4%|▍         | 1053/27212 [09:52<4:30:03,  1.61it/s]"
          ],
          "name": "stderr"
        },
        {
          "output_type": "stream",
          "text": [
            "10!\n",
            "Translation API returned the input string unchanged.\n"
          ],
          "name": "stdout"
        },
        {
          "output_type": "stream",
          "text": [
            "  4%|▍         | 1075/27212 [10:06<4:17:11,  1.69it/s]"
          ],
          "name": "stderr"
        },
        {
          "output_type": "stream",
          "text": [
            "poly kalos kai eygenikos\n",
            "Translation API returned the input string unchanged.\n"
          ],
          "name": "stdout"
        },
        {
          "output_type": "stream",
          "text": [
            "  4%|▍         | 1100/27212 [10:21<4:14:40,  1.71it/s]"
          ],
          "name": "stderr"
        },
        {
          "output_type": "stream",
          "text": [
            "...\n",
            "Translation API returned the input string unchanged.\n"
          ],
          "name": "stdout"
        },
        {
          "output_type": "stream",
          "text": [
            "  4%|▍         | 1124/27212 [10:35<4:15:45,  1.70it/s]"
          ],
          "name": "stderr"
        },
        {
          "output_type": "stream",
          "text": [
            "Polu egkardios anthrwpos kai me ekane na niwsw polu aneta apo thn prwth stigmh pou mphka\n",
            "Translation API returned the input string unchanged.\n"
          ],
          "name": "stdout"
        },
        {
          "output_type": "stream",
          "text": [
            "  4%|▍         | 1189/27212 [11:13<4:07:35,  1.75it/s]"
          ],
          "name": "stderr"
        },
        {
          "output_type": "stream",
          "text": [
            "eksairetikos giatros poli prosektikos me ta dontia mou me kalo prosopiko pou ton voithoun stin ergasia tou.\n",
            "Translation API returned the input string unchanged.\n"
          ],
          "name": "stdout"
        },
        {
          "output_type": "stream",
          "text": [
            "  5%|▍         | 1227/27212 [11:36<4:22:29,  1.65it/s]"
          ],
          "name": "stderr"
        },
        {
          "output_type": "stream",
          "text": [
            "...\n",
            "Translation API returned the input string unchanged.\n"
          ],
          "name": "stdout"
        },
        {
          "output_type": "stream",
          "text": [
            "  5%|▍         | 1229/27212 [11:38<5:07:43,  1.41it/s]"
          ],
          "name": "stderr"
        },
        {
          "output_type": "stream",
          "text": [
            "N/a\n",
            "Translation API returned the input string unchanged.\n"
          ],
          "name": "stdout"
        },
        {
          "output_type": "stream",
          "text": [
            "  5%|▍         | 1236/27212 [11:43<4:20:38,  1.66it/s]"
          ],
          "name": "stderr"
        },
        {
          "output_type": "stream",
          "text": [
            "Πολύ προσιτή και πάρα πολύ καλή γιατρός.Την συστήνω ανεπιφύλακτα.\n",
            "HTTP Error 400: Bad Request\n"
          ],
          "name": "stdout"
        },
        {
          "output_type": "stream",
          "text": [
            "\r  5%|▍         | 1237/27212 [11:48<13:53:09,  1.92s/it]"
          ],
          "name": "stderr"
        },
        {
          "output_type": "stream",
          "text": [
            "  -\n",
            "Translation API returned the input string unchanged.\n"
          ],
          "name": "stdout"
        },
        {
          "output_type": "stream",
          "text": [
            "  5%|▍         | 1259/27212 [12:01<4:19:38,  1.67it/s]"
          ],
          "name": "stderr"
        },
        {
          "output_type": "stream",
          "text": [
            "😊😊😊\n",
            "Translation API returned the input string unchanged.\n"
          ],
          "name": "stdout"
        },
        {
          "output_type": "stream",
          "text": [
            "  5%|▍         | 1265/27212 [12:05<4:22:45,  1.65it/s]"
          ],
          "name": "stderr"
        },
        {
          "output_type": "stream",
          "text": [
            "10'\n",
            "Translation API returned the input string unchanged.\n"
          ],
          "name": "stdout"
        },
        {
          "output_type": "stream",
          "text": [
            "  5%|▍         | 1359/27212 [13:00<4:15:44,  1.68it/s]"
          ],
          "name": "stderr"
        },
        {
          "output_type": "stream",
          "text": [
            "Eitane ola apsoga.\n",
            "Translation API returned the input string unchanged.\n"
          ],
          "name": "stdout"
        },
        {
          "output_type": "stream",
          "text": [
            "  5%|▌         | 1362/27212 [13:02<4:34:23,  1.57it/s]"
          ],
          "name": "stderr"
        },
        {
          "output_type": "stream",
          "text": [
            "9/10\n",
            "Translation API returned the input string unchanged.\n"
          ],
          "name": "stdout"
        },
        {
          "output_type": "stream",
          "text": [
            "  5%|▌         | 1388/27212 [13:18<4:08:21,  1.73it/s]"
          ],
          "name": "stderr"
        },
        {
          "output_type": "stream",
          "text": [
            "Ola teleia H kuria Aleksiou einaai mia kataplhkthkh odontiatros, pou ekshgei ta panta ston asthenh kai ton kanei na niwsei polu aneta. \n",
            "Translation API returned the input string unchanged.\n"
          ],
          "name": "stdout"
        },
        {
          "output_type": "stream",
          "text": [
            "  5%|▌         | 1414/27212 [13:33<4:19:37,  1.66it/s]"
          ],
          "name": "stderr"
        },
        {
          "output_type": "stream",
          "text": [
            "   .\n",
            "Translation API returned the input string unchanged.\n"
          ],
          "name": "stdout"
        },
        {
          "output_type": "stream",
          "text": [
            "  5%|▌         | 1423/27212 [13:39<4:12:09,  1.70it/s]"
          ],
          "name": "stderr"
        },
        {
          "output_type": "stream",
          "text": [
            "Poli kali giatros\n",
            "Translation API returned the input string unchanged.\n"
          ],
          "name": "stdout"
        },
        {
          "output_type": "stream",
          "text": [
            "  5%|▌         | 1434/27212 [13:46<4:10:16,  1.72it/s]"
          ],
          "name": "stderr"
        },
        {
          "output_type": "stream",
          "text": [
            "POLY POLY EYXARISTEMENI SINESTO OPIOS EXEI ANAGKI APO KARDIOLOGO NA TO EPISKEFTEI  \n",
            "Translation API returned the input string unchanged.\n"
          ],
          "name": "stdout"
        },
        {
          "output_type": "stream",
          "text": [
            "  5%|▌         | 1445/27212 [13:53<4:01:29,  1.78it/s]"
          ],
          "name": "stderr"
        },
        {
          "output_type": "stream",
          "text": [
            "Ola good..,\n",
            "Translation API returned the input string unchanged.\n"
          ],
          "name": "stdout"
        },
        {
          "output_type": "stream",
          "text": [
            "  5%|▌         | 1456/27212 [14:00<4:22:46,  1.63it/s]"
          ],
          "name": "stderr"
        },
        {
          "output_type": "stream",
          "text": [
            "...\n",
            "Translation API returned the input string unchanged.\n"
          ],
          "name": "stdout"
        },
        {
          "output_type": "stream",
          "text": [
            "  5%|▌         | 1461/27212 [14:03<4:30:36,  1.59it/s]"
          ],
          "name": "stderr"
        },
        {
          "output_type": "stream",
          "text": [
            "great...!!!!\n",
            "Translation API returned the input string unchanged.\n"
          ],
          "name": "stdout"
        },
        {
          "output_type": "stream",
          "text": [
            "  5%|▌         | 1489/27212 [14:20<4:19:25,  1.65it/s]"
          ],
          "name": "stderr"
        },
        {
          "output_type": "stream",
          "text": [
            "UA TON PROTEINA KAI SE ALOYS\n",
            "Translation API returned the input string unchanged.\n"
          ],
          "name": "stdout"
        },
        {
          "output_type": "stream",
          "text": [
            "  6%|▌         | 1636/27212 [15:47<4:18:04,  1.65it/s]"
          ],
          "name": "stderr"
        },
        {
          "output_type": "stream",
          "text": [
            "Poly kalos epistimon kai poly evgenikos\n",
            "Translation API returned the input string unchanged.\n"
          ],
          "name": "stdout"
        },
        {
          "output_type": "stream",
          "text": [
            "  6%|▌         | 1656/27212 [15:59<3:54:06,  1.82it/s]"
          ],
          "name": "stderr"
        },
        {
          "output_type": "stream",
          "text": [
            "Εξερετικος \n",
            "Translation API returned the input string unchanged.\n"
          ],
          "name": "stdout"
        },
        {
          "output_type": "stream",
          "text": [
            "  6%|▋         | 1731/27212 [16:44<4:03:55,  1.74it/s]"
          ],
          "name": "stderr"
        },
        {
          "output_type": "stream",
          "text": [
            "Have taken my children for several appointments with doctor. Always very pleasant and professional . \n",
            "Translation API returned the input string unchanged.\n"
          ],
          "name": "stdout"
        },
        {
          "output_type": "stream",
          "text": [
            "  6%|▋         | 1745/27212 [16:52<4:03:31,  1.74it/s]"
          ],
          "name": "stderr"
        },
        {
          "output_type": "stream",
          "text": [
            "Everything worked perfectly well.\n",
            "Translation API returned the input string unchanged.\n"
          ],
          "name": "stdout"
        },
        {
          "output_type": "stream",
          "text": [
            "  6%|▋         | 1752/27212 [16:57<4:03:39,  1.74it/s]"
          ],
          "name": "stderr"
        },
        {
          "output_type": "stream",
          "text": [
            "10/10\n",
            "Translation API returned the input string unchanged.\n"
          ],
          "name": "stdout"
        },
        {
          "output_type": "stream",
          "text": [
            "  7%|▋         | 1837/27212 [17:46<4:01:24,  1.75it/s]"
          ],
          "name": "stderr"
        },
        {
          "output_type": "stream",
          "text": [
            "euxaristw poly\n",
            "Translation API returned the input string unchanged.\n"
          ],
          "name": "stdout"
        },
        {
          "output_type": "stream",
          "text": [
            "  7%|▋         | 1852/27212 [17:56<3:58:10,  1.77it/s]"
          ],
          "name": "stderr"
        },
        {
          "output_type": "stream",
          "text": [
            "She is a very doctor\n",
            "Translation API returned the input string unchanged.\n"
          ],
          "name": "stdout"
        },
        {
          "output_type": "stream",
          "text": [
            "  7%|▋         | 1867/27212 [18:05<3:57:11,  1.78it/s]"
          ],
          "name": "stderr"
        },
        {
          "output_type": "stream",
          "text": [
            "Very good doctor\n",
            "Translation API returned the input string unchanged.\n"
          ],
          "name": "stdout"
        },
        {
          "output_type": "stream",
          "text": [
            "  7%|▋         | 1873/27212 [18:09<4:17:56,  1.64it/s]"
          ],
          "name": "stderr"
        },
        {
          "output_type": "stream",
          "text": [
            "kalos\n",
            "Translation API returned the input string unchanged.\n"
          ],
          "name": "stdout"
        },
        {
          "output_type": "stream",
          "text": [
            "  7%|▋         | 1890/27212 [18:20<4:04:57,  1.72it/s]"
          ],
          "name": "stderr"
        },
        {
          "output_type": "stream",
          "text": [
            "Htan polu kalos kai mas ekshphrethse para polu kai htan polu eugenikos\n",
            "Translation API returned the input string unchanged.\n"
          ],
          "name": "stdout"
        },
        {
          "output_type": "stream",
          "text": [
            "  7%|▋         | 1924/27212 [18:41<4:25:11,  1.59it/s]"
          ],
          "name": "stderr"
        },
        {
          "output_type": "stream",
          "text": [
            "exeretikos\n",
            "Translation API returned the input string unchanged.\n"
          ],
          "name": "stdout"
        },
        {
          "output_type": "stream",
          "text": [
            "  7%|▋         | 1990/27212 [19:20<4:12:20,  1.67it/s]"
          ],
          "name": "stderr"
        },
        {
          "output_type": "stream",
          "text": [
            "Empeiros giatros    \n",
            "Translation API returned the input string unchanged.\n"
          ],
          "name": "stdout"
        },
        {
          "output_type": "stream",
          "text": [
            "  7%|▋         | 1999/27212 [19:26<4:22:09,  1.60it/s]"
          ],
          "name": "stderr"
        },
        {
          "output_type": "stream",
          "text": [
            "top\n",
            "Translation API returned the input string unchanged.\n"
          ],
          "name": "stdout"
        },
        {
          "output_type": "stream",
          "text": [
            "\r  7%|▋         | 2000/27212 [19:27<5:11:02,  1.35it/s]"
          ],
          "name": "stderr"
        },
        {
          "output_type": "stream",
          "text": [
            "top\n",
            "Translation API returned the input string unchanged.\n"
          ],
          "name": "stdout"
        },
        {
          "output_type": "stream",
          "text": [
            "  7%|▋         | 2032/27212 [19:47<4:05:03,  1.71it/s]"
          ],
          "name": "stderr"
        },
        {
          "output_type": "stream",
          "text": [
            "Very thorough with examination, professional and extremely pleasant person.\n",
            "Translation API returned the input string unchanged.\n"
          ],
          "name": "stdout"
        },
        {
          "output_type": "stream",
          "text": [
            "  8%|▊         | 2104/27212 [20:29<4:03:36,  1.72it/s]"
          ],
          "name": "stderr"
        },
        {
          "output_type": "stream",
          "text": [
            "ola teleia\n",
            "Translation API returned the input string unchanged.\n"
          ],
          "name": "stdout"
        },
        {
          "output_type": "stream",
          "text": [
            "  8%|▊         | 2116/27212 [20:36<4:00:50,  1.74it/s]"
          ],
          "name": "stderr"
        },
        {
          "output_type": "stream",
          "text": [
            "poli kala\n",
            "Translation API returned the input string unchanged.\n"
          ],
          "name": "stdout"
        },
        {
          "output_type": "stream",
          "text": [
            "  8%|▊         | 2120/27212 [20:39<4:17:15,  1.63it/s]"
          ],
          "name": "stderr"
        },
        {
          "output_type": "stream",
          "text": [
            "Filiki kai prositi. \n",
            "Translation API returned the input string unchanged.\n"
          ],
          "name": "stdout"
        },
        {
          "output_type": "stream",
          "text": [
            "  8%|▊         | 2123/27212 [20:42<4:51:20,  1.44it/s]"
          ],
          "name": "stderr"
        },
        {
          "output_type": "stream",
          "text": [
            "OLA KALA\n",
            "Translation API returned the input string unchanged.\n"
          ],
          "name": "stdout"
        },
        {
          "output_type": "stream",
          "text": [
            "  8%|▊         | 2158/27212 [21:04<4:08:01,  1.68it/s]"
          ],
          "name": "stderr"
        },
        {
          "output_type": "stream",
          "text": [
            "       😊\n",
            "Translation API returned the input string unchanged.\n"
          ],
          "name": "stdout"
        },
        {
          "output_type": "stream",
          "text": [
            "  8%|▊         | 2176/27212 [21:15<3:58:55,  1.75it/s]"
          ],
          "name": "stderr"
        },
        {
          "output_type": "stream",
          "text": [
            "Very good doctor\n",
            "Translation API returned the input string unchanged.\n"
          ],
          "name": "stdout"
        },
        {
          "output_type": "stream",
          "text": [
            "  8%|▊         | 2195/27212 [21:26<4:12:20,  1.65it/s]"
          ],
          "name": "stderr"
        },
        {
          "output_type": "stream",
          "text": [
            "---\n",
            "Translation API returned the input string unchanged.\n"
          ],
          "name": "stdout"
        },
        {
          "output_type": "stream",
          "text": [
            "  8%|▊         | 2233/27212 [21:48<3:47:58,  1.83it/s]"
          ],
          "name": "stderr"
        },
        {
          "output_type": "stream",
          "text": [
            "He is a very nice person and knows exactly what he is doing. Certainly someone you can trust. Punctual, no waiting. I am very satisfied, I will go again and I would recommend him. \n",
            "Translation API returned the input string unchanged.\n"
          ],
          "name": "stdout"
        },
        {
          "output_type": "stream",
          "text": [
            "  8%|▊         | 2259/27212 [22:04<4:08:14,  1.68it/s]"
          ],
          "name": "stderr"
        },
        {
          "output_type": "stream",
          "text": [
            "ola teleia\n",
            "Translation API returned the input string unchanged.\n"
          ],
          "name": "stdout"
        },
        {
          "output_type": "stream",
          "text": [
            "  8%|▊         | 2264/27212 [22:07<4:21:10,  1.59it/s]"
          ],
          "name": "stderr"
        },
        {
          "output_type": "stream",
          "text": [
            "Prositos, evgenikos, dieukolintikos kai amesos\n",
            "Translation API returned the input string unchanged.\n"
          ],
          "name": "stdout"
        },
        {
          "output_type": "stream",
          "text": [
            "  8%|▊         | 2268/27212 [22:10<4:19:33,  1.60it/s]"
          ],
          "name": "stderr"
        },
        {
          "output_type": "stream",
          "text": [
            "ok \n",
            "Translation API returned the input string unchanged.\n"
          ],
          "name": "stdout"
        },
        {
          "output_type": "stream",
          "text": [
            "  8%|▊         | 2272/27212 [22:13<4:27:44,  1.55it/s]"
          ],
          "name": "stderr"
        },
        {
          "output_type": "stream",
          "text": [
            "   .\n",
            "Translation API returned the input string unchanged.\n"
          ],
          "name": "stdout"
        },
        {
          "output_type": "stream",
          "text": [
            "  9%|▊         | 2315/27212 [22:38<3:55:31,  1.76it/s]"
          ],
          "name": "stderr"
        },
        {
          "output_type": "stream",
          "text": [
            "ola good \n",
            "Translation API returned the input string unchanged.\n"
          ],
          "name": "stdout"
        },
        {
          "output_type": "stream",
          "text": [
            "  9%|▊         | 2337/27212 [22:52<4:01:54,  1.71it/s]"
          ],
          "name": "stderr"
        },
        {
          "output_type": "stream",
          "text": [
            "exelent\n",
            "Translation API returned the input string unchanged.\n"
          ],
          "name": "stdout"
        },
        {
          "output_type": "stream",
          "text": [
            "  9%|▊         | 2348/27212 [22:59<4:15:22,  1.62it/s]"
          ],
          "name": "stderr"
        },
        {
          "output_type": "stream",
          "text": [
            "Good Doctor\n",
            "Translation API returned the input string unchanged.\n"
          ],
          "name": "stdout"
        },
        {
          "output_type": "stream",
          "text": [
            "  9%|▉         | 2447/27212 [23:59<4:17:16,  1.60it/s]"
          ],
          "name": "stderr"
        },
        {
          "output_type": "stream",
          "text": [
            "Polu kali giatros. Me poli ipomoni apantise se poles erotiseis pou eixa.\n",
            "Translation API returned the input string unchanged.\n"
          ],
          "name": "stdout"
        },
        {
          "output_type": "stream",
          "text": [
            "  9%|▉         | 2458/27212 [24:06<4:10:08,  1.65it/s]"
          ],
          "name": "stderr"
        },
        {
          "output_type": "stream",
          "text": [
            "POLI KALOS\n",
            "Translation API returned the input string unchanged.\n"
          ],
          "name": "stdout"
        },
        {
          "output_type": "stream",
          "text": [
            "  9%|▉         | 2498/27212 [24:30<4:17:06,  1.60it/s]"
          ],
          "name": "stderr"
        },
        {
          "output_type": "stream",
          "text": [
            "  ..\n",
            "Translation API returned the input string unchanged.\n"
          ],
          "name": "stdout"
        },
        {
          "output_type": "stream",
          "text": [
            "  9%|▉         | 2516/27212 [24:41<4:16:05,  1.61it/s]"
          ],
          "name": "stderr"
        },
        {
          "output_type": "stream",
          "text": [
            "Tha xana pao\n",
            "Translation API returned the input string unchanged.\n"
          ],
          "name": "stdout"
        },
        {
          "output_type": "stream",
          "text": [
            "  9%|▉         | 2526/27212 [24:47<3:56:29,  1.74it/s]"
          ],
          "name": "stderr"
        },
        {
          "output_type": "stream",
          "text": [
            "Polu kalos. Opws prepei na einai enas gunaikologos. Sou empneei empistosuni k se kanei na niwtheis aneta.\n",
            "Translation API returned the input string unchanged.\n"
          ],
          "name": "stdout"
        },
        {
          "output_type": "stream",
          "text": [
            " 10%|▉         | 2586/27212 [25:23<4:01:02,  1.70it/s]"
          ],
          "name": "stderr"
        },
        {
          "output_type": "stream",
          "text": [
            "!  \n",
            "Translation API returned the input string unchanged.\n"
          ],
          "name": "stdout"
        },
        {
          "output_type": "stream",
          "text": [
            " 10%|▉         | 2596/27212 [25:29<3:52:04,  1.77it/s]"
          ],
          "name": "stderr"
        },
        {
          "output_type": "stream",
          "text": [
            "                                              '                     \n",
            "Translation API returned the input string unchanged.\n"
          ],
          "name": "stdout"
        },
        {
          "output_type": "stream",
          "text": [
            " 10%|▉         | 2672/27212 [26:15<3:41:59,  1.84it/s]"
          ],
          "name": "stderr"
        },
        {
          "output_type": "stream",
          "text": [
            "Εξερετικος\n",
            "Translation API returned the input string unchanged.\n"
          ],
          "name": "stdout"
        },
        {
          "output_type": "stream",
          "text": [
            " 10%|▉         | 2674/27212 [26:16<4:18:33,  1.58it/s]"
          ],
          "name": "stderr"
        },
        {
          "output_type": "stream",
          "text": [
            "ola teleia\n",
            "Translation API returned the input string unchanged.\n"
          ],
          "name": "stdout"
        },
        {
          "output_type": "stream",
          "text": [
            " 10%|█         | 2739/27212 [26:54<3:56:59,  1.72it/s]"
          ],
          "name": "stderr"
        },
        {
          "output_type": "stream",
          "text": [
            "ola teleia\n",
            "Translation API returned the input string unchanged.\n"
          ],
          "name": "stdout"
        },
        {
          "output_type": "stream",
          "text": [
            " 10%|█         | 2757/27212 [27:05<3:55:14,  1.73it/s]"
          ],
          "name": "stderr"
        },
        {
          "output_type": "stream",
          "text": [
            "❤❤❤\n",
            "Translation API returned the input string unchanged.\n"
          ],
          "name": "stdout"
        },
        {
          "output_type": "stream",
          "text": [
            " 10%|█         | 2787/27212 [27:23<3:55:19,  1.73it/s]"
          ],
          "name": "stderr"
        },
        {
          "output_type": "stream",
          "text": [
            "♣ \n",
            "Translation API returned the input string unchanged.\n"
          ],
          "name": "stdout"
        },
        {
          "output_type": "stream",
          "text": [
            " 10%|█         | 2793/27212 [27:27<4:12:04,  1.61it/s]"
          ],
          "name": "stderr"
        },
        {
          "output_type": "stream",
          "text": [
            "poly kalos\n",
            "Translation API returned the input string unchanged.\n"
          ],
          "name": "stdout"
        },
        {
          "output_type": "stream",
          "text": [
            " 11%|█         | 2878/27212 [28:17<4:04:44,  1.66it/s]"
          ],
          "name": "stderr"
        },
        {
          "output_type": "stream",
          "text": [
            "A great doctor that explained in detail my child's situation and provided very clear advice\n",
            "Translation API returned the input string unchanged.\n"
          ],
          "name": "stdout"
        },
        {
          "output_type": "stream",
          "text": [
            " 11%|█         | 2923/27212 [28:44<3:59:28,  1.69it/s]"
          ],
          "name": "stderr"
        },
        {
          "output_type": "stream",
          "text": [
            "ola kala\n",
            "Translation API returned the input string unchanged.\n"
          ],
          "name": "stdout"
        },
        {
          "output_type": "stream",
          "text": [
            " 11%|█         | 2966/27212 [29:10<3:58:06,  1.70it/s]"
          ],
          "name": "stderr"
        },
        {
          "output_type": "stream",
          "text": [
            "Poly kalos giatros\n",
            "Translation API returned the input string unchanged.\n"
          ],
          "name": "stdout"
        },
        {
          "output_type": "stream",
          "text": [
            " 11%|█         | 2983/27212 [29:20<3:50:33,  1.75it/s]"
          ],
          "name": "stderr"
        },
        {
          "output_type": "stream",
          "text": [
            "Euxaristw giatre!\n",
            "Translation API returned the input string unchanged.\n"
          ],
          "name": "stdout"
        },
        {
          "output_type": "stream",
          "text": [
            " 11%|█         | 3005/27212 [29:33<3:42:05,  1.82it/s]"
          ],
          "name": "stderr"
        },
        {
          "output_type": "stream",
          "text": [
            "polu kalos\n",
            "Translation API returned the input string unchanged.\n"
          ],
          "name": "stdout"
        },
        {
          "output_type": "stream",
          "text": [
            " 11%|█         | 3024/27212 [29:44<3:51:41,  1.74it/s]"
          ],
          "name": "stderr"
        },
        {
          "output_type": "stream",
          "text": [
            "....\n",
            "Translation API returned the input string unchanged.\n"
          ],
          "name": "stdout"
        },
        {
          "output_type": "stream",
          "text": [
            " 11%|█▏        | 3088/27212 [30:22<3:48:53,  1.76it/s]"
          ],
          "name": "stderr"
        },
        {
          "output_type": "stream",
          "text": [
            "   .\n",
            "Translation API returned the input string unchanged.\n"
          ],
          "name": "stdout"
        },
        {
          "output_type": "stream",
          "text": [
            " 11%|█▏        | 3118/27212 [30:40<3:56:00,  1.70it/s]"
          ],
          "name": "stderr"
        },
        {
          "output_type": "stream",
          "text": [
            "poli kali!\n",
            "Translation API returned the input string unchanged.\n"
          ],
          "name": "stdout"
        },
        {
          "output_type": "stream",
          "text": [
            " 11%|█▏        | 3121/27212 [30:42<4:22:57,  1.53it/s]"
          ],
          "name": "stderr"
        },
        {
          "output_type": "stream",
          "text": [
            "Excellent professional, open, answering to a lot of question, explaining you in detail, inspiring trust!  In addition you can pay with credit card\n",
            "Translation API returned the input string unchanged.\n"
          ],
          "name": "stdout"
        },
        {
          "output_type": "stream",
          "text": [
            " 12%|█▏        | 3255/27212 [32:00<3:51:56,  1.72it/s]"
          ],
          "name": "stderr"
        },
        {
          "output_type": "stream",
          "text": [
            ".....\n",
            "Translation API returned the input string unchanged.\n"
          ],
          "name": "stdout"
        },
        {
          "output_type": "stream",
          "text": [
            " 12%|█▏        | 3260/27212 [32:04<3:54:13,  1.70it/s]"
          ],
          "name": "stderr"
        },
        {
          "output_type": "stream",
          "text": [
            "ola kala\n",
            "Translation API returned the input string unchanged.\n"
          ],
          "name": "stdout"
        },
        {
          "output_type": "stream",
          "text": [
            " 12%|█▏        | 3270/27212 [32:10<3:55:17,  1.70it/s]"
          ],
          "name": "stderr"
        },
        {
          "output_type": "stream",
          "text": [
            "perfect!   \n",
            "Translation API returned the input string unchanged.\n"
          ],
          "name": "stdout"
        },
        {
          "output_type": "stream",
          "text": [
            " 12%|█▏        | 3272/27212 [32:11<4:28:52,  1.48it/s]"
          ],
          "name": "stderr"
        },
        {
          "output_type": "stream",
          "text": [
            "! \n",
            "Translation API returned the input string unchanged.\n"
          ],
          "name": "stdout"
        },
        {
          "output_type": "stream",
          "text": [
            " 12%|█▏        | 3281/27212 [32:17<4:05:32,  1.62it/s]"
          ],
          "name": "stderr"
        },
        {
          "output_type": "stream",
          "text": [
            "ME BOITHSE POLI ME TIN PERIPTOSI MOU\n",
            "Translation API returned the input string unchanged.\n"
          ],
          "name": "stdout"
        },
        {
          "output_type": "stream",
          "text": [
            " 12%|█▏        | 3310/27212 [32:34<3:52:11,  1.72it/s]"
          ],
          "name": "stderr"
        },
        {
          "output_type": "stream",
          "text": [
            "very good medical doctor, polite and knowledgeable\n",
            "Translation API returned the input string unchanged.\n"
          ],
          "name": "stdout"
        },
        {
          "output_type": "stream",
          "text": [
            " 12%|█▏        | 3360/27212 [33:04<3:50:49,  1.72it/s]"
          ],
          "name": "stderr"
        },
        {
          "output_type": "stream",
          "text": [
            "...\n",
            "Translation API returned the input string unchanged.\n"
          ],
          "name": "stdout"
        },
        {
          "output_type": "stream",
          "text": [
            " 13%|█▎        | 3403/27212 [33:29<3:41:51,  1.79it/s]"
          ],
          "name": "stderr"
        },
        {
          "output_type": "stream",
          "text": [
            "ola ok\n",
            "Translation API returned the input string unchanged.\n"
          ],
          "name": "stdout"
        },
        {
          "output_type": "stream",
          "text": [
            " 13%|█▎        | 3408/27212 [33:32<3:58:03,  1.67it/s]"
          ],
          "name": "stderr"
        },
        {
          "output_type": "stream",
          "text": [
            "Excellent!\n",
            "Translation API returned the input string unchanged.\n"
          ],
          "name": "stdout"
        },
        {
          "output_type": "stream",
          "text": [
            " 13%|█▎        | 3481/27212 [34:16<3:41:33,  1.79it/s]"
          ],
          "name": "stderr"
        },
        {
          "output_type": "stream",
          "text": [
            "poli kali giatros\n",
            "Translation API returned the input string unchanged.\n"
          ],
          "name": "stdout"
        },
        {
          "output_type": "stream",
          "text": [
            " 13%|█▎        | 3507/27212 [34:32<4:02:47,  1.63it/s]"
          ],
          "name": "stderr"
        },
        {
          "output_type": "stream",
          "text": [
            "Epaggelmatias\n",
            "Translation API returned the input string unchanged.\n"
          ],
          "name": "stdout"
        },
        {
          "output_type": "stream",
          "text": [
            "\r 13%|█▎        | 3508/27212 [34:33<4:50:09,  1.36it/s]"
          ],
          "name": "stderr"
        },
        {
          "output_type": "stream",
          "text": [
            "Kalos\n",
            "Translation API returned the input string unchanged.\n"
          ],
          "name": "stdout"
        },
        {
          "output_type": "stream",
          "text": [
            " 13%|█▎        | 3524/27212 [34:43<3:43:46,  1.76it/s]"
          ],
          "name": "stderr"
        },
        {
          "output_type": "stream",
          "text": [
            "Very impressed by doctor's professionalism. I definitely recommend him. \n",
            "Translation API returned the input string unchanged.\n"
          ],
          "name": "stdout"
        },
        {
          "output_type": "stream",
          "text": [
            " 13%|█▎        | 3535/27212 [34:50<4:06:54,  1.60it/s]"
          ],
          "name": "stderr"
        },
        {
          "output_type": "stream",
          "text": [
            "   .\n",
            "Translation API returned the input string unchanged.\n"
          ],
          "name": "stdout"
        },
        {
          "output_type": "stream",
          "text": [
            " 13%|█▎        | 3554/27212 [35:02<3:46:04,  1.74it/s]"
          ],
          "name": "stderr"
        },
        {
          "output_type": "stream",
          "text": [
            "Xxx\n",
            "Translation API returned the input string unchanged.\n"
          ],
          "name": "stdout"
        },
        {
          "output_type": "stream",
          "text": [
            " 13%|█▎        | 3601/27212 [35:30<3:57:30,  1.66it/s]"
          ],
          "name": "stderr"
        },
        {
          "output_type": "stream",
          "text": [
            "OLA MIA HARA\n",
            "Translation API returned the input string unchanged.\n"
          ],
          "name": "stdout"
        },
        {
          "output_type": "stream",
          "text": [
            " 13%|█▎        | 3613/27212 [35:37<4:00:26,  1.64it/s]"
          ],
          "name": "stderr"
        },
        {
          "output_type": "stream",
          "text": [
            "Thank you for your attention to detail ! \n",
            "Translation API returned the input string unchanged.\n"
          ],
          "name": "stdout"
        },
        {
          "output_type": "stream",
          "text": [
            " 13%|█▎        | 3619/27212 [35:41<3:55:45,  1.67it/s]"
          ],
          "name": "stderr"
        },
        {
          "output_type": "stream",
          "text": [
            "den vrika kati arnitiko\n",
            "Translation API returned the input string unchanged.\n"
          ],
          "name": "stdout"
        },
        {
          "output_type": "stream",
          "text": [
            " 14%|█▎        | 3709/27212 [36:35<3:42:03,  1.76it/s]"
          ],
          "name": "stderr"
        },
        {
          "output_type": "stream",
          "text": [
            ".....\n",
            "Translation API returned the input string unchanged.\n"
          ],
          "name": "stdout"
        },
        {
          "output_type": "stream",
          "text": [
            " 14%|█▍        | 3769/27212 [37:11<3:51:34,  1.69it/s]"
          ],
          "name": "stderr"
        },
        {
          "output_type": "stream",
          "text": [
            " . \n",
            "Translation API returned the input string unchanged.\n"
          ],
          "name": "stdout"
        },
        {
          "output_type": "stream",
          "text": [
            " 14%|█▍        | 3794/27212 [37:25<3:36:30,  1.80it/s]"
          ],
          "name": "stderr"
        },
        {
          "output_type": "stream",
          "text": [
            "Super\n",
            "Translation API returned the input string unchanged.\n"
          ],
          "name": "stdout"
        },
        {
          "output_type": "stream",
          "text": [
            " 14%|█▍        | 3799/27212 [37:29<4:09:21,  1.56it/s]"
          ],
          "name": "stderr"
        },
        {
          "output_type": "stream",
          "text": [
            "kanena parapono\n",
            "Translation API returned the input string unchanged.\n"
          ],
          "name": "stdout"
        },
        {
          "output_type": "stream",
          "text": [
            " 14%|█▍        | 3801/27212 [37:31<4:49:24,  1.35it/s]"
          ],
          "name": "stderr"
        },
        {
          "output_type": "stream",
          "text": [
            "Ola mia xara\n",
            "Translation API returned the input string unchanged.\n"
          ],
          "name": "stdout"
        },
        {
          "output_type": "stream",
          "text": [
            " 14%|█▍        | 3814/27212 [37:39<3:43:11,  1.75it/s]"
          ],
          "name": "stderr"
        },
        {
          "output_type": "stream",
          "text": [
            "I was able to converse in English which made things easier, a very pleasant visitation to a Dr willing to listen!\n",
            "Translation API returned the input string unchanged.\n"
          ],
          "name": "stdout"
        },
        {
          "output_type": "stream",
          "text": [
            " 14%|█▍        | 3823/27212 [37:45<3:56:11,  1.65it/s]"
          ],
          "name": "stderr"
        },
        {
          "output_type": "stream",
          "text": [
            "xxxx\n",
            "Translation API returned the input string unchanged.\n"
          ],
          "name": "stdout"
        },
        {
          "output_type": "stream",
          "text": [
            " 14%|█▍        | 3828/27212 [37:48<3:55:36,  1.65it/s]"
          ],
          "name": "stderr"
        },
        {
          "output_type": "stream",
          "text": [
            "legit\n",
            "Translation API returned the input string unchanged.\n"
          ],
          "name": "stdout"
        },
        {
          "output_type": "stream",
          "text": [
            " 14%|█▍        | 3841/27212 [37:56<3:53:22,  1.67it/s]"
          ],
          "name": "stderr"
        },
        {
          "output_type": "stream",
          "text": [
            "Kali epilogi\n",
            "Translation API returned the input string unchanged.\n"
          ],
          "name": "stdout"
        },
        {
          "output_type": "stream",
          "text": [
            " 14%|█▍        | 3879/27212 [38:19<3:51:32,  1.68it/s]"
          ],
          "name": "stderr"
        },
        {
          "output_type": "stream",
          "text": [
            "nai\n",
            "Translation API returned the input string unchanged.\n"
          ],
          "name": "stdout"
        },
        {
          "output_type": "stream",
          "text": [
            " 14%|█▍        | 3901/27212 [38:32<3:48:05,  1.70it/s]"
          ],
          "name": "stderr"
        },
        {
          "output_type": "stream",
          "text": [
            "polu enimeromenos kai aksios empistosinis\n",
            "Translation API returned the input string unchanged.\n"
          ],
          "name": "stdout"
        },
        {
          "output_type": "stream",
          "text": [
            " 14%|█▍        | 3934/27212 [38:51<3:40:45,  1.76it/s]"
          ],
          "name": "stderr"
        },
        {
          "output_type": "stream",
          "text": [
            "...\n",
            "Translation API returned the input string unchanged.\n"
          ],
          "name": "stdout"
        },
        {
          "output_type": "stream",
          "text": [
            " 15%|█▍        | 3953/27212 [39:03<3:46:40,  1.71it/s]"
          ],
          "name": "stderr"
        },
        {
          "output_type": "stream",
          "text": [
            "...\n",
            "Translation API returned the input string unchanged.\n"
          ],
          "name": "stdout"
        },
        {
          "output_type": "stream",
          "text": [
            " 15%|█▍        | 3984/27212 [39:21<3:44:26,  1.72it/s]"
          ],
          "name": "stderr"
        },
        {
          "output_type": "stream",
          "text": [
            "!!!\n",
            "Translation API returned the input string unchanged.\n"
          ],
          "name": "stdout"
        },
        {
          "output_type": "stream",
          "text": [
            " 15%|█▍        | 4064/27212 [40:08<3:43:43,  1.72it/s]"
          ],
          "name": "stderr"
        },
        {
          "output_type": "stream",
          "text": [
            " Ekseretiki\n",
            "Translation API returned the input string unchanged.\n"
          ],
          "name": "stdout"
        },
        {
          "output_type": "stream",
          "text": [
            " 15%|█▌        | 4087/27212 [40:22<3:48:47,  1.68it/s]"
          ],
          "name": "stderr"
        },
        {
          "output_type": "stream",
          "text": [
            ":-) \n",
            "Translation API returned the input string unchanged.\n"
          ],
          "name": "stdout"
        },
        {
          "output_type": "stream",
          "text": [
            " 15%|█▌        | 4106/27212 [40:34<3:52:00,  1.66it/s]"
          ],
          "name": "stderr"
        },
        {
          "output_type": "stream",
          "text": [
            "Highly recommended!\n",
            "Translation API returned the input string unchanged.\n"
          ],
          "name": "stdout"
        },
        {
          "output_type": "stream",
          "text": [
            " 15%|█▌        | 4128/27212 [40:47<3:42:28,  1.73it/s]"
          ],
          "name": "stderr"
        },
        {
          "output_type": "stream",
          "text": [
            "*****\n",
            "Translation API returned the input string unchanged.\n"
          ],
          "name": "stdout"
        },
        {
          "output_type": "stream",
          "text": [
            " 15%|█▌        | 4137/27212 [40:52<3:46:02,  1.70it/s]"
          ],
          "name": "stderr"
        },
        {
          "output_type": "stream",
          "text": [
            "Epaggelmatiko Kai euprosito perivallon\n",
            "Translation API returned the input string unchanged.\n"
          ],
          "name": "stdout"
        },
        {
          "output_type": "stream",
          "text": [
            " 15%|█▌        | 4194/27212 [41:26<3:39:09,  1.75it/s]"
          ],
          "name": "stderr"
        },
        {
          "output_type": "stream",
          "text": [
            " Ola ok\n",
            "Translation API returned the input string unchanged.\n"
          ],
          "name": "stdout"
        },
        {
          "output_type": "stream",
          "text": [
            " 16%|█▌        | 4228/27212 [41:46<3:43:27,  1.71it/s]"
          ],
          "name": "stderr"
        },
        {
          "output_type": "stream",
          "text": [
            "....\n",
            "Translation API returned the input string unchanged.\n"
          ],
          "name": "stdout"
        },
        {
          "output_type": "stream",
          "text": [
            " 16%|█▌        | 4235/27212 [41:51<3:55:33,  1.63it/s]"
          ],
          "name": "stderr"
        },
        {
          "output_type": "stream",
          "text": [
            "10!\n",
            "Translation API returned the input string unchanged.\n"
          ],
          "name": "stdout"
        },
        {
          "output_type": "stream",
          "text": [
            " 16%|█▌        | 4243/27212 [41:56<3:50:20,  1.66it/s]"
          ],
          "name": "stderr"
        },
        {
          "output_type": "stream",
          "text": [
            "Ola kala\n",
            "Translation API returned the input string unchanged.\n"
          ],
          "name": "stdout"
        },
        {
          "output_type": "stream",
          "text": [
            " 16%|█▌        | 4259/27212 [42:06<3:39:53,  1.74it/s]"
          ],
          "name": "stderr"
        },
        {
          "output_type": "stream",
          "text": [
            "!!!!!!!😊\n",
            "Translation API returned the input string unchanged.\n"
          ],
          "name": "stdout"
        },
        {
          "output_type": "stream",
          "text": [
            " 16%|█▌        | 4323/27212 [42:43<3:49:19,  1.66it/s]"
          ],
          "name": "stderr"
        },
        {
          "output_type": "stream",
          "text": [
            "Lovely visit, very comfortable and nice environment. Long wait!!\n",
            "Translation API returned the input string unchanged.\n"
          ],
          "name": "stdout"
        },
        {
          "output_type": "stream",
          "text": [
            " 16%|█▌        | 4325/27212 [42:45<4:30:12,  1.41it/s]"
          ],
          "name": "stderr"
        },
        {
          "output_type": "stream",
          "text": [
            "poly kalos se ola \n",
            "Translation API returned the input string unchanged.\n"
          ],
          "name": "stdout"
        },
        {
          "output_type": "stream",
          "text": [
            "\r 16%|█▌        | 4326/27212 [42:46<5:15:27,  1.21it/s]"
          ],
          "name": "stderr"
        },
        {
          "output_type": "stream",
          "text": [
            "Verry gouda\n",
            "Translation API returned the input string unchanged.\n"
          ],
          "name": "stdout"
        },
        {
          "output_type": "stream",
          "text": [
            " 16%|█▌        | 4357/27212 [43:07<3:52:55,  1.64it/s]"
          ],
          "name": "stderr"
        },
        {
          "output_type": "stream",
          "text": [
            "!!!!!!!\n",
            "Translation API returned the input string unchanged.\n"
          ],
          "name": "stdout"
        },
        {
          "output_type": "stream",
          "text": [
            " 16%|█▌        | 4374/27212 [43:17<3:35:34,  1.77it/s]"
          ],
          "name": "stderr"
        },
        {
          "output_type": "stream",
          "text": [
            "A Good Doctor, I Would recommend him to my freinds\n",
            "Translation API returned the input string unchanged.\n"
          ],
          "name": "stdout"
        },
        {
          "output_type": "stream",
          "text": [
            " 16%|█▌        | 4380/27212 [43:21<3:59:12,  1.59it/s]"
          ],
          "name": "stderr"
        },
        {
          "output_type": "stream",
          "text": [
            "POLY KALOS GIATROS PROSITOS K KONTA STON ASTHENI\n",
            "Translation API returned the input string unchanged.\n"
          ],
          "name": "stdout"
        },
        {
          "output_type": "stream",
          "text": [
            " 16%|█▌        | 4416/27212 [43:42<3:55:02,  1.62it/s]"
          ],
          "name": "stderr"
        },
        {
          "output_type": "stream",
          "text": [
            "Mia xara.\n",
            "Translation API returned the input string unchanged.\n"
          ],
          "name": "stdout"
        },
        {
          "output_type": "stream",
          "text": [
            " 16%|█▋        | 4475/27212 [44:17<3:36:46,  1.75it/s]"
          ],
          "name": "stderr"
        },
        {
          "output_type": "stream",
          "text": [
            "Ola kala..Tin synistw \n",
            "Translation API returned the input string unchanged.\n"
          ],
          "name": "stdout"
        },
        {
          "output_type": "stream",
          "text": [
            " 16%|█▋        | 4486/27212 [44:24<3:39:49,  1.72it/s]"
          ],
          "name": "stderr"
        },
        {
          "output_type": "stream",
          "text": [
            "Thanks \n",
            "Translation API returned the input string unchanged.\n"
          ],
          "name": "stdout"
        },
        {
          "output_type": "stream",
          "text": [
            " 17%|█▋        | 4515/27212 [44:41<3:26:38,  1.83it/s]"
          ],
          "name": "stderr"
        },
        {
          "output_type": "stream",
          "text": [
            " - \n",
            "Translation API returned the input string unchanged.\n"
          ],
          "name": "stdout"
        },
        {
          "output_type": "stream",
          "text": [
            " 17%|█▋        | 4531/27212 [44:51<3:40:02,  1.72it/s]"
          ],
          "name": "stderr"
        },
        {
          "output_type": "stream",
          "text": [
            "Good Doctor\n",
            "Translation API returned the input string unchanged.\n"
          ],
          "name": "stdout"
        },
        {
          "output_type": "stream",
          "text": [
            " 17%|█▋        | 4534/27212 [44:53<4:07:26,  1.53it/s]"
          ],
          "name": "stderr"
        },
        {
          "output_type": "stream",
          "text": [
            "JNJK\n",
            "Translation API returned the input string unchanged.\n"
          ],
          "name": "stdout"
        },
        {
          "output_type": "stream",
          "text": [
            " 17%|█▋        | 4557/27212 [45:07<3:28:44,  1.81it/s]"
          ],
          "name": "stderr"
        },
        {
          "output_type": "stream",
          "text": [
            "Einai prositos ton systinw se osous exoun provlima\n",
            "Translation API returned the input string unchanged.\n"
          ],
          "name": "stdout"
        },
        {
          "output_type": "stream",
          "text": [
            " 17%|█▋        | 4573/27212 [45:17<3:38:45,  1.72it/s]"
          ],
          "name": "stderr"
        },
        {
          "output_type": "stream",
          "text": [
            "poly kalos\n",
            "Translation API returned the input string unchanged.\n"
          ],
          "name": "stdout"
        },
        {
          "output_type": "stream",
          "text": [
            " 17%|█▋        | 4580/27212 [45:21<3:47:43,  1.66it/s]"
          ],
          "name": "stderr"
        },
        {
          "output_type": "stream",
          "text": [
            "Mia xara\n",
            "Translation API returned the input string unchanged.\n"
          ],
          "name": "stdout"
        },
        {
          "output_type": "stream",
          "text": [
            " 17%|█▋        | 4601/27212 [45:34<3:41:04,  1.70it/s]"
          ],
          "name": "stderr"
        },
        {
          "output_type": "stream",
          "text": [
            "Poly kali kai stin timh\n",
            "Translation API returned the input string unchanged.\n"
          ],
          "name": "stdout"
        },
        {
          "output_type": "stream",
          "text": [
            " 17%|█▋        | 4607/27212 [45:38<3:58:28,  1.58it/s]"
          ],
          "name": "stderr"
        },
        {
          "output_type": "stream",
          "text": [
            "einai deuteri episkepsi mou meta apo ena xrono, ksanapiga giati maresei san anthropos kai fisika exei megali empiria, vazo polla like\n",
            "Translation API returned the input string unchanged.\n"
          ],
          "name": "stdout"
        },
        {
          "output_type": "stream",
          "text": [
            " 17%|█▋        | 4722/27212 [46:46<3:36:31,  1.73it/s]"
          ],
          "name": "stderr"
        },
        {
          "output_type": "stream",
          "text": [
            "                                                                                                                                                                                                                                                                                                                                                                                                                                                                                                                                                                                                                                                                                                                                                                                                                                                                                                                                                                                                                                                                                                                                                                                                                                                                                     .\n",
            "Translation API returned the input string unchanged.\n"
          ],
          "name": "stdout"
        },
        {
          "output_type": "stream",
          "text": [
            " 17%|█▋        | 4758/27212 [47:08<3:50:25,  1.62it/s]"
          ],
          "name": "stderr"
        },
        {
          "output_type": "stream",
          "text": [
            "ola kala\n",
            "Translation API returned the input string unchanged.\n"
          ],
          "name": "stdout"
        },
        {
          "output_type": "stream",
          "text": [
            " 18%|█▊        | 4784/27212 [47:24<3:45:08,  1.66it/s]"
          ],
          "name": "stderr"
        },
        {
          "output_type": "stream",
          "text": [
            "Mia xara\n",
            "Translation API returned the input string unchanged.\n"
          ],
          "name": "stdout"
        },
        {
          "output_type": "stream",
          "text": [
            " 18%|█▊        | 4850/27212 [48:03<3:41:31,  1.68it/s]"
          ],
          "name": "stderr"
        },
        {
          "output_type": "stream",
          "text": [
            "kalh\n",
            "Translation API returned the input string unchanged.\n"
          ],
          "name": "stdout"
        },
        {
          "output_type": "stream",
          "text": [
            " 18%|█▊        | 4852/27212 [48:04<4:19:10,  1.44it/s]"
          ],
          "name": "stderr"
        },
        {
          "output_type": "stream",
          "text": [
            "---\n",
            "Translation API returned the input string unchanged.\n"
          ],
          "name": "stdout"
        },
        {
          "output_type": "stream",
          "text": [
            " 18%|█▊        | 4862/27212 [48:11<3:32:38,  1.75it/s]"
          ],
          "name": "stderr"
        },
        {
          "output_type": "stream",
          "text": [
            "10!\n",
            "Translation API returned the input string unchanged.\n"
          ],
          "name": "stdout"
        },
        {
          "output_type": "stream",
          "text": [
            " 18%|█▊        | 4898/27212 [48:32<3:32:15,  1.75it/s]"
          ],
          "name": "stderr"
        },
        {
          "output_type": "stream",
          "text": [
            "ola pigan poli kala.\n",
            "Translation API returned the input string unchanged.\n"
          ],
          "name": "stdout"
        },
        {
          "output_type": "stream",
          "text": [
            " 18%|█▊        | 4928/27212 [48:49<3:37:38,  1.71it/s]"
          ],
          "name": "stderr"
        },
        {
          "output_type": "stream",
          "text": [
            " yhu\n",
            "Translation API returned the input string unchanged.\n"
          ],
          "name": "stdout"
        },
        {
          "output_type": "stream",
          "text": [
            " 18%|█▊        | 4930/27212 [48:51<4:19:58,  1.43it/s]"
          ],
          "name": "stderr"
        },
        {
          "output_type": "stream",
          "text": [
            ".....\n",
            "Translation API returned the input string unchanged.\n"
          ],
          "name": "stdout"
        },
        {
          "output_type": "stream",
          "text": [
            " 18%|█▊        | 4961/27212 [49:09<3:30:46,  1.76it/s]"
          ],
          "name": "stderr"
        },
        {
          "output_type": "stream",
          "text": [
            "Ola ok \n",
            "Translation API returned the input string unchanged.\n"
          ],
          "name": "stdout"
        },
        {
          "output_type": "stream",
          "text": [
            " 18%|█▊        | 4973/27212 [49:17<3:38:33,  1.70it/s]"
          ],
          "name": "stderr"
        },
        {
          "output_type": "stream",
          "text": [
            " . \n",
            "Translation API returned the input string unchanged.\n"
          ],
          "name": "stdout"
        },
        {
          "output_type": "stream",
          "text": [
            " 18%|█▊        | 4979/27212 [49:20<3:40:48,  1.68it/s]"
          ],
          "name": "stderr"
        },
        {
          "output_type": "stream",
          "text": [
            "...\n",
            "Translation API returned the input string unchanged.\n"
          ],
          "name": "stdout"
        },
        {
          "output_type": "stream",
          "text": [
            " 18%|█▊        | 4981/27212 [49:22<4:14:28,  1.46it/s]"
          ],
          "name": "stderr"
        },
        {
          "output_type": "stream",
          "text": [
            "!!!\n",
            "Translation API returned the input string unchanged.\n"
          ],
          "name": "stdout"
        },
        {
          "output_type": "stream",
          "text": [
            " 18%|█▊        | 5006/27212 [49:37<3:23:00,  1.82it/s]"
          ],
          "name": "stderr"
        },
        {
          "output_type": "stream",
          "text": [
            "hremos me empeiria ton protinw.\n",
            "Translation API returned the input string unchanged.\n"
          ],
          "name": "stdout"
        },
        {
          "output_type": "stream",
          "text": [
            " 18%|█▊        | 5012/27212 [49:41<3:47:38,  1.63it/s]"
          ],
          "name": "stderr"
        },
        {
          "output_type": "stream",
          "text": [
            "Thn susthnw anepifulakta !!\n",
            "Translation API returned the input string unchanged.\n"
          ],
          "name": "stdout"
        },
        {
          "output_type": "stream",
          "text": [
            " 19%|█▊        | 5047/27212 [50:02<3:40:30,  1.68it/s]"
          ],
          "name": "stderr"
        },
        {
          "output_type": "stream",
          "text": [
            "*****\n",
            "Translation API returned the input string unchanged.\n"
          ],
          "name": "stdout"
        },
        {
          "output_type": "stream",
          "text": [
            " 19%|█▉        | 5146/27212 [51:00<3:39:26,  1.68it/s]"
          ],
          "name": "stderr"
        },
        {
          "output_type": "stream",
          "text": [
            " Polu kalos kai me upomonh \n",
            "Translation API returned the input string unchanged.\n"
          ],
          "name": "stdout"
        },
        {
          "output_type": "stream",
          "text": [
            " 19%|█▉        | 5193/27212 [51:28<3:37:53,  1.68it/s]"
          ],
          "name": "stderr"
        },
        {
          "output_type": "stream",
          "text": [
            "Aristos!\n",
            "Translation API returned the input string unchanged.\n"
          ],
          "name": "stdout"
        },
        {
          "output_type": "stream",
          "text": [
            " 19%|█▉        | 5202/27212 [51:33<3:33:35,  1.72it/s]"
          ],
          "name": "stderr"
        },
        {
          "output_type": "stream",
          "text": [
            "No comments\n",
            "Translation API returned the input string unchanged.\n"
          ],
          "name": "stdout"
        },
        {
          "output_type": "stream",
          "text": [
            " 19%|█▉        | 5269/27212 [52:13<3:31:55,  1.73it/s]"
          ],
          "name": "stderr"
        },
        {
          "output_type": "stream",
          "text": [
            "fdg\n",
            "Translation API returned the input string unchanged.\n"
          ],
          "name": "stdout"
        },
        {
          "output_type": "stream",
          "text": [
            " 19%|█▉        | 5277/27212 [52:18<3:41:24,  1.65it/s]"
          ],
          "name": "stderr"
        },
        {
          "output_type": "stream",
          "text": [
            "Poly kalos giatros, m ekane na niwsw aneta k poly volika thn wra ths eksetashs. \n",
            "Translation API returned the input string unchanged.\n"
          ],
          "name": "stdout"
        },
        {
          "output_type": "stream",
          "text": [
            " 19%|█▉        | 5293/27212 [52:28<3:35:30,  1.70it/s]"
          ],
          "name": "stderr"
        },
        {
          "output_type": "stream",
          "text": [
            "A good Doctor\n",
            "Translation API returned the input string unchanged.\n"
          ],
          "name": "stdout"
        },
        {
          "output_type": "stream",
          "text": [
            " 20%|█▉        | 5419/27212 [53:41<3:39:50,  1.65it/s]"
          ],
          "name": "stderr"
        },
        {
          "output_type": "stream",
          "text": [
            "!!!\n",
            "Translation API returned the input string unchanged.\n"
          ],
          "name": "stdout"
        },
        {
          "output_type": "stream",
          "text": [
            " 20%|█▉        | 5433/27212 [53:50<3:34:38,  1.69it/s]"
          ],
          "name": "stderr"
        },
        {
          "output_type": "stream",
          "text": [
            "Poly epangelmatias\n",
            "Translation API returned the input string unchanged.\n"
          ],
          "name": "stdout"
        },
        {
          "output_type": "stream",
          "text": [
            " 20%|██        | 5447/27212 [53:59<3:36:50,  1.67it/s]"
          ],
          "name": "stderr"
        },
        {
          "output_type": "stream",
          "text": [
            "Polu kalos. Bohthhse kai h parousia ths bohthou.\n",
            "Translation API returned the input string unchanged.\n"
          ],
          "name": "stdout"
        },
        {
          "output_type": "stream",
          "text": [
            " 20%|██        | 5532/27212 [54:48<3:33:30,  1.69it/s]"
          ],
          "name": "stderr"
        },
        {
          "output_type": "stream",
          "text": [
            "--------\n",
            "Translation API returned the input string unchanged.\n"
          ],
          "name": "stdout"
        },
        {
          "output_type": "stream",
          "text": [
            " 21%|██        | 5616/27212 [55:37<3:30:39,  1.71it/s]"
          ],
          "name": "stderr"
        },
        {
          "output_type": "stream",
          "text": [
            "Super ! :) \n",
            "Translation API returned the input string unchanged.\n"
          ],
          "name": "stdout"
        },
        {
          "output_type": "stream",
          "text": [
            " 21%|██        | 5643/27212 [55:54<3:27:12,  1.73it/s]"
          ],
          "name": "stderr"
        },
        {
          "output_type": "stream",
          "text": [
            "An kai piga gia enan aplo katharismo, emeina para polu euxaristimeni! O giatros itan polu epikoinwniakos kai filikos kai sigoura mou enepneuse embistosuni\n",
            "Translation API returned the input string unchanged.\n"
          ],
          "name": "stdout"
        },
        {
          "output_type": "stream",
          "text": [
            " 21%|██        | 5649/27212 [55:58<3:37:00,  1.66it/s]"
          ],
          "name": "stderr"
        },
        {
          "output_type": "stream",
          "text": [
            "ola ok\n",
            "Translation API returned the input string unchanged.\n"
          ],
          "name": "stdout"
        },
        {
          "output_type": "stream",
          "text": [
            " 21%|██        | 5681/27212 [56:16<3:15:18,  1.84it/s]"
          ],
          "name": "stderr"
        },
        {
          "output_type": "stream",
          "text": [
            "Ola Kalà\n",
            "Translation API returned the input string unchanged.\n"
          ],
          "name": "stdout"
        },
        {
          "output_type": "stream",
          "text": [
            "\r 21%|██        | 5682/27212 [56:17<4:13:45,  1.41it/s]"
          ],
          "name": "stderr"
        },
        {
          "output_type": "stream",
          "text": [
            "Kalos giatros!\n",
            "Translation API returned the input string unchanged.\n"
          ],
          "name": "stdout"
        },
        {
          "output_type": "stream",
          "text": [
            "\r 21%|██        | 5683/27212 [56:18<4:54:30,  1.22it/s]"
          ],
          "name": "stderr"
        },
        {
          "output_type": "stream",
          "text": [
            "Polu kalos giatros. \n",
            "Translation API returned the input string unchanged.\n"
          ],
          "name": "stdout"
        },
        {
          "output_type": "stream",
          "text": [
            " 21%|██        | 5704/27212 [56:31<3:24:39,  1.75it/s]"
          ],
          "name": "stderr"
        },
        {
          "output_type": "stream",
          "text": [
            "Thank you so much \n",
            "Translation API returned the input string unchanged.\n"
          ],
          "name": "stdout"
        },
        {
          "output_type": "stream",
          "text": [
            " 21%|██        | 5736/27212 [56:50<3:31:57,  1.69it/s]"
          ],
          "name": "stderr"
        },
        {
          "output_type": "stream",
          "text": [
            "Kalos\n",
            "Translation API returned the input string unchanged.\n"
          ],
          "name": "stdout"
        },
        {
          "output_type": "stream",
          "text": [
            "\r 21%|██        | 5737/27212 [56:51<4:16:57,  1.39it/s]"
          ],
          "name": "stderr"
        },
        {
          "output_type": "stream",
          "text": [
            "Ola Kala ektos oti perimena Mia Ora parapano Gia tin I sira mou\n",
            "Translation API returned the input string unchanged.\n"
          ],
          "name": "stdout"
        },
        {
          "output_type": "stream",
          "text": [
            " 21%|██        | 5767/27212 [57:09<3:33:55,  1.67it/s]"
          ],
          "name": "stderr"
        },
        {
          "output_type": "stream",
          "text": [
            "!!!\n",
            "Translation API returned the input string unchanged.\n"
          ],
          "name": "stdout"
        },
        {
          "output_type": "stream",
          "text": [
            " 21%|██▏       | 5790/27212 [57:22<3:26:17,  1.73it/s]"
          ],
          "name": "stderr"
        },
        {
          "output_type": "stream",
          "text": [
            "Poli prositos kai eksigouse poli kala an iparxei logos anisixias & epomena vimata\n",
            "Translation API returned the input string unchanged.\n"
          ],
          "name": "stdout"
        },
        {
          "output_type": "stream",
          "text": [
            " 21%|██▏       | 5833/27212 [57:48<3:37:54,  1.64it/s]"
          ],
          "name": "stderr"
        },
        {
          "output_type": "stream",
          "text": [
            "thank you very much\n",
            "Translation API returned the input string unchanged.\n"
          ],
          "name": "stdout"
        },
        {
          "output_type": "stream",
          "text": [
            " 22%|██▏       | 5905/27212 [58:31<3:32:02,  1.67it/s]"
          ],
          "name": "stderr"
        },
        {
          "output_type": "stream",
          "text": [
            "Eksairetikos\n",
            "Translation API returned the input string unchanged.\n"
          ],
          "name": "stdout"
        },
        {
          "output_type": "stream",
          "text": [
            " 22%|██▏       | 6008/27212 [59:32<3:28:40,  1.69it/s]"
          ],
          "name": "stderr"
        },
        {
          "output_type": "stream",
          "text": [
            "telia\n",
            "Translation API returned the input string unchanged.\n"
          ],
          "name": "stdout"
        },
        {
          "output_type": "stream",
          "text": [
            " 22%|██▏       | 6020/27212 [59:40<3:33:40,  1.65it/s]"
          ],
          "name": "stderr"
        },
        {
          "output_type": "stream",
          "text": [
            "Eine axristi.Poli kako.\n",
            "Translation API returned the input string unchanged.\n"
          ],
          "name": "stdout"
        },
        {
          "output_type": "stream",
          "text": [
            "\r 22%|██▏       | 6021/27212 [59:41<4:26:03,  1.33it/s]"
          ],
          "name": "stderr"
        },
        {
          "output_type": "stream",
          "text": [
            "Poli kalos\n",
            "Translation API returned the input string unchanged.\n"
          ],
          "name": "stdout"
        },
        {
          "output_type": "stream",
          "text": [
            " 22%|██▏       | 6025/27212 [59:44<4:02:09,  1.46it/s]"
          ],
          "name": "stderr"
        },
        {
          "output_type": "stream",
          "text": [
            "polu kali giatros.\n",
            "Translation API returned the input string unchanged.\n"
          ],
          "name": "stdout"
        },
        {
          "output_type": "stream",
          "text": [
            " 22%|██▏       | 6067/27212 [1:00:09<3:23:51,  1.73it/s]"
          ],
          "name": "stderr"
        },
        {
          "output_type": "stream",
          "text": [
            "Apsogi!\n",
            "Translation API returned the input string unchanged.\n"
          ],
          "name": "stdout"
        },
        {
          "output_type": "stream",
          "text": [
            " 23%|██▎       | 6151/27212 [1:00:59<3:27:31,  1.69it/s]"
          ],
          "name": "stderr"
        },
        {
          "output_type": "stream",
          "text": [
            "Den eimai kai polu euxaristhmenh.\n",
            "Translation API returned the input string unchanged.\n"
          ],
          "name": "stdout"
        },
        {
          "output_type": "stream",
          "text": [
            " 23%|██▎       | 6169/27212 [1:01:10<3:27:54,  1.69it/s]"
          ],
          "name": "stderr"
        },
        {
          "output_type": "stream",
          "text": [
            ".................\n",
            "Translation API returned the input string unchanged.\n"
          ],
          "name": "stdout"
        },
        {
          "output_type": "stream",
          "text": [
            " 23%|██▎       | 6268/27212 [1:02:08<3:21:57,  1.73it/s]"
          ],
          "name": "stderr"
        },
        {
          "output_type": "stream",
          "text": [
            "👍👍👍\n",
            "Translation API returned the input string unchanged.\n"
          ],
          "name": "stdout"
        },
        {
          "output_type": "stream",
          "text": [
            " 23%|██▎       | 6293/27212 [1:02:22<3:29:42,  1.66it/s]"
          ],
          "name": "stderr"
        },
        {
          "output_type": "stream",
          "text": [
            "UHOIHU\n",
            "Translation API returned the input string unchanged.\n"
          ],
          "name": "stdout"
        },
        {
          "output_type": "stream",
          "text": [
            " 23%|██▎       | 6299/27212 [1:02:26<3:31:27,  1.65it/s]"
          ],
          "name": "stderr"
        },
        {
          "output_type": "stream",
          "text": [
            "poli kali\n",
            "Translation API returned the input string unchanged.\n"
          ],
          "name": "stdout"
        },
        {
          "output_type": "stream",
          "text": [
            " 23%|██▎       | 6302/27212 [1:02:29<3:50:22,  1.51it/s]"
          ],
          "name": "stderr"
        },
        {
          "output_type": "stream",
          "text": [
            "----\n",
            "Translation API returned the input string unchanged.\n"
          ],
          "name": "stdout"
        },
        {
          "output_type": "stream",
          "text": [
            " 24%|██▎       | 6406/27212 [1:03:29<3:17:45,  1.75it/s]"
          ],
          "name": "stderr"
        },
        {
          "output_type": "stream",
          "text": [
            "Experienced psychotherapist who definitely knows his work. Recommended \n",
            "Translation API returned the input string unchanged.\n"
          ],
          "name": "stdout"
        },
        {
          "output_type": "stream",
          "text": [
            " 24%|██▎       | 6431/27212 [1:03:44<3:16:55,  1.76it/s]"
          ],
          "name": "stderr"
        },
        {
          "output_type": "stream",
          "text": [
            "Efxaristo\n",
            "Translation API returned the input string unchanged.\n"
          ],
          "name": "stdout"
        },
        {
          "output_type": "stream",
          "text": [
            " 24%|██▎       | 6437/27212 [1:03:48<3:30:07,  1.65it/s]"
          ],
          "name": "stderr"
        },
        {
          "output_type": "stream",
          "text": [
            "TOP !!!!!!!!!!!!\n",
            "Translation API returned the input string unchanged.\n"
          ],
          "name": "stdout"
        },
        {
          "output_type": "stream",
          "text": [
            " 24%|██▍       | 6466/27212 [1:04:05<3:20:52,  1.72it/s]"
          ],
          "name": "stderr"
        },
        {
          "output_type": "stream",
          "text": [
            ".........\n",
            "Translation API returned the input string unchanged.\n"
          ],
          "name": "stdout"
        },
        {
          "output_type": "stream",
          "text": [
            " 24%|██▍       | 6474/27212 [1:04:10<3:20:12,  1.73it/s]"
          ],
          "name": "stderr"
        },
        {
          "output_type": "stream",
          "text": [
            "Asxoleithike me thn periptosh moy me leptomeries kai rose safeis odhgeies. Thn synhsto anepyfhlakta.\n",
            "Translation API returned the input string unchanged.\n"
          ],
          "name": "stdout"
        },
        {
          "output_type": "stream",
          "text": [
            " 24%|██▍       | 6538/27212 [1:04:48<3:11:20,  1.80it/s]"
          ],
          "name": "stderr"
        },
        {
          "output_type": "stream",
          "text": [
            "Very thorough examination.\n",
            "Translation API returned the input string unchanged.\n"
          ],
          "name": "stdout"
        },
        {
          "output_type": "stream",
          "text": [
            " 24%|██▍       | 6545/27212 [1:04:52<3:28:59,  1.65it/s]"
          ],
          "name": "stderr"
        },
        {
          "output_type": "stream",
          "text": [
            "Mpla mpla mpla\n",
            "Translation API returned the input string unchanged.\n"
          ],
          "name": "stdout"
        },
        {
          "output_type": "stream",
          "text": [
            " 24%|██▍       | 6558/27212 [1:05:00<3:25:52,  1.67it/s]"
          ],
          "name": "stderr"
        },
        {
          "output_type": "stream",
          "text": [
            "Eugenestatos k sovaros giatros.\n",
            "Translation API returned the input string unchanged.\n"
          ],
          "name": "stdout"
        },
        {
          "output_type": "stream",
          "text": [
            " 24%|██▍       | 6579/27212 [1:05:13<3:13:33,  1.78it/s]"
          ],
          "name": "stderr"
        },
        {
          "output_type": "stream",
          "text": [
            "teleiaaaa\n",
            "Translation API returned the input string unchanged.\n"
          ],
          "name": "stdout"
        },
        {
          "output_type": "stream",
          "text": [
            " 24%|██▍       | 6593/27212 [1:05:21<3:10:52,  1.80it/s]"
          ],
          "name": "stderr"
        },
        {
          "output_type": "stream",
          "text": [
            "Ok.\n",
            "Translation API returned the input string unchanged.\n"
          ],
          "name": "stdout"
        },
        {
          "output_type": "stream",
          "text": [
            " 25%|██▍       | 6708/27212 [1:06:30<3:14:12,  1.76it/s]"
          ],
          "name": "stderr"
        },
        {
          "output_type": "stream",
          "text": [
            "top!!\n",
            "Translation API returned the input string unchanged.\n"
          ],
          "name": "stdout"
        },
        {
          "output_type": "stream",
          "text": [
            " 25%|██▍       | 6761/27212 [1:07:01<3:17:16,  1.73it/s]"
          ],
          "name": "stderr"
        },
        {
          "output_type": "stream",
          "text": [
            "....\n",
            "Translation API returned the input string unchanged.\n"
          ],
          "name": "stdout"
        },
        {
          "output_type": "stream",
          "text": [
            " 25%|██▍       | 6775/27212 [1:07:10<3:20:31,  1.70it/s]"
          ],
          "name": "stderr"
        },
        {
          "output_type": "stream",
          "text": [
            "ola ok\n",
            "Translation API returned the input string unchanged.\n"
          ],
          "name": "stdout"
        },
        {
          "output_type": "stream",
          "text": [
            " 25%|██▍       | 6801/27212 [1:07:25<3:19:29,  1.71it/s]"
          ],
          "name": "stderr"
        },
        {
          "output_type": "stream",
          "text": [
            "Poly kalos\n",
            "Translation API returned the input string unchanged.\n"
          ],
          "name": "stdout"
        },
        {
          "output_type": "stream",
          "text": [
            " 25%|██▌       | 6852/27212 [1:07:55<3:14:14,  1.75it/s]"
          ],
          "name": "stderr"
        },
        {
          "output_type": "stream",
          "text": [
            "A very friendly and really caring doctor. \n",
            "Translation API returned the input string unchanged.\n"
          ],
          "name": "stdout"
        },
        {
          "output_type": "stream",
          "text": [
            " 25%|██▌       | 6898/27212 [1:08:22<3:20:47,  1.69it/s]"
          ],
          "name": "stderr"
        },
        {
          "output_type": "stream",
          "text": [
            "Se ekane na aisthaneis aneta, safhs, endelexhs exetash, filikh, synephs\n",
            "Translation API returned the input string unchanged.\n"
          ],
          "name": "stdout"
        },
        {
          "output_type": "stream",
          "text": [
            "\r 25%|██▌       | 6899/27212 [1:08:23<4:11:33,  1.35it/s]"
          ],
          "name": "stderr"
        },
        {
          "output_type": "stream",
          "text": [
            "ligo pio kathara na douleue tha itan kalutera \n",
            "Translation API returned the input string unchanged.\n"
          ],
          "name": "stdout"
        },
        {
          "output_type": "stream",
          "text": [
            " 25%|██▌       | 6906/27212 [1:08:28<3:29:12,  1.62it/s]"
          ],
          "name": "stderr"
        },
        {
          "output_type": "stream",
          "text": [
            "Best doctor in the world!\n",
            "Translation API returned the input string unchanged.\n"
          ],
          "name": "stdout"
        },
        {
          "output_type": "stream",
          "text": [
            " 25%|██▌       | 6923/27212 [1:08:38<3:12:36,  1.76it/s]"
          ],
          "name": "stderr"
        },
        {
          "output_type": "stream",
          "text": [
            "poly kalos\n",
            "Translation API returned the input string unchanged.\n"
          ],
          "name": "stdout"
        },
        {
          "output_type": "stream",
          "text": [
            " 26%|██▌       | 6961/27212 [1:09:01<3:51:37,  1.46it/s]"
          ],
          "name": "stderr"
        },
        {
          "output_type": "stream",
          "text": [
            "....\n",
            "Translation API returned the input string unchanged.\n"
          ],
          "name": "stdout"
        },
        {
          "output_type": "stream",
          "text": [
            " 26%|██▌       | 6998/27212 [1:09:23<3:14:22,  1.73it/s]"
          ],
          "name": "stderr"
        },
        {
          "output_type": "stream",
          "text": [
            "Kalos \n",
            "Translation API returned the input string unchanged.\n"
          ],
          "name": "stdout"
        },
        {
          "output_type": "stream",
          "text": [
            " 26%|██▌       | 7092/27212 [1:10:18<3:15:43,  1.71it/s]"
          ],
          "name": "stderr"
        },
        {
          "output_type": "stream",
          "text": [
            "Nothing else\n",
            "Translation API returned the input string unchanged.\n"
          ],
          "name": "stdout"
        },
        {
          "output_type": "stream",
          "text": [
            " 26%|██▌       | 7107/27212 [1:10:27<3:21:05,  1.67it/s]"
          ],
          "name": "stderr"
        },
        {
          "output_type": "stream",
          "text": [
            "Πποκ\n",
            "Translation API returned the input string unchanged.\n"
          ],
          "name": "stdout"
        },
        {
          "output_type": "stream",
          "text": [
            " 26%|██▌       | 7127/27212 [1:10:40<3:19:20,  1.68it/s]"
          ],
          "name": "stderr"
        },
        {
          "output_type": "stream",
          "text": [
            "sas efxarosto\n",
            "Translation API returned the input string unchanged.\n"
          ],
          "name": "stdout"
        },
        {
          "output_type": "stream",
          "text": [
            " 26%|██▋       | 7209/27212 [1:11:28<3:19:12,  1.67it/s]"
          ],
          "name": "stderr"
        },
        {
          "output_type": "stream",
          "text": [
            "Very professional. Made me feel comfortable.\n",
            "Translation API returned the input string unchanged.\n"
          ],
          "name": "stdout"
        },
        {
          "output_type": "stream",
          "text": [
            " 27%|██▋       | 7221/27212 [1:11:35<3:18:26,  1.68it/s]"
          ],
          "name": "stderr"
        },
        {
          "output_type": "stream",
          "text": [
            "ΑΨΟΓΟΣ !!!!!!!!!!!!!!!!\n",
            "Translation API returned the input string unchanged.\n"
          ],
          "name": "stdout"
        },
        {
          "output_type": "stream",
          "text": [
            " 27%|██▋       | 7275/27212 [1:12:07<3:13:52,  1.71it/s]"
          ],
          "name": "stderr"
        },
        {
          "output_type": "stream",
          "text": [
            "........................................................................\n",
            "Translation API returned the input string unchanged.\n"
          ],
          "name": "stdout"
        },
        {
          "output_type": "stream",
          "text": [
            " 27%|██▋       | 7284/27212 [1:12:12<3:09:36,  1.75it/s]"
          ],
          "name": "stderr"
        },
        {
          "output_type": "stream",
          "text": [
            "Ola ok\n",
            "Translation API returned the input string unchanged.\n"
          ],
          "name": "stdout"
        },
        {
          "output_type": "stream",
          "text": [
            " 27%|██▋       | 7367/27212 [1:13:01<2:58:47,  1.85it/s]"
          ],
          "name": "stderr"
        },
        {
          "output_type": "stream",
          "text": [
            "Htan yperoxi kai glykytati, kai poly kalh giatros!\n",
            "Translation API returned the input string unchanged.\n"
          ],
          "name": "stdout"
        },
        {
          "output_type": "stream",
          "text": [
            " 27%|██▋       | 7401/27212 [1:13:21<3:08:15,  1.75it/s]"
          ],
          "name": "stderr"
        },
        {
          "output_type": "stream",
          "text": [
            "Xamogelastos anthrwpos pou mou enepneuse empistosuni kai an eixa provlima sigoura tha ksanapigaina!\n",
            "Translation API returned the input string unchanged.\n"
          ],
          "name": "stdout"
        },
        {
          "output_type": "stream",
          "text": [
            " 28%|██▊       | 7489/27212 [1:14:12<3:06:30,  1.76it/s]"
          ],
          "name": "stderr"
        },
        {
          "output_type": "stream",
          "text": [
            "ΡΡΡΦ\n",
            "Translation API returned the input string unchanged.\n"
          ],
          "name": "stdout"
        },
        {
          "output_type": "stream",
          "text": [
            " 28%|██▊       | 7543/27212 [1:14:44<3:13:16,  1.70it/s]"
          ],
          "name": "stderr"
        },
        {
          "output_type": "stream",
          "text": [
            "!!!\n",
            "Translation API returned the input string unchanged.\n"
          ],
          "name": "stdout"
        },
        {
          "output_type": "stream",
          "text": [
            "\r 28%|██▊       | 7544/27212 [1:14:45<3:54:34,  1.40it/s]"
          ],
          "name": "stderr"
        },
        {
          "output_type": "stream",
          "text": [
            "He speaks English like a native.  Listens and above all, gives a proper explanation.  Professional:) \n",
            "Translation API returned the input string unchanged.\n"
          ],
          "name": "stdout"
        },
        {
          "output_type": "stream",
          "text": [
            " 28%|██▊       | 7614/27212 [1:15:26<3:11:04,  1.71it/s]"
          ],
          "name": "stderr"
        },
        {
          "output_type": "stream",
          "text": [
            "The best!\n",
            "Translation API returned the input string unchanged.\n"
          ],
          "name": "stdout"
        },
        {
          "output_type": "stream",
          "text": [
            " 28%|██▊       | 7650/27212 [1:15:48<3:14:24,  1.68it/s]"
          ],
          "name": "stderr"
        },
        {
          "output_type": "stream",
          "text": [
            "xalia\n",
            "Translation API returned the input string unchanged.\n"
          ],
          "name": "stdout"
        },
        {
          "output_type": "stream",
          "text": [
            " 28%|██▊       | 7710/27212 [1:16:23<3:16:40,  1.65it/s]"
          ],
          "name": "stderr"
        },
        {
          "output_type": "stream",
          "text": [
            "EINAI PROSITOS KAI AMESOS\n",
            "Translation API returned the input string unchanged.\n"
          ],
          "name": "stdout"
        },
        {
          "output_type": "stream",
          "text": [
            " 28%|██▊       | 7716/27212 [1:16:27<3:23:48,  1.59it/s]"
          ],
          "name": "stderr"
        },
        {
          "output_type": "stream",
          "text": [
            "...\n",
            "Translation API returned the input string unchanged.\n"
          ],
          "name": "stdout"
        },
        {
          "output_type": "stream",
          "text": [
            " 28%|██▊       | 7754/27212 [1:16:50<3:17:46,  1.64it/s]"
          ],
          "name": "stderr"
        },
        {
          "output_type": "stream",
          "text": [
            "yperoxos\n",
            "Translation API returned the input string unchanged.\n"
          ],
          "name": "stdout"
        },
        {
          "output_type": "stream",
          "text": [
            " 29%|██▊       | 7780/27212 [1:17:06<3:05:02,  1.75it/s]"
          ],
          "name": "stderr"
        },
        {
          "output_type": "stream",
          "text": [
            "Cool!!\n",
            "Translation API returned the input string unchanged.\n"
          ],
          "name": "stdout"
        },
        {
          "output_type": "stream",
          "text": [
            " 29%|██▊       | 7791/27212 [1:17:13<3:14:40,  1.66it/s]"
          ],
          "name": "stderr"
        },
        {
          "output_type": "stream",
          "text": [
            "ola telia Ana D.\n",
            "Translation API returned the input string unchanged.\n"
          ],
          "name": "stdout"
        },
        {
          "output_type": "stream",
          "text": [
            " 29%|██▊       | 7808/27212 [1:17:23<3:05:15,  1.75it/s]"
          ],
          "name": "stderr"
        },
        {
          "output_type": "stream",
          "text": [
            "Very polite, patient and professional doctor.  \n",
            "Translation API returned the input string unchanged.\n"
          ],
          "name": "stdout"
        },
        {
          "output_type": "stream",
          "text": [
            " 29%|██▉       | 7841/27212 [1:17:43<3:10:41,  1.69it/s]"
          ],
          "name": "stderr"
        },
        {
          "output_type": "stream",
          "text": [
            "Ola kala\n",
            "Translation API returned the input string unchanged.\n"
          ],
          "name": "stdout"
        },
        {
          "output_type": "stream",
          "text": [
            " 29%|██▉       | 7867/27212 [1:17:58<3:02:26,  1.77it/s]"
          ],
          "name": "stderr"
        },
        {
          "output_type": "stream",
          "text": [
            "Ola kala\n",
            "Translation API returned the input string unchanged.\n"
          ],
          "name": "stdout"
        },
        {
          "output_type": "stream",
          "text": [
            " 29%|██▉       | 7948/27212 [1:18:46<3:01:14,  1.77it/s]"
          ],
          "name": "stderr"
        },
        {
          "output_type": "stream",
          "text": [
            " Swsti eksetasi kai diagnwsi me eksigisi, eugenikos kai upomonetikos. Euharistws ton susteinw.\n",
            "Translation API returned the input string unchanged.\n"
          ],
          "name": "stdout"
        },
        {
          "output_type": "stream",
          "text": [
            " 29%|██▉       | 7952/27212 [1:18:49<3:24:43,  1.57it/s]"
          ],
          "name": "stderr"
        },
        {
          "output_type": "stream",
          "text": [
            ". \n",
            "Translation API returned the input string unchanged.\n"
          ],
          "name": "stdout"
        },
        {
          "output_type": "stream",
          "text": [
            " 29%|██▉       | 7956/27212 [1:18:52<3:34:25,  1.50it/s]"
          ],
          "name": "stderr"
        },
        {
          "output_type": "stream",
          "text": [
            "Polu kalos giatros.\n",
            "Translation API returned the input string unchanged.\n"
          ],
          "name": "stdout"
        },
        {
          "output_type": "stream",
          "text": [
            " 30%|██▉       | 8049/27212 [1:19:47<3:09:40,  1.68it/s]"
          ],
          "name": "stderr"
        },
        {
          "output_type": "stream",
          "text": [
            "Excellent attention and service. Doctor Zahariades and his secretary were very welcoming and treated me with professionalism and respect. They were very kind to provide attention in English and I received a clear diagnosis and treatment for my issue. I am indeed very satisfied.\n",
            "Translation API returned the input string unchanged.\n"
          ],
          "name": "stdout"
        },
        {
          "output_type": "stream",
          "text": [
            " 30%|██▉       | 8067/27212 [1:19:58<3:15:20,  1.63it/s]"
          ],
          "name": "stderr"
        },
        {
          "output_type": "stream",
          "text": [
            "mono gitros den einai\n",
            "Translation API returned the input string unchanged.\n"
          ],
          "name": "stdout"
        },
        {
          "output_type": "stream",
          "text": [
            " 30%|██▉       | 8085/27212 [1:20:09<3:06:18,  1.71it/s]"
          ],
          "name": "stderr"
        },
        {
          "output_type": "stream",
          "text": [
            "                                                                                                                                                                                                                                                                                                                                                                                                                                                                                                                                                                                                                                                                 .                                                              .                                                                                                                                                                                                                                                                                                                                                                         .\n",
            "Translation API returned the input string unchanged.\n"
          ],
          "name": "stdout"
        },
        {
          "output_type": "stream",
          "text": [
            " 30%|██▉       | 8095/27212 [1:20:16<3:39:04,  1.45it/s]"
          ],
          "name": "stderr"
        },
        {
          "output_type": "stream",
          "text": [
            "eidi ton exw sistisei se ena filo\n",
            "Translation API returned the input string unchanged.\n"
          ],
          "name": "stdout"
        },
        {
          "output_type": "stream",
          "text": [
            " 30%|██▉       | 8110/27212 [1:20:26<3:09:27,  1.68it/s]"
          ],
          "name": "stderr"
        },
        {
          "output_type": "stream",
          "text": [
            "soy dinetai i aisthisi oti adeiazeis apo ta provlimata soy apeleytherwnesai itan mia eyxaristi empeiria\n",
            "Translation API returned the input string unchanged.\n"
          ],
          "name": "stdout"
        },
        {
          "output_type": "stream",
          "text": [
            " 30%|██▉       | 8133/27212 [1:20:39<3:01:51,  1.75it/s]"
          ],
          "name": "stderr"
        },
        {
          "output_type": "stream",
          "text": [
            "ola kala\n",
            "Translation API returned the input string unchanged.\n"
          ],
          "name": "stdout"
        },
        {
          "output_type": "stream",
          "text": [
            " 30%|██▉       | 8155/27212 [1:20:53<3:02:20,  1.74it/s]"
          ],
          "name": "stderr"
        },
        {
          "output_type": "stream",
          "text": [
            "   ....\n",
            "Translation API returned the input string unchanged.\n"
          ],
          "name": "stdout"
        },
        {
          "output_type": "stream",
          "text": [
            " 30%|███       | 8166/27212 [1:21:00<3:06:29,  1.70it/s]"
          ],
          "name": "stderr"
        },
        {
          "output_type": "stream",
          "text": [
            "*****\n",
            "Translation API returned the input string unchanged.\n"
          ],
          "name": "stdout"
        },
        {
          "output_type": "stream",
          "text": [
            " 30%|███       | 8197/27212 [1:21:18<3:05:22,  1.71it/s]"
          ],
          "name": "stderr"
        },
        {
          "output_type": "stream",
          "text": [
            "καλος.ευγενικος.\n",
            "Translation API returned the input string unchanged.\n"
          ],
          "name": "stdout"
        },
        {
          "output_type": "stream",
          "text": [
            " 30%|███       | 8215/27212 [1:21:29<2:57:59,  1.78it/s]"
          ],
          "name": "stderr"
        },
        {
          "output_type": "stream",
          "text": [
            " .....\n",
            "Translation API returned the input string unchanged.\n"
          ],
          "name": "stdout"
        },
        {
          "output_type": "stream",
          "text": [
            " 31%|███       | 8303/27212 [1:22:20<2:51:33,  1.84it/s]"
          ],
          "name": "stderr"
        },
        {
          "output_type": "stream",
          "text": [
            "Thorough and methodical. \n",
            "Translation API returned the input string unchanged.\n"
          ],
          "name": "stdout"
        },
        {
          "output_type": "stream",
          "text": [
            " 31%|███       | 8319/27212 [1:22:30<2:54:16,  1.81it/s]"
          ],
          "name": "stderr"
        },
        {
          "output_type": "stream",
          "text": [
            "Exairetikh giatros pou kanei stress echo me fusiko tropo xwris farmaka\n",
            "Translation API returned the input string unchanged.\n"
          ],
          "name": "stdout"
        },
        {
          "output_type": "stream",
          "text": [
            " 31%|███       | 8347/27212 [1:22:46<3:02:13,  1.73it/s]"
          ],
          "name": "stderr"
        },
        {
          "output_type": "stream",
          "text": [
            "Everything was just fine :-) \n",
            "Translation API returned the input string unchanged.\n"
          ],
          "name": "stdout"
        },
        {
          "output_type": "stream",
          "text": [
            " 31%|███       | 8354/27212 [1:22:51<3:03:04,  1.72it/s]"
          ],
          "name": "stderr"
        },
        {
          "output_type": "stream",
          "text": [
            "nice\n",
            "Translation API returned the input string unchanged.\n"
          ],
          "name": "stdout"
        },
        {
          "output_type": "stream",
          "text": [
            " 31%|███       | 8373/27212 [1:23:03<3:26:07,  1.52it/s]"
          ],
          "name": "stderr"
        },
        {
          "output_type": "stream",
          "text": [
            "          .\n",
            "Translation API returned the input string unchanged.\n"
          ],
          "name": "stdout"
        },
        {
          "output_type": "stream",
          "text": [
            " 31%|███       | 8389/27212 [1:23:12<2:54:49,  1.79it/s]"
          ],
          "name": "stderr"
        },
        {
          "output_type": "stream",
          "text": [
            "Perfect!\n",
            "Translation API returned the input string unchanged.\n"
          ],
          "name": "stdout"
        },
        {
          "output_type": "stream",
          "text": [
            " 31%|███       | 8476/27212 [1:24:04<2:58:51,  1.75it/s]"
          ],
          "name": "stderr"
        },
        {
          "output_type": "stream",
          "text": [
            "+++++\n",
            "Translation API returned the input string unchanged.\n"
          ],
          "name": "stdout"
        },
        {
          "output_type": "stream",
          "text": [
            " 31%|███▏      | 8508/27212 [1:24:23<3:15:53,  1.59it/s]"
          ],
          "name": "stderr"
        },
        {
          "output_type": "stream",
          "text": [
            "kala\n",
            "Translation API returned the input string unchanged.\n"
          ],
          "name": "stdout"
        },
        {
          "output_type": "stream",
          "text": [
            " 31%|███▏      | 8540/27212 [1:24:43<3:01:09,  1.72it/s]"
          ],
          "name": "stderr"
        },
        {
          "output_type": "stream",
          "text": [
            "Κάτapliktikh eksuphrethsh\n",
            "Translation API returned the input string unchanged.\n"
          ],
          "name": "stdout"
        },
        {
          "output_type": "stream",
          "text": [
            " 31%|███▏      | 8543/27212 [1:24:45<3:17:26,  1.58it/s]"
          ],
          "name": "stderr"
        },
        {
          "output_type": "stream",
          "text": [
            "  ***\n",
            "Translation API returned the input string unchanged.\n"
          ],
          "name": "stdout"
        },
        {
          "output_type": "stream",
          "text": [
            " 32%|███▏      | 8580/27212 [1:25:06<3:00:46,  1.72it/s]"
          ],
          "name": "stderr"
        },
        {
          "output_type": "stream",
          "text": [
            "!!!\n",
            "Translation API returned the input string unchanged.\n"
          ],
          "name": "stdout"
        },
        {
          "output_type": "stream",
          "text": [
            " 32%|███▏      | 8595/27212 [1:25:16<3:11:12,  1.62it/s]"
          ],
          "name": "stderr"
        },
        {
          "output_type": "stream",
          "text": [
            ". . . . .     \n",
            "Translation API returned the input string unchanged.\n"
          ],
          "name": "stdout"
        },
        {
          "output_type": "stream",
          "text": [
            " 32%|███▏      | 8617/27212 [1:25:29<3:14:31,  1.59it/s]"
          ],
          "name": "stderr"
        },
        {
          "output_type": "stream",
          "text": [
            "Very good doctor. Highly suggested\n",
            "Translation API returned the input string unchanged.\n"
          ],
          "name": "stdout"
        },
        {
          "output_type": "stream",
          "text": [
            "\r 32%|███▏      | 8618/27212 [1:25:30<3:50:21,  1.35it/s]"
          ],
          "name": "stderr"
        },
        {
          "output_type": "stream",
          "text": [
            "!!!!!!!!!\n",
            "Translation API returned the input string unchanged.\n"
          ],
          "name": "stdout"
        },
        {
          "output_type": "stream",
          "text": [
            " 32%|███▏      | 8700/27212 [1:26:19<3:03:53,  1.68it/s]"
          ],
          "name": "stderr"
        },
        {
          "output_type": "stream",
          "text": [
            "the best....\n",
            "Translation API returned the input string unchanged.\n"
          ],
          "name": "stdout"
        },
        {
          "output_type": "stream",
          "text": [
            " 33%|███▎      | 8845/27212 [1:27:44<3:26:04,  1.49it/s]"
          ],
          "name": "stderr"
        },
        {
          "output_type": "stream",
          "text": [
            "Xxx\n",
            "Translation API returned the input string unchanged.\n"
          ],
          "name": "stdout"
        },
        {
          "output_type": "stream",
          "text": [
            " 33%|███▎      | 8889/27212 [1:28:10<2:58:26,  1.71it/s]"
          ],
          "name": "stderr"
        },
        {
          "output_type": "stream",
          "text": [
            "Super!\n",
            "Translation API returned the input string unchanged.\n"
          ],
          "name": "stdout"
        },
        {
          "output_type": "stream",
          "text": [
            " 33%|███▎      | 8900/27212 [1:28:17<2:48:17,  1.81it/s]"
          ],
          "name": "stderr"
        },
        {
          "output_type": "stream",
          "text": [
            "   !\n",
            "Translation API returned the input string unchanged.\n"
          ],
          "name": "stdout"
        },
        {
          "output_type": "stream",
          "text": [
            " 33%|███▎      | 8938/27212 [1:28:39<2:58:34,  1.71it/s]"
          ],
          "name": "stderr"
        },
        {
          "output_type": "stream",
          "text": [
            "Kalos giatros\n",
            "Translation API returned the input string unchanged.\n"
          ],
          "name": "stdout"
        },
        {
          "output_type": "stream",
          "text": [
            " 33%|███▎      | 8983/27212 [1:29:06<2:54:16,  1.74it/s]"
          ],
          "name": "stderr"
        },
        {
          "output_type": "stream",
          "text": [
            "No \n",
            "Translation API returned the input string unchanged.\n"
          ],
          "name": "stdout"
        },
        {
          "output_type": "stream",
          "text": [
            " 33%|███▎      | 8985/27212 [1:29:08<3:26:43,  1.47it/s]"
          ],
          "name": "stderr"
        },
        {
          "output_type": "stream",
          "text": [
            "Den eixa sosth diagnosi. Kata ta ala oikonomiki.\n",
            "Translation API returned the input string unchanged.\n"
          ],
          "name": "stdout"
        },
        {
          "output_type": "stream",
          "text": [
            " 33%|███▎      | 9006/27212 [1:29:20<2:54:02,  1.74it/s]"
          ],
          "name": "stderr"
        },
        {
          "output_type": "stream",
          "text": [
            "Very good\n",
            "Translation API returned the input string unchanged.\n"
          ],
          "name": "stdout"
        },
        {
          "output_type": "stream",
          "text": [
            " 33%|███▎      | 9089/27212 [1:30:09<3:00:42,  1.67it/s]"
          ],
          "name": "stderr"
        },
        {
          "output_type": "stream",
          "text": [
            "Poly kalos ton sistino 100%\n",
            "Translation API returned the input string unchanged.\n"
          ],
          "name": "stdout"
        },
        {
          "output_type": "stream",
          "text": [
            " 33%|███▎      | 9097/27212 [1:30:14<3:01:15,  1.67it/s]"
          ],
          "name": "stderr"
        },
        {
          "output_type": "stream",
          "text": [
            "very satisfied by the professionalism of the doctor\n",
            "Translation API returned the input string unchanged.\n"
          ],
          "name": "stdout"
        },
        {
          "output_type": "stream",
          "text": [
            " 34%|███▎      | 9117/27212 [1:30:27<2:52:05,  1.75it/s]"
          ],
          "name": "stderr"
        },
        {
          "output_type": "stream",
          "text": [
            "Excellent dentist.\n",
            "Translation API returned the input string unchanged.\n"
          ],
          "name": "stdout"
        },
        {
          "output_type": "stream",
          "text": [
            " 34%|███▎      | 9133/27212 [1:30:37<3:04:02,  1.64it/s]"
          ],
          "name": "stderr"
        },
        {
          "output_type": "stream",
          "text": [
            "Everything goes very nice! \n",
            "Translation API returned the input string unchanged.\n"
          ],
          "name": "stdout"
        },
        {
          "output_type": "stream",
          "text": [
            " 34%|███▎      | 9163/27212 [1:30:55<2:51:57,  1.75it/s]"
          ],
          "name": "stderr"
        },
        {
          "output_type": "stream",
          "text": [
            " :)\n",
            "Translation API returned the input string unchanged.\n"
          ],
          "name": "stdout"
        },
        {
          "output_type": "stream",
          "text": [
            " 34%|███▍      | 9199/27212 [1:31:16<2:52:57,  1.74it/s]"
          ],
          "name": "stderr"
        },
        {
          "output_type": "stream",
          "text": [
            "-----\n",
            "Translation API returned the input string unchanged.\n"
          ],
          "name": "stdout"
        },
        {
          "output_type": "stream",
          "text": [
            " 34%|███▍      | 9238/27212 [1:31:39<2:50:54,  1.75it/s]"
          ],
          "name": "stderr"
        },
        {
          "output_type": "stream",
          "text": [
            "exeretiki giatros\n",
            "Translation API returned the input string unchanged.\n"
          ],
          "name": "stdout"
        },
        {
          "output_type": "stream",
          "text": [
            " 34%|███▍      | 9251/27212 [1:31:47<2:52:04,  1.74it/s]"
          ],
          "name": "stderr"
        },
        {
          "output_type": "stream",
          "text": [
            "  a\n",
            "Translation API returned the input string unchanged.\n"
          ],
          "name": "stdout"
        },
        {
          "output_type": "stream",
          "text": [
            " 34%|███▍      | 9274/27212 [1:32:01<2:52:14,  1.74it/s]"
          ],
          "name": "stderr"
        },
        {
          "output_type": "stream",
          "text": [
            " Super !!\n",
            "Translation API returned the input string unchanged.\n"
          ],
          "name": "stdout"
        },
        {
          "output_type": "stream",
          "text": [
            " 34%|███▍      | 9303/27212 [1:32:18<2:50:57,  1.75it/s]"
          ],
          "name": "stderr"
        },
        {
          "output_type": "stream",
          "text": [
            "Χχχ\n",
            "Translation API returned the input string unchanged.\n"
          ],
          "name": "stdout"
        },
        {
          "output_type": "stream",
          "text": [
            " 34%|███▍      | 9305/27212 [1:32:20<3:22:41,  1.47it/s]"
          ],
          "name": "stderr"
        },
        {
          "output_type": "stream",
          "text": [
            "the best!\n",
            "Translation API returned the input string unchanged.\n"
          ],
          "name": "stdout"
        },
        {
          "output_type": "stream",
          "text": [
            " 34%|███▍      | 9385/27212 [1:33:07<2:57:51,  1.67it/s]"
          ],
          "name": "stderr"
        },
        {
          "output_type": "stream",
          "text": [
            "poli kalos!\n",
            "Translation API returned the input string unchanged.\n"
          ],
          "name": "stdout"
        },
        {
          "output_type": "stream",
          "text": [
            " 35%|███▍      | 9395/27212 [1:33:14<2:49:35,  1.75it/s]"
          ],
          "name": "stderr"
        },
        {
          "output_type": "stream",
          "text": [
            "all  perct..............\n",
            "Translation API returned the input string unchanged.\n"
          ],
          "name": "stdout"
        },
        {
          "output_type": "stream",
          "text": [
            " 35%|███▍      | 9407/27212 [1:33:21<2:46:09,  1.79it/s]"
          ],
          "name": "stderr"
        },
        {
          "output_type": "stream",
          "text": [
            "10000000000000%\n",
            "Translation API returned the input string unchanged.\n"
          ],
          "name": "stdout"
        },
        {
          "output_type": "stream",
          "text": [
            " 35%|███▍      | 9461/27212 [1:33:52<2:57:06,  1.67it/s]"
          ],
          "name": "stderr"
        },
        {
          "output_type": "stream",
          "text": [
            "ola ok\n",
            "Translation API returned the input string unchanged.\n"
          ],
          "name": "stdout"
        },
        {
          "output_type": "stream",
          "text": [
            " 35%|███▍      | 9468/27212 [1:33:57<2:50:23,  1.74it/s]"
          ],
          "name": "stderr"
        },
        {
          "output_type": "stream",
          "text": [
            "...\n",
            "Translation API returned the input string unchanged.\n"
          ],
          "name": "stdout"
        },
        {
          "output_type": "stream",
          "text": [
            " 35%|███▌      | 9634/27212 [1:35:34<2:54:29,  1.68it/s]"
          ],
          "name": "stderr"
        },
        {
          "output_type": "stream",
          "text": [
            "Poli kali \n",
            "Translation API returned the input string unchanged.\n"
          ],
          "name": "stdout"
        },
        {
          "output_type": "stream",
          "text": [
            " 36%|███▌      | 9746/27212 [1:36:40<2:46:44,  1.75it/s]"
          ],
          "name": "stderr"
        },
        {
          "output_type": "stream",
          "text": [
            "mia xara kanena provlima\n",
            "Translation API returned the input string unchanged.\n"
          ],
          "name": "stdout"
        },
        {
          "output_type": "stream",
          "text": [
            " 36%|███▌      | 9764/27212 [1:36:51<2:45:48,  1.75it/s]"
          ],
          "name": "stderr"
        },
        {
          "output_type": "stream",
          "text": [
            "Ola teleia\n",
            "Translation API returned the input string unchanged.\n"
          ],
          "name": "stdout"
        },
        {
          "output_type": "stream",
          "text": [
            " 36%|███▌      | 9773/27212 [1:36:56<2:37:02,  1.85it/s]"
          ],
          "name": "stderr"
        },
        {
          "output_type": "stream",
          "text": [
            "...\n",
            "Translation API returned the input string unchanged.\n"
          ],
          "name": "stdout"
        },
        {
          "output_type": "stream",
          "text": [
            " 36%|███▌      | 9799/27212 [1:37:12<2:52:33,  1.68it/s]"
          ],
          "name": "stderr"
        },
        {
          "output_type": "stream",
          "text": [
            "Very patient and kind, prepared to listen, made me feel very comfortable and at ease.\n",
            "Translation API returned the input string unchanged.\n"
          ],
          "name": "stdout"
        },
        {
          "output_type": "stream",
          "text": [
            " 36%|███▌      | 9842/27212 [1:37:38<2:53:52,  1.67it/s]"
          ],
          "name": "stderr"
        },
        {
          "output_type": "stream",
          "text": [
            "Super\n",
            "Translation API returned the input string unchanged.\n"
          ],
          "name": "stdout"
        },
        {
          "output_type": "stream",
          "text": [
            " 36%|███▋      | 9931/27212 [1:38:29<2:40:34,  1.79it/s]"
          ],
          "name": "stderr"
        },
        {
          "output_type": "stream",
          "text": [
            "...\n",
            "Translation API returned the input string unchanged.\n"
          ],
          "name": "stdout"
        },
        {
          "output_type": "stream",
          "text": [
            " 37%|███▋      | 9941/27212 [1:38:36<2:41:18,  1.78it/s]"
          ],
          "name": "stderr"
        },
        {
          "output_type": "stream",
          "text": [
            "1111111111111111111111\n",
            "Translation API returned the input string unchanged.\n"
          ],
          "name": "stdout"
        },
        {
          "output_type": "stream",
          "text": [
            " 37%|███▋      | 9970/27212 [1:38:53<2:47:37,  1.71it/s]"
          ],
          "name": "stderr"
        },
        {
          "output_type": "stream",
          "text": [
            "I suggest this doctor :) \n",
            "Translation API returned the input string unchanged.\n"
          ],
          "name": "stdout"
        },
        {
          "output_type": "stream",
          "text": [
            " 37%|███▋      | 9985/27212 [1:39:02<2:50:14,  1.69it/s]"
          ],
          "name": "stderr"
        },
        {
          "output_type": "stream",
          "text": [
            ".  \n",
            "Translation API returned the input string unchanged.\n"
          ],
          "name": "stdout"
        },
        {
          "output_type": "stream",
          "text": [
            " 37%|███▋      | 10008/27212 [1:39:17<2:43:32,  1.75it/s]"
          ],
          "name": "stderr"
        },
        {
          "output_type": "stream",
          "text": [
            "Ola kala\n",
            "Translation API returned the input string unchanged.\n"
          ],
          "name": "stdout"
        },
        {
          "output_type": "stream",
          "text": [
            " 37%|███▋      | 10035/27212 [1:39:33<2:50:16,  1.68it/s]"
          ],
          "name": "stderr"
        },
        {
          "output_type": "stream",
          "text": [
            "Excellent!\n",
            "Translation API returned the input string unchanged.\n"
          ],
          "name": "stdout"
        },
        {
          "output_type": "stream",
          "text": [
            " 37%|███▋      | 10064/27212 [1:39:50<2:48:47,  1.69it/s]"
          ],
          "name": "stderr"
        },
        {
          "output_type": "stream",
          "text": [
            "Poli kalos iatros!\n",
            "Translation API returned the input string unchanged.\n"
          ],
          "name": "stdout"
        },
        {
          "output_type": "stream",
          "text": [
            " 37%|███▋      | 10072/27212 [1:39:55<2:42:35,  1.76it/s]"
          ],
          "name": "stderr"
        },
        {
          "output_type": "stream",
          "text": [
            "Βιβιαν Κ. \n",
            "Translation API returned the input string unchanged.\n"
          ],
          "name": "stdout"
        },
        {
          "output_type": "stream",
          "text": [
            " 37%|███▋      | 10080/27212 [1:40:00<2:51:57,  1.66it/s]"
          ],
          "name": "stderr"
        },
        {
          "output_type": "stream",
          "text": [
            "Top!!!\n",
            "Translation API returned the input string unchanged.\n"
          ],
          "name": "stdout"
        },
        {
          "output_type": "stream",
          "text": [
            " 37%|███▋      | 10104/27212 [1:40:15<2:45:07,  1.73it/s]"
          ],
          "name": "stderr"
        },
        {
          "output_type": "stream",
          "text": [
            "👍 \n",
            "Translation API returned the input string unchanged.\n"
          ],
          "name": "stdout"
        },
        {
          "output_type": "stream",
          "text": [
            " 37%|███▋      | 10112/27212 [1:40:20<2:50:56,  1.67it/s]"
          ],
          "name": "stderr"
        },
        {
          "output_type": "stream",
          "text": [
            "Ola kala\n",
            "Translation API returned the input string unchanged.\n"
          ],
          "name": "stdout"
        },
        {
          "output_type": "stream",
          "text": [
            " 37%|███▋      | 10122/27212 [1:40:26<2:50:25,  1.67it/s]"
          ],
          "name": "stderr"
        },
        {
          "output_type": "stream",
          "text": [
            "very professional , recommended 100%\n",
            "Translation API returned the input string unchanged.\n"
          ],
          "name": "stdout"
        },
        {
          "output_type": "stream",
          "text": [
            " 37%|███▋      | 10133/27212 [1:40:33<2:48:12,  1.69it/s]"
          ],
          "name": "stderr"
        },
        {
          "output_type": "stream",
          "text": [
            "Ekseretiki\n",
            "Translation API returned the input string unchanged.\n"
          ],
          "name": "stdout"
        },
        {
          "output_type": "stream",
          "text": [
            " 37%|███▋      | 10150/27212 [1:40:43<2:40:15,  1.77it/s]"
          ],
          "name": "stderr"
        },
        {
          "output_type": "stream",
          "text": [
            "kalos\n",
            "Translation API returned the input string unchanged.\n"
          ],
          "name": "stdout"
        },
        {
          "output_type": "stream",
          "text": [
            " 37%|███▋      | 10154/27212 [1:40:46<2:51:50,  1.65it/s]"
          ],
          "name": "stderr"
        },
        {
          "output_type": "stream",
          "text": [
            "All fine\n",
            "Translation API returned the input string unchanged.\n"
          ],
          "name": "stdout"
        },
        {
          "output_type": "stream",
          "text": [
            " 38%|███▊      | 10227/27212 [1:41:28<2:43:07,  1.74it/s]"
          ],
          "name": "stderr"
        },
        {
          "output_type": "stream",
          "text": [
            "anastassiosgeorgakis@gmail.com\n",
            "Translation API returned the input string unchanged.\n"
          ],
          "name": "stdout"
        },
        {
          "output_type": "stream",
          "text": [
            " 38%|███▊      | 10245/27212 [1:41:40<2:47:58,  1.68it/s]"
          ],
          "name": "stderr"
        },
        {
          "output_type": "stream",
          "text": [
            "😊!!!\n",
            "Translation API returned the input string unchanged.\n"
          ],
          "name": "stdout"
        },
        {
          "output_type": "stream",
          "text": [
            " 38%|███▊      | 10340/27212 [1:42:36<2:50:26,  1.65it/s]"
          ],
          "name": "stderr"
        },
        {
          "output_type": "stream",
          "text": [
            "Poly kalos\n",
            "Translation API returned the input string unchanged.\n"
          ],
          "name": "stdout"
        },
        {
          "output_type": "stream",
          "text": [
            " 38%|███▊      | 10455/27212 [1:43:44<2:51:00,  1.63it/s]"
          ],
          "name": "stderr"
        },
        {
          "output_type": "stream",
          "text": [
            "eyxaristv.\n",
            "Translation API returned the input string unchanged.\n"
          ],
          "name": "stdout"
        },
        {
          "output_type": "stream",
          "text": [
            " 38%|███▊      | 10463/27212 [1:43:49<2:41:49,  1.73it/s]"
          ],
          "name": "stderr"
        },
        {
          "output_type": "stream",
          "text": [
            "Ekplhktikos giatros. Fainetai na exei empeiria kai panw ap ola anthrwpos!\n",
            "Translation API returned the input string unchanged.\n"
          ],
          "name": "stdout"
        },
        {
          "output_type": "stream",
          "text": [
            " 38%|███▊      | 10465/27212 [1:43:50<3:16:11,  1.42it/s]"
          ],
          "name": "stderr"
        },
        {
          "output_type": "stream",
          "text": [
            " everything was good\n",
            "Translation API returned the input string unchanged.\n"
          ],
          "name": "stdout"
        },
        {
          "output_type": "stream",
          "text": [
            " 39%|███▊      | 10536/27212 [1:44:33<2:47:31,  1.66it/s]"
          ],
          "name": "stderr"
        },
        {
          "output_type": "stream",
          "text": [
            "Excellent, knowledgable, very polite english, german and greek speaking Doctor \n",
            "Translation API returned the input string unchanged.\n"
          ],
          "name": "stdout"
        },
        {
          "output_type": "stream",
          "text": [
            " 39%|███▊      | 10541/27212 [1:44:36<2:53:36,  1.60it/s]"
          ],
          "name": "stderr"
        },
        {
          "output_type": "stream",
          "text": [
            "Polu Kalh giatros sto eidos ths, sigoura exw vrei ton diko mou dermatologo.\n",
            "Translation API returned the input string unchanged.\n"
          ],
          "name": "stdout"
        },
        {
          "output_type": "stream",
          "text": [
            " 39%|███▉      | 10603/27212 [1:45:12<2:37:09,  1.76it/s]"
          ],
          "name": "stderr"
        },
        {
          "output_type": "stream",
          "text": [
            "Didnt help at all\n",
            "Translation API returned the input string unchanged.\n"
          ],
          "name": "stdout"
        },
        {
          "output_type": "stream",
          "text": [
            " 39%|███▉      | 10609/27212 [1:45:16<2:34:10,  1.79it/s]"
          ],
          "name": "stderr"
        },
        {
          "output_type": "stream",
          "text": [
            "Katapliktikos sti douleia tou. Tha eniwtha pio aneta an den upirxe boithos.\n",
            "Translation API returned the input string unchanged.\n"
          ],
          "name": "stdout"
        },
        {
          "output_type": "stream",
          "text": [
            " 39%|███▉      | 10635/27212 [1:45:33<2:49:19,  1.63it/s]"
          ],
          "name": "stderr"
        },
        {
          "output_type": "stream",
          "text": [
            "Poli kalos\n",
            "Translation API returned the input string unchanged.\n"
          ],
          "name": "stdout"
        },
        {
          "output_type": "stream",
          "text": [
            " 39%|███▉      | 10656/27212 [1:45:46<2:44:03,  1.68it/s]"
          ],
          "name": "stderr"
        },
        {
          "output_type": "stream",
          "text": [
            "poly kalh \n",
            "Translation API returned the input string unchanged.\n"
          ],
          "name": "stdout"
        },
        {
          "output_type": "stream",
          "text": [
            " 39%|███▉      | 10680/27212 [1:46:00<2:43:06,  1.69it/s]"
          ],
          "name": "stderr"
        },
        {
          "output_type": "stream",
          "text": [
            "polu kalh\n",
            "Translation API returned the input string unchanged.\n"
          ],
          "name": "stdout"
        },
        {
          "output_type": "stream",
          "text": [
            " 39%|███▉      | 10695/27212 [1:46:09<2:41:52,  1.70it/s]"
          ],
          "name": "stderr"
        },
        {
          "output_type": "stream",
          "text": [
            "all good\n",
            "Translation API returned the input string unchanged.\n"
          ],
          "name": "stdout"
        },
        {
          "output_type": "stream",
          "text": [
            " 39%|███▉      | 10703/27212 [1:46:15<2:50:46,  1.61it/s]"
          ],
          "name": "stderr"
        },
        {
          "output_type": "stream",
          "text": [
            "ola itan apsoga\n",
            "Translation API returned the input string unchanged.\n"
          ],
          "name": "stdout"
        },
        {
          "output_type": "stream",
          "text": [
            " 39%|███▉      | 10717/27212 [1:46:23<2:47:28,  1.64it/s]"
          ],
          "name": "stderr"
        },
        {
          "output_type": "stream",
          "text": [
            "Ola kala\n",
            "Translation API returned the input string unchanged.\n"
          ],
          "name": "stdout"
        },
        {
          "output_type": "stream",
          "text": [
            " 40%|███▉      | 10775/27212 [1:46:58<2:45:06,  1.66it/s]"
          ],
          "name": "stderr"
        },
        {
          "output_type": "stream",
          "text": [
            "!!!!!\n",
            "Translation API returned the input string unchanged.\n"
          ],
          "name": "stdout"
        },
        {
          "output_type": "stream",
          "text": [
            " 40%|███▉      | 10817/27212 [1:47:23<2:32:04,  1.80it/s]"
          ],
          "name": "stderr"
        },
        {
          "output_type": "stream",
          "text": [
            "Extremely thorough and excellent skills.  Great personality. \n",
            "Translation API returned the input string unchanged.\n"
          ],
          "name": "stdout"
        },
        {
          "output_type": "stream",
          "text": [
            " 40%|████      | 10905/27212 [1:48:15<2:47:23,  1.62it/s]"
          ],
          "name": "stderr"
        },
        {
          "output_type": "stream",
          "text": [
            "ola kala\n",
            "Translation API returned the input string unchanged.\n"
          ],
          "name": "stdout"
        },
        {
          "output_type": "stream",
          "text": [
            " 40%|████      | 10909/27212 [1:48:17<2:53:51,  1.56it/s]"
          ],
          "name": "stderr"
        },
        {
          "output_type": "stream",
          "text": [
            "    ☺\n",
            "Translation API returned the input string unchanged.\n"
          ],
          "name": "stdout"
        },
        {
          "output_type": "stream",
          "text": [
            " 40%|████      | 10911/27212 [1:48:19<3:10:51,  1.42it/s]"
          ],
          "name": "stderr"
        },
        {
          "output_type": "stream",
          "text": [
            "!!!!!\n",
            "Translation API returned the input string unchanged.\n"
          ],
          "name": "stdout"
        },
        {
          "output_type": "stream",
          "text": [
            " 40%|████      | 10952/27212 [1:48:43<2:41:29,  1.68it/s]"
          ],
          "name": "stderr"
        },
        {
          "output_type": "stream",
          "text": [
            "!!!\n",
            "Translation API returned the input string unchanged.\n"
          ],
          "name": "stdout"
        },
        {
          "output_type": "stream",
          "text": [
            " 40%|████      | 10960/27212 [1:48:48<2:43:38,  1.66it/s]"
          ],
          "name": "stderr"
        },
        {
          "output_type": "stream",
          "text": [
            "poly kalos\n",
            "Translation API returned the input string unchanged.\n"
          ],
          "name": "stdout"
        },
        {
          "output_type": "stream",
          "text": [
            " 41%|████      | 11030/27212 [1:49:29<2:34:46,  1.74it/s]"
          ],
          "name": "stderr"
        },
        {
          "output_type": "stream",
          "text": [
            "Tha ksanapao\n",
            "Translation API returned the input string unchanged.\n"
          ],
          "name": "stdout"
        },
        {
          "output_type": "stream",
          "text": [
            " 41%|████      | 11057/27212 [1:49:46<2:36:39,  1.72it/s]"
          ],
          "name": "stderr"
        },
        {
          "output_type": "stream",
          "text": [
            "Poli kalos kai evgenikos\n",
            "Translation API returned the input string unchanged.\n"
          ],
          "name": "stdout"
        },
        {
          "output_type": "stream",
          "text": [
            " 41%|████      | 11075/27212 [1:49:56<2:23:30,  1.87it/s]"
          ],
          "name": "stderr"
        },
        {
          "output_type": "stream",
          "text": [
            "Kalos giatros.\n",
            "Translation API returned the input string unchanged.\n"
          ],
          "name": "stdout"
        },
        {
          "output_type": "stream",
          "text": [
            " 41%|████      | 11079/27212 [1:49:59<2:43:51,  1.64it/s]"
          ],
          "name": "stderr"
        },
        {
          "output_type": "stream",
          "text": [
            " Den eho kapoio sholio\n",
            "Translation API returned the input string unchanged.\n"
          ],
          "name": "stdout"
        },
        {
          "output_type": "stream",
          "text": [
            " 41%|████      | 11098/27212 [1:50:10<2:38:22,  1.70it/s]"
          ],
          "name": "stderr"
        },
        {
          "output_type": "stream",
          "text": [
            "Very efficient and thorough examination\n",
            "Translation API returned the input string unchanged.\n"
          ],
          "name": "stdout"
        },
        {
          "output_type": "stream",
          "text": [
            "\r 41%|████      | 11099/27212 [1:50:11<3:12:26,  1.40it/s]"
          ],
          "name": "stderr"
        },
        {
          "output_type": "stream",
          "text": [
            "Efficient and thorough\n",
            "Translation API returned the input string unchanged.\n"
          ],
          "name": "stdout"
        },
        {
          "output_type": "stream",
          "text": [
            " 41%|████      | 11102/27212 [1:50:13<2:59:56,  1.49it/s]"
          ],
          "name": "stderr"
        },
        {
          "output_type": "stream",
          "text": [
            "!!!!!!!!!!\n",
            "Translation API returned the input string unchanged.\n"
          ],
          "name": "stdout"
        },
        {
          "output_type": "stream",
          "text": [
            " 41%|████      | 11116/27212 [1:50:22<2:33:38,  1.75it/s]"
          ],
          "name": "stderr"
        },
        {
          "output_type": "stream",
          "text": [
            "ola kala\n",
            "Translation API returned the input string unchanged.\n"
          ],
          "name": "stdout"
        },
        {
          "output_type": "stream",
          "text": [
            " 41%|████      | 11120/27212 [1:50:25<2:38:46,  1.69it/s]"
          ],
          "name": "stderr"
        },
        {
          "output_type": "stream",
          "text": [
            "....\n",
            "Translation API returned the input string unchanged.\n"
          ],
          "name": "stdout"
        },
        {
          "output_type": "stream",
          "text": [
            " 41%|████      | 11122/27212 [1:50:26<3:01:44,  1.48it/s]"
          ],
          "name": "stderr"
        },
        {
          "output_type": "stream",
          "text": [
            "ok!\n",
            "Translation API returned the input string unchanged.\n"
          ],
          "name": "stdout"
        },
        {
          "output_type": "stream",
          "text": [
            " 41%|████      | 11199/27212 [1:51:11<2:41:55,  1.65it/s]"
          ],
          "name": "stderr"
        },
        {
          "output_type": "stream",
          "text": [
            "POLY KALOS\n",
            "Translation API returned the input string unchanged.\n"
          ],
          "name": "stdout"
        },
        {
          "output_type": "stream",
          "text": [
            " 41%|████      | 11203/27212 [1:51:14<2:50:20,  1.57it/s]"
          ],
          "name": "stderr"
        },
        {
          "output_type": "stream",
          "text": [
            "...\n",
            "Translation API returned the input string unchanged.\n"
          ],
          "name": "stdout"
        },
        {
          "output_type": "stream",
          "text": [
            " 41%|████▏     | 11270/27212 [1:51:54<2:51:20,  1.55it/s]"
          ],
          "name": "stderr"
        },
        {
          "output_type": "stream",
          "text": [
            "plhrws exoplismeno iatreio amesh exuphrethsh k apoluta apotelesmatikh methodos antimetwpishs tou provlhmatos\n",
            "Translation API returned the input string unchanged.\n"
          ],
          "name": "stdout"
        },
        {
          "output_type": "stream",
          "text": [
            " 41%|████▏     | 11280/27212 [1:52:00<2:41:44,  1.64it/s]"
          ],
          "name": "stderr"
        },
        {
          "output_type": "stream",
          "text": [
            "Apsogos se ola tou\n",
            "Translation API returned the input string unchanged.\n"
          ],
          "name": "stdout"
        },
        {
          "output_type": "stream",
          "text": [
            " 41%|████▏     | 11284/27212 [1:52:03<2:49:25,  1.57it/s]"
          ],
          "name": "stderr"
        },
        {
          "output_type": "stream",
          "text": [
            "Great rheumatologist in Rhodes. \n",
            "Translation API returned the input string unchanged.\n"
          ],
          "name": "stdout"
        },
        {
          "output_type": "stream",
          "text": [
            "\r 41%|████▏     | 11285/27212 [1:52:04<3:19:14,  1.33it/s]"
          ],
          "name": "stderr"
        },
        {
          "output_type": "stream",
          "text": [
            "                        b\n",
            "Translation API returned the input string unchanged.\n"
          ],
          "name": "stdout"
        },
        {
          "output_type": "stream",
          "text": [
            " 42%|████▏     | 11436/27212 [1:53:33<2:39:53,  1.64it/s]"
          ],
          "name": "stderr"
        },
        {
          "output_type": "stream",
          "text": [
            "Poli kalos\n",
            "Translation API returned the input string unchanged.\n"
          ],
          "name": "stdout"
        },
        {
          "output_type": "stream",
          "text": [
            " 42%|████▏     | 11457/27212 [1:53:45<2:30:44,  1.74it/s]"
          ],
          "name": "stderr"
        },
        {
          "output_type": "stream",
          "text": [
            "  !\n",
            "Translation API returned the input string unchanged.\n"
          ],
          "name": "stdout"
        },
        {
          "output_type": "stream",
          "text": [
            " 42%|████▏     | 11462/27212 [1:53:49<2:40:56,  1.63it/s]"
          ],
          "name": "stderr"
        },
        {
          "output_type": "stream",
          "text": [
            "Yphrxe mia parexhghsh kai h antimetwphsh htan kakh ek merous the giatrou\n",
            "Translation API returned the input string unchanged.\n"
          ],
          "name": "stdout"
        },
        {
          "output_type": "stream",
          "text": [
            " 43%|████▎     | 11572/27212 [1:54:53<2:29:33,  1.74it/s]"
          ],
          "name": "stderr"
        },
        {
          "output_type": "stream",
          "text": [
            "ola kala.\n",
            "Translation API returned the input string unchanged.\n"
          ],
          "name": "stdout"
        },
        {
          "output_type": "stream",
          "text": [
            " 43%|████▎     | 11640/27212 [1:55:33<2:37:35,  1.65it/s]"
          ],
          "name": "stderr"
        },
        {
          "output_type": "stream",
          "text": [
            "    τ \n",
            "Translation API returned the input string unchanged.\n"
          ],
          "name": "stdout"
        },
        {
          "output_type": "stream",
          "text": [
            " 43%|████▎     | 11734/27212 [1:56:27<2:25:17,  1.78it/s]"
          ],
          "name": "stderr"
        },
        {
          "output_type": "stream",
          "text": [
            " OK\n",
            "Translation API returned the input string unchanged.\n"
          ],
          "name": "stdout"
        },
        {
          "output_type": "stream",
          "text": [
            " 43%|████▎     | 11742/27212 [1:56:32<2:29:34,  1.72it/s]"
          ],
          "name": "stderr"
        },
        {
          "output_type": "stream",
          "text": [
            "Aristos!\n",
            "Translation API returned the input string unchanged.\n"
          ],
          "name": "stdout"
        },
        {
          "output_type": "stream",
          "text": [
            "\r 43%|████▎     | 11743/27212 [1:56:33<3:02:51,  1.41it/s]"
          ],
          "name": "stderr"
        },
        {
          "output_type": "stream",
          "text": [
            ":)!!!!!❤\n",
            "Translation API returned the input string unchanged.\n"
          ],
          "name": "stdout"
        },
        {
          "output_type": "stream",
          "text": [
            " 43%|████▎     | 11764/27212 [1:56:46<2:47:31,  1.54it/s]"
          ],
          "name": "stderr"
        },
        {
          "output_type": "stream",
          "text": [
            "SUPER..........\n",
            "Translation API returned the input string unchanged.\n"
          ],
          "name": "stdout"
        },
        {
          "output_type": "stream",
          "text": [
            " 43%|████▎     | 11834/27212 [1:57:27<2:31:59,  1.69it/s]"
          ],
          "name": "stderr"
        },
        {
          "output_type": "stream",
          "text": [
            "!!!!!\n",
            "Translation API returned the input string unchanged.\n"
          ],
          "name": "stdout"
        },
        {
          "output_type": "stream",
          "text": [
            " 43%|████▎     | 11837/27212 [1:57:29<2:47:19,  1.53it/s]"
          ],
          "name": "stderr"
        },
        {
          "output_type": "stream",
          "text": [
            "seems trustworthy and easy to speak to\n",
            "Translation API returned the input string unchanged.\n"
          ],
          "name": "stdout"
        },
        {
          "output_type": "stream",
          "text": [
            " 44%|████▎     | 11883/27212 [1:57:56<2:27:47,  1.73it/s]"
          ],
          "name": "stderr"
        },
        {
          "output_type": "stream",
          "text": [
            "Poli sibathis\n",
            "Translation API returned the input string unchanged.\n"
          ],
          "name": "stdout"
        },
        {
          "output_type": "stream",
          "text": [
            " 44%|████▍     | 11935/27212 [1:58:27<2:28:51,  1.71it/s]"
          ],
          "name": "stderr"
        },
        {
          "output_type": "stream",
          "text": [
            "Tha synehisw thn therapia me thn giatro. Polu eyxaristh kai prothimh na bohthisei.\n",
            "Translation API returned the input string unchanged.\n"
          ],
          "name": "stdout"
        },
        {
          "output_type": "stream",
          "text": [
            " 44%|████▍     | 11950/27212 [1:58:36<2:33:17,  1.66it/s]"
          ],
          "name": "stderr"
        },
        {
          "output_type": "stream",
          "text": [
            ". \n",
            "Translation API returned the input string unchanged.\n"
          ],
          "name": "stdout"
        },
        {
          "output_type": "stream",
          "text": [
            " 44%|████▍     | 11954/27212 [1:58:39<2:46:10,  1.53it/s]"
          ],
          "name": "stderr"
        },
        {
          "output_type": "stream",
          "text": [
            "10\\10\n",
            "Translation API returned the input string unchanged.\n"
          ],
          "name": "stdout"
        },
        {
          "output_type": "stream",
          "text": [
            " 44%|████▍     | 11969/27212 [1:58:49<2:24:20,  1.76it/s]"
          ],
          "name": "stderr"
        },
        {
          "output_type": "stream",
          "text": [
            "Πολυ οκ👍🏻\n",
            "Translation API returned the input string unchanged.\n"
          ],
          "name": "stdout"
        },
        {
          "output_type": "stream",
          "text": [
            " 44%|████▍     | 11990/27212 [1:59:01<2:27:01,  1.73it/s]"
          ],
          "name": "stderr"
        },
        {
          "output_type": "stream",
          "text": [
            "Super\n",
            "Translation API returned the input string unchanged.\n"
          ],
          "name": "stdout"
        },
        {
          "output_type": "stream",
          "text": [
            " 44%|████▍     | 12024/27212 [1:59:22<2:32:44,  1.66it/s]"
          ],
          "name": "stderr"
        },
        {
          "output_type": "stream",
          "text": [
            "exelent\n",
            "Translation API returned the input string unchanged.\n"
          ],
          "name": "stdout"
        },
        {
          "output_type": "stream",
          "text": [
            " 44%|████▍     | 12028/27212 [1:59:24<2:37:35,  1.61it/s]"
          ],
          "name": "stderr"
        },
        {
          "output_type": "stream",
          "text": [
            "ola kala!\n",
            "Translation API returned the input string unchanged.\n"
          ],
          "name": "stdout"
        },
        {
          "output_type": "stream",
          "text": [
            " 44%|████▍     | 12045/27212 [1:59:35<2:35:44,  1.62it/s]"
          ],
          "name": "stderr"
        },
        {
          "output_type": "stream",
          "text": [
            "polu kalos!\n",
            "Translation API returned the input string unchanged.\n"
          ],
          "name": "stdout"
        },
        {
          "output_type": "stream",
          "text": [
            " 45%|████▍     | 12113/27212 [2:00:14<2:14:08,  1.88it/s]"
          ],
          "name": "stderr"
        },
        {
          "output_type": "stream",
          "text": [
            "Thanks for all doctor  !!!\n",
            "Translation API returned the input string unchanged.\n"
          ],
          "name": "stdout"
        },
        {
          "output_type": "stream",
          "text": [
            " 45%|████▍     | 12186/27212 [2:00:58<2:35:56,  1.61it/s]"
          ],
          "name": "stderr"
        },
        {
          "output_type": "stream",
          "text": [
            "ola kala\n",
            "Translation API returned the input string unchanged.\n"
          ],
          "name": "stdout"
        },
        {
          "output_type": "stream",
          "text": [
            " 45%|████▌     | 12250/27212 [2:01:36<2:27:24,  1.69it/s]"
          ],
          "name": "stderr"
        },
        {
          "output_type": "stream",
          "text": [
            "nice\n",
            "Translation API returned the input string unchanged.\n"
          ],
          "name": "stdout"
        },
        {
          "output_type": "stream",
          "text": [
            " 45%|████▌     | 12266/27212 [2:01:46<2:22:42,  1.75it/s]"
          ],
          "name": "stderr"
        },
        {
          "output_type": "stream",
          "text": [
            "______\n",
            "Translation API returned the input string unchanged.\n"
          ],
          "name": "stdout"
        },
        {
          "output_type": "stream",
          "text": [
            " 45%|████▌     | 12289/27212 [2:02:00<2:23:27,  1.73it/s]"
          ],
          "name": "stderr"
        },
        {
          "output_type": "stream",
          "text": [
            "5555\n",
            "Translation API returned the input string unchanged.\n"
          ],
          "name": "stdout"
        },
        {
          "output_type": "stream",
          "text": [
            " 45%|████▌     | 12341/27212 [2:02:30<2:29:11,  1.66it/s]"
          ],
          "name": "stderr"
        },
        {
          "output_type": "stream",
          "text": [
            "OK.\n",
            "Translation API returned the input string unchanged.\n"
          ],
          "name": "stdout"
        },
        {
          "output_type": "stream",
          "text": [
            " 45%|████▌     | 12370/27212 [2:02:47<2:16:25,  1.81it/s]"
          ],
          "name": "stderr"
        },
        {
          "output_type": "stream",
          "text": [
            ":-)\n",
            "Translation API returned the input string unchanged.\n"
          ],
          "name": "stdout"
        },
        {
          "output_type": "stream",
          "text": [
            " 46%|████▌     | 12390/27212 [2:02:59<2:29:52,  1.65it/s]"
          ],
          "name": "stderr"
        },
        {
          "output_type": "stream",
          "text": [
            "Aristi exipiretisi super-efxaristimenos +++++\n",
            "Translation API returned the input string unchanged.\n"
          ],
          "name": "stdout"
        },
        {
          "output_type": "stream",
          "text": [
            " 46%|████▌     | 12460/27212 [2:03:40<2:20:53,  1.75it/s]"
          ],
          "name": "stderr"
        },
        {
          "output_type": "stream",
          "text": [
            "TELEIA GIATROS\n",
            "Translation API returned the input string unchanged.\n"
          ],
          "name": "stdout"
        },
        {
          "output_type": "stream",
          "text": [
            "\r 46%|████▌     | 12461/27212 [2:03:41<2:58:11,  1.38it/s]"
          ],
          "name": "stderr"
        },
        {
          "output_type": "stream",
          "text": [
            "     .\n",
            "Translation API returned the input string unchanged.\n"
          ],
          "name": "stdout"
        },
        {
          "output_type": "stream",
          "text": [
            " 46%|████▌     | 12489/27212 [2:03:59<2:26:51,  1.67it/s]"
          ],
          "name": "stderr"
        },
        {
          "output_type": "stream",
          "text": [
            "!!!\n",
            "Translation API returned the input string unchanged.\n"
          ],
          "name": "stdout"
        },
        {
          "output_type": "stream",
          "text": [
            " 46%|████▌     | 12492/27212 [2:04:01<2:37:42,  1.56it/s]"
          ],
          "name": "stderr"
        },
        {
          "output_type": "stream",
          "text": [
            "I wish all the best for him!\n",
            "Translation API returned the input string unchanged.\n"
          ],
          "name": "stdout"
        },
        {
          "output_type": "stream",
          "text": [
            " 46%|████▌     | 12496/27212 [2:04:04<2:44:35,  1.49it/s]"
          ],
          "name": "stderr"
        },
        {
          "output_type": "stream",
          "text": [
            "??????????????\n",
            "Translation API returned the input string unchanged.\n"
          ],
          "name": "stdout"
        },
        {
          "output_type": "stream",
          "text": [
            " 46%|████▌     | 12572/27212 [2:04:48<2:18:47,  1.76it/s]"
          ],
          "name": "stderr"
        },
        {
          "output_type": "stream",
          "text": [
            "PERFECT!\n",
            "Translation API returned the input string unchanged.\n"
          ],
          "name": "stdout"
        },
        {
          "output_type": "stream",
          "text": [
            " 46%|████▋     | 12598/27212 [2:05:04<2:25:22,  1.68it/s]"
          ],
          "name": "stderr"
        },
        {
          "output_type": "stream",
          "text": [
            "Polu prositos kai eugenikos\n",
            "Translation API returned the input string unchanged.\n"
          ],
          "name": "stdout"
        },
        {
          "output_type": "stream",
          "text": [
            " 46%|████▋     | 12638/27212 [2:05:28<2:17:10,  1.77it/s]"
          ],
          "name": "stderr"
        },
        {
          "output_type": "stream",
          "text": [
            " . \n",
            "Translation API returned the input string unchanged.\n"
          ],
          "name": "stdout"
        },
        {
          "output_type": "stream",
          "text": [
            " 46%|████▋     | 12648/27212 [2:05:34<2:25:26,  1.67it/s]"
          ],
          "name": "stderr"
        },
        {
          "output_type": "stream",
          "text": [
            "ola mia xara!\n",
            "Translation API returned the input string unchanged.\n"
          ],
          "name": "stdout"
        },
        {
          "output_type": "stream",
          "text": [
            " 46%|████▋     | 12651/27212 [2:05:37<2:45:16,  1.47it/s]"
          ],
          "name": "stderr"
        },
        {
          "output_type": "stream",
          "text": [
            "He was very professional. \n",
            "Translation API returned the input string unchanged.\n"
          ],
          "name": "stdout"
        },
        {
          "output_type": "stream",
          "text": [
            " 47%|████▋     | 12705/27212 [2:06:08<2:27:45,  1.64it/s]"
          ],
          "name": "stderr"
        },
        {
          "output_type": "stream",
          "text": [
            "...\n",
            "Translation API returned the input string unchanged.\n"
          ],
          "name": "stdout"
        },
        {
          "output_type": "stream",
          "text": [
            " 47%|████▋     | 12758/27212 [2:06:39<2:20:50,  1.71it/s]"
          ],
          "name": "stderr"
        },
        {
          "output_type": "stream",
          "text": [
            " .\n",
            "Translation API returned the input string unchanged.\n"
          ],
          "name": "stdout"
        },
        {
          "output_type": "stream",
          "text": [
            " 47%|████▋     | 12774/27212 [2:06:49<2:17:49,  1.75it/s]"
          ],
          "name": "stderr"
        },
        {
          "output_type": "stream",
          "text": [
            "Great doctor\n",
            "Translation API returned the input string unchanged.\n"
          ],
          "name": "stdout"
        },
        {
          "output_type": "stream",
          "text": [
            " 47%|████▋     | 12788/27212 [2:06:57<2:15:27,  1.77it/s]"
          ],
          "name": "stderr"
        },
        {
          "output_type": "stream",
          "text": [
            "Ola kala\n",
            "Translation API returned the input string unchanged.\n"
          ],
          "name": "stdout"
        },
        {
          "output_type": "stream",
          "text": [
            " 47%|████▋     | 12792/27212 [2:07:00<2:21:59,  1.69it/s]"
          ],
          "name": "stderr"
        },
        {
          "output_type": "stream",
          "text": [
            "fdd\n",
            "Translation API returned the input string unchanged.\n"
          ],
          "name": "stdout"
        },
        {
          "output_type": "stream",
          "text": [
            " 47%|████▋     | 12834/27212 [2:07:25<2:27:03,  1.63it/s]"
          ],
          "name": "stderr"
        },
        {
          "output_type": "stream",
          "text": [
            "10\n",
            "Translation API returned the input string unchanged.\n"
          ],
          "name": "stdout"
        },
        {
          "output_type": "stream",
          "text": [
            "\r 47%|████▋     | 12835/27212 [2:07:26<2:56:12,  1.36it/s]"
          ],
          "name": "stderr"
        },
        {
          "output_type": "stream",
          "text": [
            "Poly kalos\n",
            "Translation API returned the input string unchanged.\n"
          ],
          "name": "stdout"
        },
        {
          "output_type": "stream",
          "text": [
            " 47%|████▋     | 12847/27212 [2:07:34<2:33:00,  1.56it/s]"
          ],
          "name": "stderr"
        },
        {
          "output_type": "stream",
          "text": [
            "!!!!!!!!\n",
            "Translation API returned the input string unchanged.\n"
          ],
          "name": "stdout"
        },
        {
          "output_type": "stream",
          "text": [
            " 47%|████▋     | 12864/27212 [2:07:45<2:25:59,  1.64it/s]"
          ],
          "name": "stderr"
        },
        {
          "output_type": "stream",
          "text": [
            "Exeretiko\n",
            "Translation API returned the input string unchanged.\n"
          ],
          "name": "stdout"
        },
        {
          "output_type": "stream",
          "text": [
            " 48%|████▊     | 12932/27212 [2:08:25<2:11:15,  1.81it/s]"
          ],
          "name": "stderr"
        },
        {
          "output_type": "stream",
          "text": [
            "ITAN POLU KALOS \n",
            "Translation API returned the input string unchanged.\n"
          ],
          "name": "stdout"
        },
        {
          "output_type": "stream",
          "text": [
            " 48%|████▊     | 12939/27212 [2:08:29<2:25:09,  1.64it/s]"
          ],
          "name": "stderr"
        },
        {
          "output_type": "stream",
          "text": [
            "Everything was perfect. Will go again in the future.\n",
            "Translation API returned the input string unchanged.\n"
          ],
          "name": "stdout"
        },
        {
          "output_type": "stream",
          "text": [
            " 48%|████▊     | 12997/27212 [2:09:04<2:11:43,  1.80it/s]"
          ],
          "name": "stderr"
        },
        {
          "output_type": "stream",
          "text": [
            "kalos\n",
            "Translation API returned the input string unchanged.\n"
          ],
          "name": "stdout"
        },
        {
          "output_type": "stream",
          "text": [
            " 48%|████▊     | 13001/27212 [2:09:06<2:22:36,  1.66it/s]"
          ],
          "name": "stderr"
        },
        {
          "output_type": "stream",
          "text": [
            "SUPER..................\n",
            "Translation API returned the input string unchanged.\n"
          ],
          "name": "stdout"
        },
        {
          "output_type": "stream",
          "text": [
            " 48%|████▊     | 13016/27212 [2:09:15<2:16:58,  1.73it/s]"
          ],
          "name": "stderr"
        },
        {
          "output_type": "stream",
          "text": [
            "fully satisfied\n",
            "Translation API returned the input string unchanged.\n"
          ],
          "name": "stdout"
        },
        {
          "output_type": "stream",
          "text": [
            " 48%|████▊     | 13049/27212 [2:09:35<2:11:25,  1.80it/s]"
          ],
          "name": "stderr"
        },
        {
          "output_type": "stream",
          "text": [
            "Polu kalos giatros, proth fora phga k elpizo tha ksanapao k alh fora, giati enoisa polu aneta k me dehtike akrivos sthn ora mou :)\n",
            "Translation API returned the input string unchanged.\n"
          ],
          "name": "stdout"
        },
        {
          "output_type": "stream",
          "text": [
            "\r 48%|████▊     | 13050/27212 [2:09:36<2:54:11,  1.35it/s]"
          ],
          "name": "stderr"
        },
        {
          "output_type": "stream",
          "text": [
            "***\n",
            "Translation API returned the input string unchanged.\n"
          ],
          "name": "stdout"
        },
        {
          "output_type": "stream",
          "text": [
            " 48%|████▊     | 13058/27212 [2:09:41<2:19:45,  1.69it/s]"
          ],
          "name": "stderr"
        },
        {
          "output_type": "stream",
          "text": [
            "   :\n",
            "Translation API returned the input string unchanged.\n"
          ],
          "name": "stdout"
        },
        {
          "output_type": "stream",
          "text": [
            " 48%|████▊     | 13063/27212 [2:09:44<2:23:01,  1.65it/s]"
          ],
          "name": "stderr"
        },
        {
          "output_type": "stream",
          "text": [
            "10/10\n",
            "Translation API returned the input string unchanged.\n"
          ],
          "name": "stdout"
        },
        {
          "output_type": "stream",
          "text": [
            " 48%|████▊     | 13072/27212 [2:09:50<2:27:25,  1.60it/s]"
          ],
          "name": "stderr"
        },
        {
          "output_type": "stream",
          "text": [
            "Meta to rantebou me tin Ka Delibeliwtou, tha tin sistinw anepifilakta! ^^\n",
            "Translation API returned the input string unchanged.\n"
          ],
          "name": "stdout"
        },
        {
          "output_type": "stream",
          "text": [
            " 48%|████▊     | 13083/27212 [2:09:57<2:11:30,  1.79it/s]"
          ],
          "name": "stderr"
        },
        {
          "output_type": "stream",
          "text": [
            "Good Doctor\n",
            "Translation API returned the input string unchanged.\n"
          ],
          "name": "stdout"
        },
        {
          "output_type": "stream",
          "text": [
            " 48%|████▊     | 13096/27212 [2:10:05<2:29:56,  1.57it/s]"
          ],
          "name": "stderr"
        },
        {
          "output_type": "stream",
          "text": [
            "Excellent.\n",
            "Translation API returned the input string unchanged.\n"
          ],
          "name": "stdout"
        },
        {
          "output_type": "stream",
          "text": [
            " 48%|████▊     | 13105/27212 [2:10:11<2:22:22,  1.65it/s]"
          ],
          "name": "stderr"
        },
        {
          "output_type": "stream",
          "text": [
            "Very good and very professional doctor \n",
            "Translation API returned the input string unchanged.\n"
          ],
          "name": "stdout"
        },
        {
          "output_type": "stream",
          "text": [
            " 48%|████▊     | 13112/27212 [2:10:16<2:19:45,  1.68it/s]"
          ],
          "name": "stderr"
        },
        {
          "output_type": "stream",
          "text": [
            "Epagkelmatias\n",
            "Translation API returned the input string unchanged.\n"
          ],
          "name": "stdout"
        },
        {
          "output_type": "stream",
          "text": [
            " 48%|████▊     | 13126/27212 [2:10:24<2:09:07,  1.82it/s]"
          ],
          "name": "stderr"
        },
        {
          "output_type": "stream",
          "text": [
            "Poly kali giatros kai poly eygeniki!\n",
            "Translation API returned the input string unchanged.\n"
          ],
          "name": "stdout"
        },
        {
          "output_type": "stream",
          "text": [
            " 48%|████▊     | 13155/27212 [2:10:43<2:13:01,  1.76it/s]"
          ],
          "name": "stderr"
        },
        {
          "output_type": "stream",
          "text": [
            "ola kala\n",
            "Translation API returned the input string unchanged.\n"
          ],
          "name": "stdout"
        },
        {
          "output_type": "stream",
          "text": [
            " 48%|████▊     | 13158/27212 [2:10:46<2:39:29,  1.47it/s]"
          ],
          "name": "stderr"
        },
        {
          "output_type": "stream",
          "text": [
            "...\n",
            "Translation API returned the input string unchanged.\n"
          ],
          "name": "stdout"
        },
        {
          "output_type": "stream",
          "text": [
            " 49%|████▊     | 13237/27212 [2:11:32<2:17:24,  1.70it/s]"
          ],
          "name": "stderr"
        },
        {
          "output_type": "stream",
          "text": [
            "The doctor is very knowledgeable, attentive and caring. He is very friendly, communicative and speaks fluent English. Great experience.\n",
            "Translation API returned the input string unchanged.\n"
          ],
          "name": "stdout"
        },
        {
          "output_type": "stream",
          "text": [
            " 49%|████▊     | 13244/27212 [2:11:37<2:35:41,  1.50it/s]"
          ],
          "name": "stderr"
        },
        {
          "output_type": "stream",
          "text": [
            "ola kala\n",
            "Translation API returned the input string unchanged.\n"
          ],
          "name": "stdout"
        },
        {
          "output_type": "stream",
          "text": [
            " 49%|████▉     | 13328/27212 [2:12:27<2:17:29,  1.68it/s]"
          ],
          "name": "stderr"
        },
        {
          "output_type": "stream",
          "text": [
            "poli kalos giatros\n",
            "Translation API returned the input string unchanged.\n"
          ],
          "name": "stdout"
        },
        {
          "output_type": "stream",
          "text": [
            " 49%|████▉     | 13339/27212 [2:12:34<2:12:32,  1.74it/s]"
          ],
          "name": "stderr"
        },
        {
          "output_type": "stream",
          "text": [
            ".. \n",
            "Translation API returned the input string unchanged.\n"
          ],
          "name": "stdout"
        },
        {
          "output_type": "stream",
          "text": [
            " 49%|████▉     | 13370/27212 [2:12:53<2:23:37,  1.61it/s]"
          ],
          "name": "stderr"
        },
        {
          "output_type": "stream",
          "text": [
            "Ola kala!\n",
            "Translation API returned the input string unchanged.\n"
          ],
          "name": "stdout"
        },
        {
          "output_type": "stream",
          "text": [
            " 50%|████▉     | 13525/27212 [2:14:24<2:20:49,  1.62it/s]"
          ],
          "name": "stderr"
        },
        {
          "output_type": "stream",
          "text": [
            "   ..\n",
            "Translation API returned the input string unchanged.\n"
          ],
          "name": "stdout"
        },
        {
          "output_type": "stream",
          "text": [
            "\r 50%|████▉     | 13526/27212 [2:14:25<2:47:42,  1.36it/s]"
          ],
          "name": "stderr"
        },
        {
          "output_type": "stream",
          "text": [
            "exeretikos giatros\n",
            "Translation API returned the input string unchanged.\n"
          ],
          "name": "stdout"
        },
        {
          "output_type": "stream",
          "text": [
            " 50%|████▉     | 13546/27212 [2:14:38<2:24:59,  1.57it/s]"
          ],
          "name": "stderr"
        },
        {
          "output_type": "stream",
          "text": [
            "She is an amazing person \n",
            "Translation API returned the input string unchanged.\n"
          ],
          "name": "stdout"
        },
        {
          "output_type": "stream",
          "text": [
            " 50%|████▉     | 13598/27212 [2:15:09<2:11:26,  1.73it/s]"
          ],
          "name": "stderr"
        },
        {
          "output_type": "stream",
          "text": [
            "Went above and beyond, great doctor!\n",
            "Translation API returned the input string unchanged.\n"
          ],
          "name": "stdout"
        },
        {
          "output_type": "stream",
          "text": [
            " 50%|████▉     | 13603/27212 [2:15:12<2:19:18,  1.63it/s]"
          ],
          "name": "stderr"
        },
        {
          "output_type": "stream",
          "text": [
            "(Y)\n",
            "Translation API returned the input string unchanged.\n"
          ],
          "name": "stdout"
        },
        {
          "output_type": "stream",
          "text": [
            " 50%|█████     | 13631/27212 [2:15:29<2:11:57,  1.72it/s]"
          ],
          "name": "stderr"
        },
        {
          "output_type": "stream",
          "text": [
            "Poli kali giatros.\n",
            "Translation API returned the input string unchanged.\n"
          ],
          "name": "stdout"
        },
        {
          "output_type": "stream",
          "text": [
            " 50%|█████     | 13690/27212 [2:16:04<2:16:00,  1.66it/s]"
          ],
          "name": "stderr"
        },
        {
          "output_type": "stream",
          "text": [
            "¨αψογος\n",
            "Translation API returned the input string unchanged.\n"
          ],
          "name": "stdout"
        },
        {
          "output_type": "stream",
          "text": [
            " 50%|█████     | 13703/27212 [2:16:12<2:15:10,  1.67it/s]"
          ],
          "name": "stderr"
        },
        {
          "output_type": "stream",
          "text": [
            "poly kalos\n",
            "Translation API returned the input string unchanged.\n"
          ],
          "name": "stdout"
        },
        {
          "output_type": "stream",
          "text": [
            " 50%|█████     | 13718/27212 [2:16:22<2:36:54,  1.43it/s]"
          ],
          "name": "stderr"
        },
        {
          "output_type": "stream",
          "text": [
            "ola kala\n",
            "Translation API returned the input string unchanged.\n"
          ],
          "name": "stdout"
        },
        {
          "output_type": "stream",
          "text": [
            "\r 50%|█████     | 13719/27212 [2:16:23<2:58:10,  1.26it/s]"
          ],
          "name": "stderr"
        },
        {
          "output_type": "stream",
          "text": [
            "ola kala\n",
            "Translation API returned the input string unchanged.\n"
          ],
          "name": "stdout"
        },
        {
          "output_type": "stream",
          "text": [
            " 51%|█████     | 13744/27212 [2:16:38<2:08:43,  1.74it/s]"
          ],
          "name": "stderr"
        },
        {
          "output_type": "stream",
          "text": [
            "😊😊😊\n",
            "Translation API returned the input string unchanged.\n"
          ],
          "name": "stdout"
        },
        {
          "output_type": "stream",
          "text": [
            " 51%|█████     | 13792/27212 [2:17:06<2:08:03,  1.75it/s]"
          ],
          "name": "stderr"
        },
        {
          "output_type": "stream",
          "text": [
            "no comments\n",
            "Translation API returned the input string unchanged.\n"
          ],
          "name": "stdout"
        },
        {
          "output_type": "stream",
          "text": [
            " 51%|█████     | 13798/27212 [2:17:10<2:18:41,  1.61it/s]"
          ],
          "name": "stderr"
        },
        {
          "output_type": "stream",
          "text": [
            "n/c\n",
            "Translation API returned the input string unchanged.\n"
          ],
          "name": "stdout"
        },
        {
          "output_type": "stream",
          "text": [
            " 51%|█████     | 13820/27212 [2:17:23<2:15:30,  1.65it/s]"
          ],
          "name": "stderr"
        },
        {
          "output_type": "stream",
          "text": [
            "Poli kalos anthrwpos kai panta eksipiretikos!\n",
            "Translation API returned the input string unchanged.\n"
          ],
          "name": "stdout"
        },
        {
          "output_type": "stream",
          "text": [
            " 51%|█████     | 13842/27212 [2:17:37<2:14:32,  1.66it/s]"
          ],
          "name": "stderr"
        },
        {
          "output_type": "stream",
          "text": [
            "Einai para pl kalh k panta einai dia8esimh s \n",
            "Translation API returned the input string unchanged.\n"
          ],
          "name": "stdout"
        },
        {
          "output_type": "stream",
          "text": [
            " 51%|█████     | 13887/27212 [2:18:03<2:10:17,  1.70it/s]"
          ],
          "name": "stderr"
        },
        {
          "output_type": "stream",
          "text": [
            "!!!!!!!!!!\n",
            "Translation API returned the input string unchanged.\n"
          ],
          "name": "stdout"
        },
        {
          "output_type": "stream",
          "text": [
            " 51%|█████     | 13898/27212 [2:18:10<2:11:06,  1.69it/s]"
          ],
          "name": "stderr"
        },
        {
          "output_type": "stream",
          "text": [
            "MO COMMENT\n",
            "Translation API returned the input string unchanged.\n"
          ],
          "name": "stdout"
        },
        {
          "output_type": "stream",
          "text": [
            " 51%|█████▏    | 13980/27212 [2:18:58<2:04:26,  1.77it/s]"
          ],
          "name": "stderr"
        },
        {
          "output_type": "stream",
          "text": [
            "...\n",
            "Translation API returned the input string unchanged.\n"
          ],
          "name": "stdout"
        },
        {
          "output_type": "stream",
          "text": [
            "\r 51%|█████▏    | 13981/27212 [2:18:59<2:34:03,  1.43it/s]"
          ],
          "name": "stderr"
        },
        {
          "output_type": "stream",
          "text": [
            "htan para polu kalos kai eugenikos den ua ton allakso\n",
            "Translation API returned the input string unchanged.\n"
          ],
          "name": "stdout"
        },
        {
          "output_type": "stream",
          "text": [
            " 51%|█████▏    | 13988/27212 [2:19:04<2:22:05,  1.55it/s]"
          ],
          "name": "stderr"
        },
        {
          "output_type": "stream",
          "text": [
            "Polu kalos giatros! !!!!!!!!!!!\n",
            "Translation API returned the input string unchanged.\n"
          ],
          "name": "stdout"
        },
        {
          "output_type": "stream",
          "text": [
            " 52%|█████▏    | 14021/27212 [2:19:24<2:15:22,  1.62it/s]"
          ],
          "name": "stderr"
        },
        {
          "output_type": "stream",
          "text": [
            "Good service, very professional.\n",
            "Translation API returned the input string unchanged.\n"
          ],
          "name": "stdout"
        },
        {
          "output_type": "stream",
          "text": [
            " 52%|█████▏    | 14031/27212 [2:19:31<2:20:11,  1.57it/s]"
          ],
          "name": "stderr"
        },
        {
          "output_type": "stream",
          "text": [
            "super!\n",
            "Translation API returned the input string unchanged.\n"
          ],
          "name": "stdout"
        },
        {
          "output_type": "stream",
          "text": [
            " 52%|█████▏    | 14038/27212 [2:19:35<2:15:10,  1.62it/s]"
          ],
          "name": "stderr"
        },
        {
          "output_type": "stream",
          "text": [
            "Ola kala\n",
            "Translation API returned the input string unchanged.\n"
          ],
          "name": "stdout"
        },
        {
          "output_type": "stream",
          "text": [
            " 52%|█████▏    | 14098/27212 [2:20:10<2:09:23,  1.69it/s]"
          ],
          "name": "stderr"
        },
        {
          "output_type": "stream",
          "text": [
            "Teleia geiatros.\n",
            "Translation API returned the input string unchanged.\n"
          ],
          "name": "stdout"
        },
        {
          "output_type": "stream",
          "text": [
            " 52%|█████▏    | 14100/27212 [2:20:12<2:33:38,  1.42it/s]"
          ],
          "name": "stderr"
        },
        {
          "output_type": "stream",
          "text": [
            "Absogos!\n",
            "Translation API returned the input string unchanged.\n"
          ],
          "name": "stdout"
        },
        {
          "output_type": "stream",
          "text": [
            " 52%|█████▏    | 14105/27212 [2:20:15<2:18:40,  1.58it/s]"
          ],
          "name": "stderr"
        },
        {
          "output_type": "stream",
          "text": [
            "😃😃😃😃\n",
            "Translation API returned the input string unchanged.\n"
          ],
          "name": "stdout"
        },
        {
          "output_type": "stream",
          "text": [
            " 52%|█████▏    | 14134/27212 [2:20:33<2:06:42,  1.72it/s]"
          ],
          "name": "stderr"
        },
        {
          "output_type": "stream",
          "text": [
            "Ola kala!\n",
            "Translation API returned the input string unchanged.\n"
          ],
          "name": "stdout"
        },
        {
          "output_type": "stream",
          "text": [
            " 52%|█████▏    | 14190/27212 [2:21:07<2:10:51,  1.66it/s]"
          ],
          "name": "stderr"
        },
        {
          "output_type": "stream",
          "text": [
            " .\n",
            "Translation API returned the input string unchanged.\n"
          ],
          "name": "stdout"
        },
        {
          "output_type": "stream",
          "text": [
            " 52%|█████▏    | 14192/27212 [2:21:08<2:27:26,  1.47it/s]"
          ],
          "name": "stderr"
        },
        {
          "output_type": "stream",
          "text": [
            "GHHJ\n",
            "Translation API returned the input string unchanged.\n"
          ],
          "name": "stdout"
        },
        {
          "output_type": "stream",
          "text": [
            " 52%|█████▏    | 14238/27212 [2:21:37<2:11:21,  1.65it/s]"
          ],
          "name": "stderr"
        },
        {
          "output_type": "stream",
          "text": [
            "Outstanding doctor and impeccable character. Polite, cheerful, talkative, eager to explain you everything in detail. Wins your trust from the first appointment.\n",
            "Translation API returned the input string unchanged.\n"
          ],
          "name": "stdout"
        },
        {
          "output_type": "stream",
          "text": [
            " 52%|█████▏    | 14253/27212 [2:21:46<2:00:25,  1.79it/s]"
          ],
          "name": "stderr"
        },
        {
          "output_type": "stream",
          "text": [
            "Doctor Tadros seems to me a good dermatologue and a very pleasant person.\n",
            "Translation API returned the input string unchanged.\n"
          ],
          "name": "stdout"
        },
        {
          "output_type": "stream",
          "text": [
            " 53%|█████▎    | 14311/27212 [2:22:20<2:03:54,  1.74it/s]"
          ],
          "name": "stderr"
        },
        {
          "output_type": "stream",
          "text": [
            "Se ola apsogos\n",
            "Translation API returned the input string unchanged.\n"
          ],
          "name": "stdout"
        },
        {
          "output_type": "stream",
          "text": [
            " 53%|█████▎    | 14316/27212 [2:22:24<2:11:14,  1.64it/s]"
          ],
          "name": "stderr"
        },
        {
          "output_type": "stream",
          "text": [
            " .\n",
            "Translation API returned the input string unchanged.\n"
          ],
          "name": "stdout"
        },
        {
          "output_type": "stream",
          "text": [
            " 53%|█████▎    | 14326/27212 [2:22:30<2:11:42,  1.63it/s]"
          ],
          "name": "stderr"
        },
        {
          "output_type": "stream",
          "text": [
            "POLU KALOS GIATROS\n",
            "Translation API returned the input string unchanged.\n"
          ],
          "name": "stdout"
        },
        {
          "output_type": "stream",
          "text": [
            " 53%|█████▎    | 14338/27212 [2:22:38<1:58:47,  1.81it/s]"
          ],
          "name": "stderr"
        },
        {
          "output_type": "stream",
          "text": [
            "euxaristw polh!\n",
            "Translation API returned the input string unchanged.\n"
          ],
          "name": "stdout"
        },
        {
          "output_type": "stream",
          "text": [
            " 53%|█████▎    | 14346/27212 [2:22:43<2:03:50,  1.73it/s]"
          ],
          "name": "stderr"
        },
        {
          "output_type": "stream",
          "text": [
            "Professional attitude\n",
            "Translation API returned the input string unchanged.\n"
          ],
          "name": "stdout"
        },
        {
          "output_type": "stream",
          "text": [
            " 53%|█████▎    | 14438/27212 [2:23:37<2:04:01,  1.72it/s]"
          ],
          "name": "stderr"
        },
        {
          "output_type": "stream",
          "text": [
            "!!!!!!!!!!\n",
            "Translation API returned the input string unchanged.\n"
          ],
          "name": "stdout"
        },
        {
          "output_type": "stream",
          "text": [
            " 53%|█████▎    | 14441/27212 [2:23:39<2:20:52,  1.51it/s]"
          ],
          "name": "stderr"
        },
        {
          "output_type": "stream",
          "text": [
            " Bfc\n",
            "Translation API returned the input string unchanged.\n"
          ],
          "name": "stdout"
        },
        {
          "output_type": "stream",
          "text": [
            " 53%|█████▎    | 14500/27212 [2:24:14<2:06:46,  1.67it/s]"
          ],
          "name": "stderr"
        },
        {
          "output_type": "stream",
          "text": [
            "---------\n",
            "Translation API returned the input string unchanged.\n"
          ],
          "name": "stdout"
        },
        {
          "output_type": "stream",
          "text": [
            " 53%|█████▎    | 14503/27212 [2:24:16<2:17:24,  1.54it/s]"
          ],
          "name": "stderr"
        },
        {
          "output_type": "stream",
          "text": [
            "Hfg\n",
            "Translation API returned the input string unchanged.\n"
          ],
          "name": "stdout"
        },
        {
          "output_type": "stream",
          "text": [
            " 53%|█████▎    | 14532/27212 [2:24:34<2:03:55,  1.71it/s]"
          ],
          "name": "stderr"
        },
        {
          "output_type": "stream",
          "text": [
            "dadadas\n",
            "Translation API returned the input string unchanged.\n"
          ],
          "name": "stdout"
        },
        {
          "output_type": "stream",
          "text": [
            " 53%|█████▎    | 14540/27212 [2:24:39<2:05:41,  1.68it/s]"
          ],
          "name": "stderr"
        },
        {
          "output_type": "stream",
          "text": [
            "10'\n",
            "Translation API returned the input string unchanged.\n"
          ],
          "name": "stdout"
        },
        {
          "output_type": "stream",
          "text": [
            " 54%|█████▎    | 14585/27212 [2:25:06<2:07:29,  1.65it/s]"
          ],
          "name": "stderr"
        },
        {
          "output_type": "stream",
          "text": [
            "kalos giatros\n",
            "Translation API returned the input string unchanged.\n"
          ],
          "name": "stdout"
        },
        {
          "output_type": "stream",
          "text": [
            " 54%|█████▎    | 14602/27212 [2:25:18<2:47:49,  1.25it/s]"
          ],
          "name": "stderr"
        },
        {
          "output_type": "stream",
          "text": [
            "ola kala!\n",
            "Translation API returned the input string unchanged.\n"
          ],
          "name": "stdout"
        },
        {
          "output_type": "stream",
          "text": [
            " 54%|█████▍    | 14628/27212 [2:25:33<2:14:55,  1.55it/s]"
          ],
          "name": "stderr"
        },
        {
          "output_type": "stream",
          "text": [
            "κ6666αλ6ς6\n",
            "Translation API returned the input string unchanged.\n"
          ],
          "name": "stdout"
        },
        {
          "output_type": "stream",
          "text": [
            " 54%|█████▍    | 14682/27212 [2:26:06<2:03:53,  1.69it/s]"
          ],
          "name": "stderr"
        },
        {
          "output_type": "stream",
          "text": [
            "apsogi opos panta\n",
            "Translation API returned the input string unchanged.\n"
          ],
          "name": "stdout"
        },
        {
          "output_type": "stream",
          "text": [
            " 54%|█████▍    | 14687/27212 [2:26:09<2:10:31,  1.60it/s]"
          ],
          "name": "stderr"
        },
        {
          "output_type": "stream",
          "text": [
            "Ola mia xara\n",
            "Translation API returned the input string unchanged.\n"
          ],
          "name": "stdout"
        },
        {
          "output_type": "stream",
          "text": [
            " 54%|█████▍    | 14731/27212 [2:26:35<2:00:36,  1.72it/s]"
          ],
          "name": "stderr"
        },
        {
          "output_type": "stream",
          "text": [
            "...\n",
            "Translation API returned the input string unchanged.\n"
          ],
          "name": "stdout"
        },
        {
          "output_type": "stream",
          "text": [
            " 54%|█████▍    | 14790/27212 [2:27:10<2:06:20,  1.64it/s]"
          ],
          "name": "stderr"
        },
        {
          "output_type": "stream",
          "text": [
            "Very good and careful examination . I would recommend the doctor to any one\n",
            "Translation API returned the input string unchanged.\n"
          ],
          "name": "stdout"
        },
        {
          "output_type": "stream",
          "text": [
            " 54%|█████▍    | 14816/27212 [2:27:26<2:08:32,  1.61it/s]"
          ],
          "name": "stderr"
        },
        {
          "output_type": "stream",
          "text": [
            "...\n",
            "Translation API returned the input string unchanged.\n"
          ],
          "name": "stdout"
        },
        {
          "output_type": "stream",
          "text": [
            " 55%|█████▍    | 14855/27212 [2:27:49<2:01:13,  1.70it/s]"
          ],
          "name": "stderr"
        },
        {
          "output_type": "stream",
          "text": [
            "Poli kalos \n",
            "Translation API returned the input string unchanged.\n"
          ],
          "name": "stdout"
        },
        {
          "output_type": "stream",
          "text": [
            " 55%|█████▍    | 14863/27212 [2:27:54<2:03:02,  1.67it/s]"
          ],
          "name": "stderr"
        },
        {
          "output_type": "stream",
          "text": [
            "Teleia.\n",
            "Translation API returned the input string unchanged.\n"
          ],
          "name": "stdout"
        },
        {
          "output_type": "stream",
          "text": [
            " 55%|█████▍    | 14904/27212 [2:28:19<2:08:06,  1.60it/s]"
          ],
          "name": "stderr"
        },
        {
          "output_type": "stream",
          "text": [
            "Itan polu kali kai analutiki. Apadise se oles tis erwtiseis mou kai me eksetase dieksodika. \n",
            "Translation API returned the input string unchanged.\n"
          ],
          "name": "stdout"
        },
        {
          "output_type": "stream",
          "text": [
            " 55%|█████▍    | 14934/27212 [2:28:37<2:03:06,  1.66it/s]"
          ],
          "name": "stderr"
        },
        {
          "output_type": "stream",
          "text": [
            "KALA\n",
            "Translation API returned the input string unchanged.\n"
          ],
          "name": "stdout"
        },
        {
          "output_type": "stream",
          "text": [
            " 55%|█████▍    | 14951/27212 [2:28:48<2:01:52,  1.68it/s]"
          ],
          "name": "stderr"
        },
        {
          "output_type": "stream",
          "text": [
            "A lot of experience, superb work, very professional\n",
            "Translation API returned the input string unchanged.\n"
          ],
          "name": "stdout"
        },
        {
          "output_type": "stream",
          "text": [
            " 55%|█████▍    | 14954/27212 [2:28:50<2:14:43,  1.52it/s]"
          ],
          "name": "stderr"
        },
        {
          "output_type": "stream",
          "text": [
            "not much the price could be a bit better\n",
            "Translation API returned the input string unchanged.\n"
          ],
          "name": "stdout"
        },
        {
          "output_type": "stream",
          "text": [
            " 55%|█████▌    | 14967/27212 [2:28:59<2:10:07,  1.57it/s]"
          ],
          "name": "stderr"
        },
        {
          "output_type": "stream",
          "text": [
            "very professional \n",
            "Translation API returned the input string unchanged.\n"
          ],
          "name": "stdout"
        },
        {
          "output_type": "stream",
          "text": [
            " 55%|█████▌    | 14996/27212 [2:29:16<2:03:42,  1.65it/s]"
          ],
          "name": "stderr"
        },
        {
          "output_type": "stream",
          "text": [
            "! \n",
            "Translation API returned the input string unchanged.\n"
          ],
          "name": "stdout"
        },
        {
          "output_type": "stream",
          "text": [
            " 55%|█████▌    | 15003/27212 [2:29:21<1:59:51,  1.70it/s]"
          ],
          "name": "stderr"
        },
        {
          "output_type": "stream",
          "text": [
            "polu kalos \n",
            "Translation API returned the input string unchanged.\n"
          ],
          "name": "stdout"
        },
        {
          "output_type": "stream",
          "text": [
            " 55%|█████▌    | 15086/27212 [2:30:10<1:58:45,  1.70it/s]"
          ],
          "name": "stderr"
        },
        {
          "output_type": "stream",
          "text": [
            "Ola kala!\n",
            "Translation API returned the input string unchanged.\n"
          ],
          "name": "stdout"
        },
        {
          "output_type": "stream",
          "text": [
            " 56%|█████▌    | 15159/27212 [2:30:53<1:55:12,  1.74it/s]"
          ],
          "name": "stderr"
        },
        {
          "output_type": "stream",
          "text": [
            "     .\n",
            "Translation API returned the input string unchanged.\n"
          ],
          "name": "stdout"
        },
        {
          "output_type": "stream",
          "text": [
            " 56%|█████▌    | 15171/27212 [2:31:01<1:51:44,  1.80it/s]"
          ],
          "name": "stderr"
        },
        {
          "output_type": "stream",
          "text": [
            "ola htan mia xara\n",
            "Translation API returned the input string unchanged.\n"
          ],
          "name": "stdout"
        },
        {
          "output_type": "stream",
          "text": [
            " 56%|█████▌    | 15177/27212 [2:31:05<1:59:51,  1.67it/s]"
          ],
          "name": "stderr"
        },
        {
          "output_type": "stream",
          "text": [
            "Ola teleia!\n",
            "Translation API returned the input string unchanged.\n"
          ],
          "name": "stdout"
        },
        {
          "output_type": "stream",
          "text": [
            " 56%|█████▌    | 15229/27212 [2:31:36<2:00:49,  1.65it/s]"
          ],
          "name": "stderr"
        },
        {
          "output_type": "stream",
          "text": [
            "Htan polu filikh kai e3uphretikotath. 8a th susthna anepifulakta\n",
            "Translation API returned the input string unchanged.\n"
          ],
          "name": "stdout"
        },
        {
          "output_type": "stream",
          "text": [
            " 56%|█████▌    | 15241/27212 [2:31:43<1:58:23,  1.69it/s]"
          ],
          "name": "stderr"
        },
        {
          "output_type": "stream",
          "text": [
            "h therapeia eixe apotelesma!\n",
            "Translation API returned the input string unchanged.\n"
          ],
          "name": "stdout"
        },
        {
          "output_type": "stream",
          "text": [
            " 56%|█████▌    | 15262/27212 [2:31:56<1:49:41,  1.82it/s]"
          ],
          "name": "stderr"
        },
        {
          "output_type": "stream",
          "text": [
            "!!!\n",
            "Translation API returned the input string unchanged.\n"
          ],
          "name": "stdout"
        },
        {
          "output_type": "stream",
          "text": [
            " 56%|█████▌    | 15272/27212 [2:32:02<2:02:05,  1.63it/s]"
          ],
          "name": "stderr"
        },
        {
          "output_type": "stream",
          "text": [
            "!!!!\n",
            "Translation API returned the input string unchanged.\n"
          ],
          "name": "stdout"
        },
        {
          "output_type": "stream",
          "text": [
            " 56%|█████▋    | 15359/27212 [2:32:55<1:57:00,  1.69it/s]"
          ],
          "name": "stderr"
        },
        {
          "output_type": "stream",
          "text": [
            "...\n",
            "Translation API returned the input string unchanged.\n"
          ],
          "name": "stdout"
        },
        {
          "output_type": "stream",
          "text": [
            " 57%|█████▋    | 15394/27212 [2:33:15<1:52:36,  1.75it/s]"
          ],
          "name": "stderr"
        },
        {
          "output_type": "stream",
          "text": [
            "ola kala\n",
            "Translation API returned the input string unchanged.\n"
          ],
          "name": "stdout"
        },
        {
          "output_type": "stream",
          "text": [
            " 57%|█████▋    | 15425/27212 [2:33:34<1:56:54,  1.68it/s]"
          ],
          "name": "stderr"
        },
        {
          "output_type": "stream",
          "text": [
            "Na tsekareis o iatros to amka prin pame sto rdv efoson to dosame kanontas to rdv oxi na pame ekei kai meta\n",
            "Translation API returned the input string unchanged.\n"
          ],
          "name": "stdout"
        },
        {
          "output_type": "stream",
          "text": [
            "\r 57%|█████▋    | 15426/27212 [2:33:35<2:30:04,  1.31it/s]"
          ],
          "name": "stderr"
        },
        {
          "output_type": "stream",
          "text": [
            "KALOS ANURVPOS KAI KALOS EPISTHMONAS, ME ENDIAFERON GIA TON ASUENH.\n",
            "Translation API returned the input string unchanged.\n"
          ],
          "name": "stdout"
        },
        {
          "output_type": "stream",
          "text": [
            " 57%|█████▋    | 15441/27212 [2:33:44<1:53:23,  1.73it/s]"
          ],
          "name": "stderr"
        },
        {
          "output_type": "stream",
          "text": [
            "!!!\n",
            "Translation API returned the input string unchanged.\n"
          ],
          "name": "stdout"
        },
        {
          "output_type": "stream",
          "text": [
            " 57%|█████▋    | 15464/27212 [2:33:58<1:55:29,  1.70it/s]"
          ],
          "name": "stderr"
        },
        {
          "output_type": "stream",
          "text": [
            "Poly kalh timi!\n",
            "Translation API returned the input string unchanged.\n"
          ],
          "name": "stdout"
        },
        {
          "output_type": "stream",
          "text": [
            " 57%|█████▋    | 15467/27212 [2:34:01<2:05:53,  1.55it/s]"
          ],
          "name": "stderr"
        },
        {
          "output_type": "stream",
          "text": [
            "poly kalos!\n",
            "Translation API returned the input string unchanged.\n"
          ],
          "name": "stdout"
        },
        {
          "output_type": "stream",
          "text": [
            " 57%|█████▋    | 15517/27212 [2:34:31<1:54:50,  1.70it/s]"
          ],
          "name": "stderr"
        },
        {
          "output_type": "stream",
          "text": [
            "...\n",
            "Translation API returned the input string unchanged.\n"
          ],
          "name": "stdout"
        },
        {
          "output_type": "stream",
          "text": [
            " 57%|█████▋    | 15605/27212 [2:35:26<2:02:51,  1.57it/s]"
          ],
          "name": "stderr"
        },
        {
          "output_type": "stream",
          "text": [
            "...........\n",
            "Translation API returned the input string unchanged.\n"
          ],
          "name": "stdout"
        },
        {
          "output_type": "stream",
          "text": [
            " 57%|█████▋    | 15616/27212 [2:35:32<1:50:56,  1.74it/s]"
          ],
          "name": "stderr"
        },
        {
          "output_type": "stream",
          "text": [
            "Akouse me prosoxi to problhma mou kai asxolhthike poly wra mazi mou. poly kali kai filiki.\n",
            "Translation API returned the input string unchanged.\n"
          ],
          "name": "stdout"
        },
        {
          "output_type": "stream",
          "text": [
            " 57%|█████▋    | 15644/27212 [2:35:49<1:52:35,  1.71it/s]"
          ],
          "name": "stderr"
        },
        {
          "output_type": "stream",
          "text": [
            "super\n",
            "Translation API returned the input string unchanged.\n"
          ],
          "name": "stdout"
        },
        {
          "output_type": "stream",
          "text": [
            " 58%|█████▊    | 15648/27212 [2:35:52<2:02:47,  1.57it/s]"
          ],
          "name": "stderr"
        },
        {
          "output_type": "stream",
          "text": [
            "ola kala\n",
            "Translation API returned the input string unchanged.\n"
          ],
          "name": "stdout"
        },
        {
          "output_type": "stream",
          "text": [
            " 58%|█████▊    | 15710/27212 [2:36:29<1:44:36,  1.83it/s]"
          ],
          "name": "stderr"
        },
        {
          "output_type": "stream",
          "text": [
            " Μ.Μ. \n",
            "Translation API returned the input string unchanged.\n"
          ],
          "name": "stdout"
        },
        {
          "output_type": "stream",
          "text": [
            " 58%|█████▊    | 15764/27212 [2:37:00<1:47:54,  1.77it/s]"
          ],
          "name": "stderr"
        },
        {
          "output_type": "stream",
          "text": [
            "!!!!!\n",
            "Translation API returned the input string unchanged.\n"
          ],
          "name": "stdout"
        },
        {
          "output_type": "stream",
          "text": [
            " 58%|█████▊    | 15790/27212 [2:37:15<1:49:46,  1.73it/s]"
          ],
          "name": "stderr"
        },
        {
          "output_type": "stream",
          "text": [
            "Very satisfied. Professional and friendly.  Nice environment. \n",
            "Translation API returned the input string unchanged.\n"
          ],
          "name": "stdout"
        },
        {
          "output_type": "stream",
          "text": [
            " 58%|█████▊    | 15865/27212 [2:37:59<1:47:08,  1.77it/s]"
          ],
          "name": "stderr"
        },
        {
          "output_type": "stream",
          "text": [
            "!!!\n",
            "Translation API returned the input string unchanged.\n"
          ],
          "name": "stdout"
        },
        {
          "output_type": "stream",
          "text": [
            " 58%|█████▊    | 15883/27212 [2:38:10<1:45:36,  1.79it/s]"
          ],
          "name": "stderr"
        },
        {
          "output_type": "stream",
          "text": [
            "ola ok\n",
            "Translation API returned the input string unchanged.\n"
          ],
          "name": "stdout"
        },
        {
          "output_type": "stream",
          "text": [
            " 59%|█████▊    | 15940/27212 [2:38:45<1:51:59,  1.68it/s]"
          ],
          "name": "stderr"
        },
        {
          "output_type": "stream",
          "text": [
            "Good diagnostic and quickly done. I am very satisfied\n",
            "Translation API returned the input string unchanged.\n"
          ],
          "name": "stdout"
        },
        {
          "output_type": "stream",
          "text": [
            " 59%|█████▊    | 15943/27212 [2:38:47<2:02:52,  1.53it/s]"
          ],
          "name": "stderr"
        },
        {
          "output_type": "stream",
          "text": [
            "... \n",
            "Translation API returned the input string unchanged.\n"
          ],
          "name": "stdout"
        },
        {
          "output_type": "stream",
          "text": [
            " 59%|█████▊    | 15984/27212 [2:39:10<1:45:45,  1.77it/s]"
          ],
          "name": "stderr"
        },
        {
          "output_type": "stream",
          "text": [
            "Ola than poly kala Kai epaggelmatika \n",
            "Translation API returned the input string unchanged.\n"
          ],
          "name": "stdout"
        },
        {
          "output_type": "stream",
          "text": [
            " 59%|█████▉    | 16003/27212 [2:39:22<1:51:17,  1.68it/s]"
          ],
          "name": "stderr"
        },
        {
          "output_type": "stream",
          "text": [
            "Εξαιρετική ιατρός, ασχολείται μαζί σου με λεπτομέρεια κ σε κάνει να νιώθεις εμπιστοσύνη. Επίσης σε κάνει να νιώθεις πολύ άνετα είναι πολύ γλυκός άνθρωπος.\n",
            "HTTP Error 400: Bad Request\n"
          ],
          "name": "stdout"
        },
        {
          "output_type": "stream",
          "text": [
            " 59%|█████▉    | 16045/27212 [2:39:51<1:46:57,  1.74it/s]"
          ],
          "name": "stderr"
        },
        {
          "output_type": "stream",
          "text": [
            "para polu kalh \n",
            "Translation API returned the input string unchanged.\n"
          ],
          "name": "stdout"
        },
        {
          "output_type": "stream",
          "text": [
            " 59%|█████▉    | 16072/27212 [2:40:08<1:53:38,  1.63it/s]"
          ],
          "name": "stderr"
        },
        {
          "output_type": "stream",
          "text": [
            "He was great! \n",
            "Translation API returned the input string unchanged.\n"
          ],
          "name": "stdout"
        },
        {
          "output_type": "stream",
          "text": [
            " 59%|█████▉    | 16103/27212 [2:40:27<1:49:09,  1.70it/s]"
          ],
          "name": "stderr"
        },
        {
          "output_type": "stream",
          "text": [
            "....\n",
            "Translation API returned the input string unchanged.\n"
          ],
          "name": "stdout"
        },
        {
          "output_type": "stream",
          "text": [
            " 59%|█████▉    | 16176/27212 [2:41:10<1:52:42,  1.63it/s]"
          ],
          "name": "stderr"
        },
        {
          "output_type": "stream",
          "text": [
            "Itan eugenestatos asxolithike polu me tin periptwsi m.k itan k polu prositos stis times tou\n",
            "Translation API returned the input string unchanged.\n"
          ],
          "name": "stdout"
        },
        {
          "output_type": "stream",
          "text": [
            " 59%|█████▉    | 16180/27212 [2:41:13<1:55:58,  1.59it/s]"
          ],
          "name": "stderr"
        },
        {
          "output_type": "stream",
          "text": [
            "ΠΕΠΟΙΡΑΜΕΝΟΣ\n",
            "Translation API returned the input string unchanged.\n"
          ],
          "name": "stdout"
        },
        {
          "output_type": "stream",
          "text": [
            " 60%|█████▉    | 16204/27212 [2:41:28<1:52:25,  1.63it/s]"
          ],
          "name": "stderr"
        },
        {
          "output_type": "stream",
          "text": [
            "KALOS\n",
            "Translation API returned the input string unchanged.\n"
          ],
          "name": "stdout"
        },
        {
          "output_type": "stream",
          "text": [
            " 60%|█████▉    | 16266/27212 [2:42:05<1:46:18,  1.72it/s]"
          ],
          "name": "stderr"
        },
        {
          "output_type": "stream",
          "text": [
            "To oti exetase to paidi me leptomereia kbitan prositos k filikos\n",
            "Translation API returned the input string unchanged.\n"
          ],
          "name": "stdout"
        },
        {
          "output_type": "stream",
          "text": [
            " 60%|█████▉    | 16273/27212 [2:42:09<1:53:11,  1.61it/s]"
          ],
          "name": "stderr"
        },
        {
          "output_type": "stream",
          "text": [
            "DEN EXO KATI PARAPANO NA PROSTHESO\n",
            "Translation API returned the input string unchanged.\n"
          ],
          "name": "stdout"
        },
        {
          "output_type": "stream",
          "text": [
            " 60%|██████    | 16367/27212 [2:43:05<1:47:53,  1.68it/s]"
          ],
          "name": "stderr"
        },
        {
          "output_type": "stream",
          "text": [
            ".....................\n",
            "Translation API returned the input string unchanged.\n"
          ],
          "name": "stdout"
        },
        {
          "output_type": "stream",
          "text": [
            " 60%|██████    | 16373/27212 [2:43:09<1:48:18,  1.67it/s]"
          ],
          "name": "stderr"
        },
        {
          "output_type": "stream",
          "text": [
            "Ola kala\n",
            "Translation API returned the input string unchanged.\n"
          ],
          "name": "stdout"
        },
        {
          "output_type": "stream",
          "text": [
            " 60%|██████    | 16403/27212 [2:43:27<1:49:40,  1.64it/s]"
          ],
          "name": "stderr"
        },
        {
          "output_type": "stream",
          "text": [
            "Apsogo.\n",
            "Translation API returned the input string unchanged.\n"
          ],
          "name": "stdout"
        },
        {
          "output_type": "stream",
          "text": [
            " 61%|██████    | 16477/27212 [2:44:11<1:45:34,  1.69it/s]"
          ],
          "name": "stderr"
        },
        {
          "output_type": "stream",
          "text": [
            "ΔΔΑ\n",
            "Translation API returned the input string unchanged.\n"
          ],
          "name": "stdout"
        },
        {
          "output_type": "stream",
          "text": [
            " 61%|██████    | 16502/27212 [2:44:26<1:45:07,  1.70it/s]"
          ],
          "name": "stderr"
        },
        {
          "output_type": "stream",
          "text": [
            "10/10\n",
            "Translation API returned the input string unchanged.\n"
          ],
          "name": "stdout"
        },
        {
          "output_type": "stream",
          "text": [
            " 61%|██████    | 16571/27212 [2:45:07<1:42:01,  1.74it/s]"
          ],
          "name": "stderr"
        },
        {
          "output_type": "stream",
          "text": [
            ". \n",
            "Translation API returned the input string unchanged.\n"
          ],
          "name": "stdout"
        },
        {
          "output_type": "stream",
          "text": [
            " 61%|██████    | 16594/27212 [2:45:21<1:45:41,  1.67it/s]"
          ],
          "name": "stderr"
        },
        {
          "output_type": "stream",
          "text": [
            "Super\n",
            "Translation API returned the input string unchanged.\n"
          ],
          "name": "stdout"
        },
        {
          "output_type": "stream",
          "text": [
            " 61%|██████    | 16607/27212 [2:45:30<1:47:01,  1.65it/s]"
          ],
          "name": "stderr"
        },
        {
          "output_type": "stream",
          "text": [
            "all good\n",
            "Translation API returned the input string unchanged.\n"
          ],
          "name": "stdout"
        },
        {
          "output_type": "stream",
          "text": [
            " 61%|██████    | 16618/27212 [2:45:37<1:44:48,  1.68it/s]"
          ],
          "name": "stderr"
        },
        {
          "output_type": "stream",
          "text": [
            "   .                                           \n",
            "Translation API returned the input string unchanged.\n"
          ],
          "name": "stdout"
        },
        {
          "output_type": "stream",
          "text": [
            " 61%|██████▏   | 16717/27212 [2:46:35<1:45:20,  1.66it/s]"
          ],
          "name": "stderr"
        },
        {
          "output_type": "stream",
          "text": [
            "Ola kala!\n",
            "Translation API returned the input string unchanged.\n"
          ],
          "name": "stdout"
        },
        {
          "output_type": "stream",
          "text": [
            " 62%|██████▏   | 16965/27212 [2:49:03<1:35:47,  1.78it/s]"
          ],
          "name": "stderr"
        },
        {
          "output_type": "stream",
          "text": [
            "Όλα πήγαν πολύ καλά\n",
            "HTTP Error 400: Bad Request\n"
          ],
          "name": "stdout"
        },
        {
          "output_type": "stream",
          "text": [
            " 62%|██████▏   | 16991/27212 [2:49:22<1:41:02,  1.69it/s]"
          ],
          "name": "stderr"
        },
        {
          "output_type": "stream",
          "text": [
            "He was very nice and thorough. He really took the time to listen and explain to me exactly what was my problem. I would recommend him! His English was also very good, so he is a very good option for any foreigners who do not speak Greek fluently!\n",
            "Translation API returned the input string unchanged.\n"
          ],
          "name": "stdout"
        },
        {
          "output_type": "stream",
          "text": [
            " 63%|██████▎   | 17190/27212 [2:51:18<1:34:09,  1.77it/s]"
          ],
          "name": "stderr"
        },
        {
          "output_type": "stream",
          "text": [
            "APLA TELEIOS\n",
            "Translation API returned the input string unchanged.\n"
          ],
          "name": "stdout"
        },
        {
          "output_type": "stream",
          "text": [
            " 63%|██████▎   | 17276/27212 [2:52:09<1:41:03,  1.64it/s]"
          ],
          "name": "stderr"
        },
        {
          "output_type": "stream",
          "text": [
            "An all-around excellent Doctor! Very knowledgeable, perceptive, caring. Would definitely recommend to others.\n",
            "Translation API returned the input string unchanged.\n"
          ],
          "name": "stdout"
        },
        {
          "output_type": "stream",
          "text": [
            " 64%|██████▍   | 17437/27212 [2:53:44<1:38:41,  1.65it/s]"
          ],
          "name": "stderr"
        },
        {
          "output_type": "stream",
          "text": [
            "Exeretikos\n",
            "Translation API returned the input string unchanged.\n"
          ],
          "name": "stdout"
        },
        {
          "output_type": "stream",
          "text": [
            " 64%|██████▍   | 17505/27212 [2:54:25<1:30:51,  1.78it/s]"
          ],
          "name": "stderr"
        },
        {
          "output_type": "stream",
          "text": [
            "...\n",
            "Translation API returned the input string unchanged.\n"
          ],
          "name": "stdout"
        },
        {
          "output_type": "stream",
          "text": [
            " 65%|██████▍   | 17562/27212 [2:55:01<1:39:36,  1.61it/s]"
          ],
          "name": "stderr"
        },
        {
          "output_type": "stream",
          "text": [
            "!!!!\n",
            "Translation API returned the input string unchanged.\n"
          ],
          "name": "stdout"
        },
        {
          "output_type": "stream",
          "text": [
            " 65%|██████▍   | 17591/27212 [2:55:19<1:35:15,  1.68it/s]"
          ],
          "name": "stderr"
        },
        {
          "output_type": "stream",
          "text": [
            "I don't have a computer with greek letters, but I think this doctor is excellent and I will for sure recommend him to others.\n",
            "Translation API returned the input string unchanged.\n"
          ],
          "name": "stdout"
        },
        {
          "output_type": "stream",
          "text": [
            " 65%|██████▍   | 17594/27212 [2:55:21<1:47:32,  1.49it/s]"
          ],
          "name": "stderr"
        },
        {
          "output_type": "stream",
          "text": [
            "A very professional doctor very caring and very attentive. She took time to do everything needed without making me feel awkward. She explained everything and showed she cared. \n",
            "Translation API returned the input string unchanged.\n"
          ],
          "name": "stdout"
        },
        {
          "output_type": "stream",
          "text": [
            " 65%|██████▍   | 17660/27212 [2:56:01<1:40:27,  1.58it/s]"
          ],
          "name": "stderr"
        },
        {
          "output_type": "stream",
          "text": [
            "   \n",
            "Translation API returned and empty response.\n"
          ],
          "name": "stdout"
        },
        {
          "output_type": "stream",
          "text": [
            " 65%|██████▌   | 17818/27212 [2:57:35<1:31:49,  1.71it/s]"
          ],
          "name": "stderr"
        },
        {
          "output_type": "stream",
          "text": [
            " I am very satisfied, I can recommend this doctor to all\n",
            "Translation API returned the input string unchanged.\n"
          ],
          "name": "stdout"
        },
        {
          "output_type": "stream",
          "text": [
            " 66%|██████▌   | 17854/27212 [2:57:57<1:31:02,  1.71it/s]"
          ],
          "name": "stderr"
        },
        {
          "output_type": "stream",
          "text": [
            "Excellent\n",
            "Translation API returned the input string unchanged.\n"
          ],
          "name": "stdout"
        },
        {
          "output_type": "stream",
          "text": [
            " 66%|██████▌   | 18025/27212 [2:59:36<1:24:06,  1.82it/s]"
          ],
          "name": "stderr"
        },
        {
          "output_type": "stream",
          "text": [
            "Super\n",
            "Translation API returned the input string unchanged.\n"
          ],
          "name": "stdout"
        },
        {
          "output_type": "stream",
          "text": [
            " 67%|██████▋   | 18165/27212 [3:00:58<1:30:30,  1.67it/s]"
          ],
          "name": "stderr"
        },
        {
          "output_type": "stream",
          "text": [
            "Kanena sxolio\n",
            "Translation API returned the input string unchanged.\n"
          ],
          "name": "stdout"
        },
        {
          "output_type": "stream",
          "text": [
            " 67%|██████▋   | 18203/27212 [3:01:21<1:30:55,  1.65it/s]"
          ],
          "name": "stderr"
        },
        {
          "output_type": "stream",
          "text": [
            "einai para polu kalos stin doulia tou\n",
            "Translation API returned the input string unchanged.\n"
          ],
          "name": "stdout"
        },
        {
          "output_type": "stream",
          "text": [
            " 67%|██████▋   | 18230/27212 [3:01:41<1:34:36,  1.58it/s]"
          ],
          "name": "stderr"
        },
        {
          "output_type": "stream",
          "text": [
            "Dem ine oti kalitero dioti ute kan se rotai apo pote arxise i akmi ti tin prokali pia ine i etia..eleooos\n",
            "Translation API returned the input string unchanged.\n"
          ],
          "name": "stdout"
        },
        {
          "output_type": "stream",
          "text": [
            " 67%|██████▋   | 18233/27212 [3:01:43<1:41:02,  1.48it/s]"
          ],
          "name": "stderr"
        },
        {
          "output_type": "stream",
          "text": [
            "Very good service!\n",
            "Translation API returned the input string unchanged.\n"
          ],
          "name": "stdout"
        },
        {
          "output_type": "stream",
          "text": [
            " 67%|██████▋   | 18263/27212 [3:02:01<1:26:42,  1.72it/s]"
          ],
          "name": "stderr"
        },
        {
          "output_type": "stream",
          "text": [
            "Teleia ola. \n",
            "Translation API returned the input string unchanged.\n"
          ],
          "name": "stdout"
        },
        {
          "output_type": "stream",
          "text": [
            " 67%|██████▋   | 18268/27212 [3:02:04<1:27:39,  1.70it/s]"
          ],
          "name": "stderr"
        },
        {
          "output_type": "stream",
          "text": [
            "megalos xronos anamonhs\n",
            "Translation API returned the input string unchanged.\n"
          ],
          "name": "stdout"
        },
        {
          "output_type": "stream",
          "text": [
            " 67%|██████▋   | 18299/27212 [3:02:24<1:30:43,  1.64it/s]"
          ],
          "name": "stderr"
        },
        {
          "output_type": "stream",
          "text": [
            "VERY PROFESSIONAL AND DILIGENT, SPEAKS GOOD ENGLISH,I WOULD DEFINITELY GO BACK TO THIS DOCTOR\n",
            "Translation API returned the input string unchanged.\n"
          ],
          "name": "stdout"
        },
        {
          "output_type": "stream",
          "text": [
            " 68%|██████▊   | 18388/27212 [3:03:19<1:33:03,  1.58it/s]"
          ],
          "name": "stderr"
        },
        {
          "output_type": "stream",
          "text": [
            "I kaliteri giatros tou 21ou eona\n",
            "Translation API returned the input string unchanged.\n"
          ],
          "name": "stdout"
        },
        {
          "output_type": "stream",
          "text": [
            " 68%|██████▊   | 18425/27212 [3:03:41<1:25:28,  1.71it/s]"
          ],
          "name": "stderr"
        },
        {
          "output_type": "stream",
          "text": [
            "as all doctors in Greece quite expensive, considering the general economy situation. But she is a very good professional providing necessary explanations needed. I'd definitely recommend her!\n",
            "Translation API returned the input string unchanged.\n"
          ],
          "name": "stdout"
        },
        {
          "output_type": "stream",
          "text": [
            " 68%|██████▊   | 18556/27212 [3:04:59<1:27:01,  1.66it/s]"
          ],
          "name": "stderr"
        },
        {
          "output_type": "stream",
          "text": [
            "Exceptionally patient and professional in his liaising. Thorough in his check up and very friendly. Made you feel at ease during examination. Would recommend to all. \n",
            "Translation API returned the input string unchanged.\n"
          ],
          "name": "stdout"
        },
        {
          "output_type": "stream",
          "text": [
            " 68%|██████▊   | 18559/27212 [3:05:01<1:33:30,  1.54it/s]"
          ],
          "name": "stderr"
        },
        {
          "output_type": "stream",
          "text": [
            "Very thorough, very friendly. a sense of humour and speaks good English. Perfect!\n",
            "Translation API returned the input string unchanged.\n"
          ],
          "name": "stdout"
        },
        {
          "output_type": "stream",
          "text": [
            " 68%|██████▊   | 18599/27212 [3:05:25<1:27:07,  1.65it/s]"
          ],
          "name": "stderr"
        },
        {
          "output_type": "stream",
          "text": [
            "Den exo logia pragmatika apolita oikanopoiimenoi\n",
            "Translation API returned the input string unchanged.\n"
          ],
          "name": "stdout"
        },
        {
          "output_type": "stream",
          "text": [
            " 68%|██████▊   | 18601/27212 [3:05:27<1:40:05,  1.43it/s]"
          ],
          "name": "stderr"
        },
        {
          "output_type": "stream",
          "text": [
            "POLI KALOS\n",
            "Translation API returned the input string unchanged.\n"
          ],
          "name": "stdout"
        },
        {
          "output_type": "stream",
          "text": [
            " 69%|██████▉   | 18782/27212 [3:07:17<1:22:20,  1.71it/s]"
          ],
          "name": "stderr"
        },
        {
          "output_type": "stream",
          "text": [
            "Excellent doctor, very detailed examination , polite and friendly. I wiuld definetely recommend Dr Antonios.\n",
            "Translation API returned the input string unchanged.\n"
          ],
          "name": "stdout"
        },
        {
          "output_type": "stream",
          "text": [
            " 70%|██████▉   | 18956/27212 [3:09:03<1:21:25,  1.69it/s]"
          ],
          "name": "stderr"
        },
        {
          "output_type": "stream",
          "text": [
            "A A A A A POLU KALOS\n",
            "Translation API returned the input string unchanged.\n"
          ],
          "name": "stdout"
        },
        {
          "output_type": "stream",
          "text": [
            " 70%|██████▉   | 19006/27212 [3:09:32<1:19:38,  1.72it/s]"
          ],
          "name": "stderr"
        },
        {
          "output_type": "stream",
          "text": [
            "mia xara.apolita euxaristimenos :)\n",
            "Translation API returned the input string unchanged.\n"
          ],
          "name": "stdout"
        },
        {
          "output_type": "stream",
          "text": [
            " 70%|███████   | 19064/27212 [3:10:08<1:20:34,  1.69it/s]"
          ],
          "name": "stderr"
        },
        {
          "output_type": "stream",
          "text": [
            "Professional and friendly!\n",
            "Translation API returned the input string unchanged.\n"
          ],
          "name": "stdout"
        },
        {
          "output_type": "stream",
          "text": [
            " 71%|███████   | 19214/27212 [3:11:37<1:17:36,  1.72it/s]"
          ],
          "name": "stderr"
        },
        {
          "output_type": "stream",
          "text": [
            "Very much to the point! Professional and human at the same time !\n",
            "Translation API returned the input string unchanged.\n"
          ],
          "name": "stdout"
        },
        {
          "output_type": "stream",
          "text": [
            " 71%|███████   | 19231/27212 [3:11:47<1:21:38,  1.63it/s]"
          ],
          "name": "stderr"
        },
        {
          "output_type": "stream",
          "text": [
            "Going to see someone is already a very difficult steps, he was not willing to help, he refused to recommend any psychologist, and spend 5 minutes with me to tell me that I have big issues that are not covered by EOPPY. He could have told me the same with some empathy and I would not have left feeling worst than when I came. \n",
            "Translation API returned the input string unchanged.\n"
          ],
          "name": "stdout"
        },
        {
          "output_type": "stream",
          "text": [
            " 71%|███████   | 19265/27212 [3:12:08<1:18:45,  1.68it/s]"
          ],
          "name": "stderr"
        },
        {
          "output_type": "stream",
          "text": [
            "Eksairetiki.\n",
            "Translation API returned the input string unchanged.\n"
          ],
          "name": "stdout"
        },
        {
          "output_type": "stream",
          "text": [
            " 71%|███████   | 19354/27212 [3:13:02<1:20:17,  1.63it/s]"
          ],
          "name": "stderr"
        },
        {
          "output_type": "stream",
          "text": [
            "apsogos giatros.\n",
            "Translation API returned the input string unchanged.\n"
          ],
          "name": "stdout"
        },
        {
          "output_type": "stream",
          "text": [
            " 71%|███████   | 19362/27212 [3:13:07<1:18:11,  1.67it/s]"
          ],
          "name": "stderr"
        },
        {
          "output_type": "stream",
          "text": [
            "...\n",
            "Translation API returned the input string unchanged.\n"
          ],
          "name": "stdout"
        },
        {
          "output_type": "stream",
          "text": [
            " 71%|███████▏  | 19415/27212 [3:13:40<1:19:28,  1.64it/s]"
          ],
          "name": "stderr"
        },
        {
          "output_type": "stream",
          "text": [
            "An excellent doctor! Kind, friendly, effective. Best impression.\n",
            "Translation API returned the input string unchanged.\n"
          ],
          "name": "stdout"
        },
        {
          "output_type": "stream",
          "text": [
            " 71%|███████▏  | 19453/27212 [3:14:02<1:15:04,  1.72it/s]"
          ],
          "name": "stderr"
        },
        {
          "output_type": "stream",
          "text": [
            "poli evgenikos kai exipiretikos\n",
            "Translation API returned the input string unchanged.\n"
          ],
          "name": "stdout"
        },
        {
          "output_type": "stream",
          "text": [
            " 72%|███████▏  | 19565/27212 [3:15:09<1:17:50,  1.64it/s]"
          ],
          "name": "stderr"
        },
        {
          "output_type": "stream",
          "text": [
            "Eimai polu eyxaristimenh!\n",
            "Translation API returned the input string unchanged.\n"
          ],
          "name": "stdout"
        },
        {
          "output_type": "stream",
          "text": [
            "\r 72%|███████▏  | 19566/27212 [3:15:10<1:36:38,  1.32it/s]"
          ],
          "name": "stderr"
        },
        {
          "output_type": "stream",
          "text": [
            " Βιστικος\n",
            "Translation API returned the input string unchanged.\n"
          ],
          "name": "stdout"
        },
        {
          "output_type": "stream",
          "text": [
            " 72%|███████▏  | 19602/27212 [3:15:32<1:13:58,  1.71it/s]"
          ],
          "name": "stderr"
        },
        {
          "output_type": "stream",
          "text": [
            "kalos mastoras.to katexei to antikeimeno\n",
            "Translation API returned the input string unchanged.\n"
          ],
          "name": "stdout"
        },
        {
          "output_type": "stream",
          "text": [
            " 72%|███████▏  | 19638/27212 [3:15:54<1:16:01,  1.66it/s]"
          ],
          "name": "stderr"
        },
        {
          "output_type": "stream",
          "text": [
            "   \n",
            "Translation API returned and empty response.\n"
          ],
          "name": "stdout"
        },
        {
          "output_type": "stream",
          "text": [
            " 72%|███████▏  | 19670/27212 [3:16:13<1:16:18,  1.65it/s]"
          ],
          "name": "stderr"
        },
        {
          "output_type": "stream",
          "text": [
            "EMEINA POLLH EYXARISTHMENOS\n",
            "Translation API returned the input string unchanged.\n"
          ],
          "name": "stdout"
        },
        {
          "output_type": "stream",
          "text": [
            " 72%|███████▏  | 19685/27212 [3:16:22<1:13:59,  1.70it/s]"
          ],
          "name": "stderr"
        },
        {
          "output_type": "stream",
          "text": [
            "Lovely, down to earth Dr. Very professional!\n",
            "Translation API returned the input string unchanged.\n"
          ],
          "name": "stdout"
        },
        {
          "output_type": "stream",
          "text": [
            " 73%|███████▎  | 19879/27212 [3:18:19<1:11:13,  1.72it/s]"
          ],
          "name": "stderr"
        },
        {
          "output_type": "stream",
          "text": [
            "!!!!!!!!!!!!!\n",
            "Translation API returned the input string unchanged.\n"
          ],
          "name": "stdout"
        },
        {
          "output_type": "stream",
          "text": [
            " 73%|███████▎  | 19883/27212 [3:18:22<1:19:11,  1.54it/s]"
          ],
          "name": "stderr"
        },
        {
          "output_type": "stream",
          "text": [
            "ok ola\n",
            "Translation API returned the input string unchanged.\n"
          ],
          "name": "stdout"
        },
        {
          "output_type": "stream",
          "text": [
            " 73%|███████▎  | 19927/27212 [3:18:48<1:11:23,  1.70it/s]"
          ],
          "name": "stderr"
        },
        {
          "output_type": "stream",
          "text": [
            "AAA+++\n",
            "Translation API returned the input string unchanged.\n"
          ],
          "name": "stdout"
        },
        {
          "output_type": "stream",
          "text": [
            " 73%|███████▎  | 19966/27212 [3:19:12<1:08:42,  1.76it/s]"
          ],
          "name": "stderr"
        },
        {
          "output_type": "stream",
          "text": [
            "Εξερετηκη!\n",
            "Translation API returned the input string unchanged.\n"
          ],
          "name": "stdout"
        },
        {
          "output_type": "stream",
          "text": [
            " 73%|███████▎  | 19991/27212 [3:19:27<1:15:44,  1.59it/s]"
          ],
          "name": "stderr"
        },
        {
          "output_type": "stream",
          "text": [
            "Πήγε η μητέρα μου και μου ανέφερε ότι έμεινε πολύ ευχαριστημένη από την εξυπηρέτηση του γιατρού.\n",
            "HTTP Error 400: Bad Request\n"
          ],
          "name": "stdout"
        },
        {
          "output_type": "stream",
          "text": [
            " 74%|███████▎  | 20019/27212 [3:19:48<1:09:04,  1.74it/s]"
          ],
          "name": "stderr"
        },
        {
          "output_type": "stream",
          "text": [
            "piga sto rdv kai o giastros itan e3airetikos\n",
            "Translation API returned the input string unchanged.\n"
          ],
          "name": "stdout"
        },
        {
          "output_type": "stream",
          "text": [
            " 74%|███████▍  | 20160/27212 [3:21:12<1:09:26,  1.69it/s]"
          ],
          "name": "stderr"
        },
        {
          "output_type": "stream",
          "text": [
            "ola poli kala!\n",
            "Translation API returned the input string unchanged.\n"
          ],
          "name": "stdout"
        },
        {
          "output_type": "stream",
          "text": [
            " 74%|███████▍  | 20240/27212 [3:22:00<1:06:34,  1.75it/s]"
          ],
          "name": "stderr"
        },
        {
          "output_type": "stream",
          "text": [
            "Ekseretiki giatrina.Poly evgeniki, prosektiki kai kali stin douleia tis.\n",
            "Translation API returned the input string unchanged.\n"
          ],
          "name": "stdout"
        },
        {
          "output_type": "stream",
          "text": [
            " 75%|███████▍  | 20362/27212 [3:23:15<1:07:34,  1.69it/s]"
          ],
          "name": "stderr"
        },
        {
          "output_type": "stream",
          "text": [
            "Ola kala\n",
            "Translation API returned the input string unchanged.\n"
          ],
          "name": "stdout"
        },
        {
          "output_type": "stream",
          "text": [
            " 75%|███████▌  | 20489/27212 [3:24:31<1:07:26,  1.66it/s]"
          ],
          "name": "stderr"
        },
        {
          "output_type": "stream",
          "text": [
            "katapliktikos giatros.me swsth sumperifora kai diakritikotita.emeina polu euxaristimenh.\n",
            "Translation API returned the input string unchanged.\n"
          ],
          "name": "stdout"
        },
        {
          "output_type": "stream",
          "text": [
            " 75%|███████▌  | 20503/27212 [3:24:40<1:01:27,  1.82it/s]"
          ],
          "name": "stderr"
        },
        {
          "output_type": "stream",
          "text": [
            "ΕΥΓΕΝΕΣΤΑΤΟΣ \n",
            "Translation API returned the input string unchanged.\n"
          ],
          "name": "stdout"
        },
        {
          "output_type": "stream",
          "text": [
            " 75%|███████▌  | 20507/27212 [3:24:43<1:09:59,  1.60it/s]"
          ],
          "name": "stderr"
        },
        {
          "output_type": "stream",
          "text": [
            "Apsogi epagelmatias! \n",
            "Translation API returned the input string unchanged.\n"
          ],
          "name": "stdout"
        },
        {
          "output_type": "stream",
          "text": [
            " 76%|███████▌  | 20681/27212 [3:26:27<1:03:24,  1.72it/s]"
          ],
          "name": "stderr"
        },
        {
          "output_type": "stream",
          "text": [
            "He is the best ever.\n",
            "Translation API returned the input string unchanged.\n"
          ],
          "name": "stdout"
        },
        {
          "output_type": "stream",
          "text": [
            " 76%|███████▋  | 20791/27212 [3:27:33<1:02:19,  1.72it/s]"
          ],
          "name": "stderr"
        },
        {
          "output_type": "stream",
          "text": [
            "---\n",
            "Translation API returned the input string unchanged.\n"
          ],
          "name": "stdout"
        },
        {
          "output_type": "stream",
          "text": [
            " 77%|███████▋  | 20938/27212 [3:29:02<1:03:28,  1.65it/s]"
          ],
          "name": "stderr"
        },
        {
          "output_type": "stream",
          "text": [
            "Very professional and gentle.\n",
            "Translation API returned the input string unchanged.\n"
          ],
          "name": "stdout"
        },
        {
          "output_type": "stream",
          "text": [
            " 77%|███████▋  | 20951/27212 [3:29:10<1:03:36,  1.64it/s]"
          ],
          "name": "stderr"
        },
        {
          "output_type": "stream",
          "text": [
            "Apsogi eksyphrethsh. Eygenikos. Aristh symvouleutiki ypostitiksi\n",
            "Translation API returned the input string unchanged.\n"
          ],
          "name": "stdout"
        },
        {
          "output_type": "stream",
          "text": [
            " 77%|███████▋  | 20953/27212 [3:29:12<1:14:02,  1.41it/s]"
          ],
          "name": "stderr"
        },
        {
          "output_type": "stream",
          "text": [
            "ekleisa gia PAIDOODONTIATRO.EXEI PROFANOS KIALLH EIDIKOTHTA GIATI DEN EJHGEITE ALLIVS OLOI AYTOI OI HLIKIVMENOI POY PARELASAN PRIN APO EMAS.FYSIKA EFYGA.\n",
            "Translation API returned the input string unchanged.\n"
          ],
          "name": "stdout"
        },
        {
          "output_type": "stream",
          "text": [
            " 77%|███████▋  | 21000/27212 [3:29:41<1:03:13,  1.64it/s]"
          ],
          "name": "stderr"
        },
        {
          "output_type": "stream",
          "text": [
            "Grigora kai epagelmatika. Erxete akoma kai savato na mas voithisei. Euxaristo poli.\n",
            "Translation API returned the input string unchanged.\n"
          ],
          "name": "stdout"
        },
        {
          "output_type": "stream",
          "text": [
            " 77%|███████▋  | 21042/27212 [3:30:06<1:04:25,  1.60it/s]"
          ],
          "name": "stderr"
        },
        {
          "output_type": "stream",
          "text": [
            "Aristos. Systhnetai enepifylakta\n",
            "Translation API returned the input string unchanged.\n"
          ],
          "name": "stdout"
        },
        {
          "output_type": "stream",
          "text": [
            " 78%|███████▊  | 21114/27212 [3:30:49<58:29,  1.74it/s]  "
          ],
          "name": "stderr"
        },
        {
          "output_type": "stream",
          "text": [
            "apsogi\n",
            "Translation API returned the input string unchanged.\n"
          ],
          "name": "stdout"
        },
        {
          "output_type": "stream",
          "text": [
            "\r 78%|███████▊  | 21115/27212 [3:30:50<1:14:14,  1.37it/s]"
          ],
          "name": "stderr"
        },
        {
          "output_type": "stream",
          "text": [
            "aristi\n",
            "Translation API returned the input string unchanged.\n"
          ],
          "name": "stdout"
        },
        {
          "output_type": "stream",
          "text": [
            "\r 78%|███████▊  | 21116/27212 [3:30:52<1:24:14,  1.21it/s]"
          ],
          "name": "stderr"
        },
        {
          "output_type": "stream",
          "text": [
            "Mertria\n",
            "Translation API returned the input string unchanged.\n"
          ],
          "name": "stdout"
        },
        {
          "output_type": "stream",
          "text": [
            " 78%|███████▊  | 21209/27212 [3:31:46<59:09,  1.69it/s]"
          ],
          "name": "stderr"
        },
        {
          "output_type": "stream",
          "text": [
            ":) \n",
            "Translation API returned the input string unchanged.\n"
          ],
          "name": "stdout"
        },
        {
          "output_type": "stream",
          "text": [
            " 78%|███████▊  | 21223/27212 [3:31:55<1:01:29,  1.62it/s]"
          ],
          "name": "stderr"
        },
        {
          "output_type": "stream",
          "text": [
            "The doctor is an expert in her field. Thank you.\n",
            "Translation API returned the input string unchanged.\n"
          ],
          "name": "stdout"
        },
        {
          "output_type": "stream",
          "text": [
            " 78%|███████▊  | 21283/27212 [3:32:31<57:36,  1.72it/s]"
          ],
          "name": "stderr"
        },
        {
          "output_type": "stream",
          "text": [
            "einai filikos giatros exei megalh ypomonh\n",
            "Translation API returned the input string unchanged.\n"
          ],
          "name": "stdout"
        },
        {
          "output_type": "stream",
          "text": [
            " 79%|███████▊  | 21384/27212 [3:33:31<56:31,  1.72it/s]"
          ],
          "name": "stderr"
        },
        {
          "output_type": "stream",
          "text": [
            "highly recommend!!!\n",
            "Translation API returned the input string unchanged.\n"
          ],
          "name": "stdout"
        },
        {
          "output_type": "stream",
          "text": [
            " 79%|███████▉  | 21568/27212 [3:35:21<56:34,  1.66it/s]"
          ],
          "name": "stderr"
        },
        {
          "output_type": "stream",
          "text": [
            "DIAFORA STH XREOSH \n",
            "Translation API returned the input string unchanged.\n"
          ],
          "name": "stdout"
        },
        {
          "output_type": "stream",
          "text": [
            "\r 79%|███████▉  | 21569/27212 [3:35:22<1:10:35,  1.33it/s]"
          ],
          "name": "stderr"
        },
        {
          "output_type": "stream",
          "text": [
            "DIAFORA STH XREOSH \n",
            "Translation API returned the input string unchanged.\n"
          ],
          "name": "stdout"
        },
        {
          "output_type": "stream",
          "text": [
            " 80%|███████▉  | 21703/27212 [3:36:41<54:40,  1.68it/s]"
          ],
          "name": "stderr"
        },
        {
          "output_type": "stream",
          "text": [
            "great really pleased\n",
            "Translation API returned the input string unchanged.\n"
          ],
          "name": "stdout"
        },
        {
          "output_type": "stream",
          "text": [
            " 80%|████████  | 21819/27212 [3:37:55<51:59,  1.73it/s]"
          ],
          "name": "stderr"
        },
        {
          "output_type": "stream",
          "text": [
            "AAA\n",
            "Translation API returned the input string unchanged.\n"
          ],
          "name": "stdout"
        },
        {
          "output_type": "stream",
          "text": [
            " 80%|████████  | 21869/27212 [3:38:25<53:10,  1.67it/s]"
          ],
          "name": "stderr"
        },
        {
          "output_type": "stream",
          "text": [
            "SPECIAL\n",
            "Translation API returned the input string unchanged.\n"
          ],
          "name": "stdout"
        },
        {
          "output_type": "stream",
          "text": [
            " 81%|████████  | 21997/27212 [3:39:43<52:19,  1.66it/s]"
          ],
          "name": "stderr"
        },
        {
          "output_type": "stream",
          "text": [
            ",,,,\n",
            "Translation API returned the input string unchanged.\n"
          ],
          "name": "stdout"
        },
        {
          "output_type": "stream",
          "text": [
            " 81%|████████  | 22023/27212 [3:39:59<51:33,  1.68it/s]"
          ],
          "name": "stderr"
        },
        {
          "output_type": "stream",
          "text": [
            "...\n",
            "Translation API returned the input string unchanged.\n"
          ],
          "name": "stdout"
        },
        {
          "output_type": "stream",
          "text": [
            " 81%|████████▏ | 22141/27212 [3:41:10<51:28,  1.64it/s]"
          ],
          "name": "stderr"
        },
        {
          "output_type": "stream",
          "text": [
            "The best ginaikologist I have ever visited. Professional, extremely knowledgable, excellent in explaining the procedures and diagnosis to the patient, and very encouraging and positive. Thanks! \n",
            "Translation API returned the input string unchanged.\n"
          ],
          "name": "stdout"
        },
        {
          "output_type": "stream",
          "text": [
            " 81%|████████▏ | 22159/27212 [3:41:21<48:44,  1.73it/s]"
          ],
          "name": "stderr"
        },
        {
          "output_type": "stream",
          "text": [
            "apsogos..ton synistw anepifilaxta\n",
            "Translation API returned the input string unchanged.\n"
          ],
          "name": "stdout"
        },
        {
          "output_type": "stream",
          "text": [
            " 82%|████████▏ | 22179/27212 [3:41:33<49:03,  1.71it/s]"
          ],
          "name": "stderr"
        },
        {
          "output_type": "stream",
          "text": [
            "Emeina poli euxaristimeni! Poli kali epistimonas!\n",
            "Translation API returned the input string unchanged.\n"
          ],
          "name": "stdout"
        },
        {
          "output_type": "stream",
          "text": [
            " 82%|████████▏ | 22212/27212 [3:41:53<48:15,  1.73it/s]"
          ],
          "name": "stderr"
        },
        {
          "output_type": "stream",
          "text": [
            "einai i kaliteri pneumonologos pou exo paei \n",
            "Translation API returned the input string unchanged.\n"
          ],
          "name": "stdout"
        },
        {
          "output_type": "stream",
          "text": [
            " 82%|████████▏ | 22231/27212 [3:42:05<49:10,  1.69it/s]"
          ],
          "name": "stderr"
        },
        {
          "output_type": "stream",
          "text": [
            "!!!!!!!!!!!!!!!\n",
            "Translation API returned the input string unchanged.\n"
          ],
          "name": "stdout"
        },
        {
          "output_type": "stream",
          "text": [
            " 82%|████████▏ | 22256/27212 [3:42:20<47:07,  1.75it/s]"
          ],
          "name": "stderr"
        },
        {
          "output_type": "stream",
          "text": [
            "apoluta euxaristhmenh\n",
            "Translation API returned the input string unchanged.\n"
          ],
          "name": "stdout"
        },
        {
          "output_type": "stream",
          "text": [
            " 82%|████████▏ | 22286/27212 [3:42:38<48:06,  1.71it/s]"
          ],
          "name": "stderr"
        },
        {
          "output_type": "stream",
          "text": [
            "Null\n",
            "Translation API returned the input string unchanged.\n"
          ],
          "name": "stdout"
        },
        {
          "output_type": "stream",
          "text": [
            " 82%|████████▏ | 22300/27212 [3:42:47<48:51,  1.68it/s]"
          ],
          "name": "stderr"
        },
        {
          "output_type": "stream",
          "text": [
            "....\n",
            "Translation API returned the input string unchanged.\n"
          ],
          "name": "stdout"
        },
        {
          "output_type": "stream",
          "text": [
            " 82%|████████▏ | 22331/27212 [3:43:06<48:23,  1.68it/s]"
          ],
          "name": "stderr"
        },
        {
          "output_type": "stream",
          "text": [
            "123\n",
            "Translation API returned the input string unchanged.\n"
          ],
          "name": "stdout"
        },
        {
          "output_type": "stream",
          "text": [
            " 82%|████████▏ | 22431/27212 [3:44:05<46:58,  1.70it/s]"
          ],
          "name": "stderr"
        },
        {
          "output_type": "stream",
          "text": [
            "Ola pigan poli kala kai emeina poli euxaristimenos.\n",
            "Translation API returned the input string unchanged.\n"
          ],
          "name": "stdout"
        },
        {
          "output_type": "stream",
          "text": [
            " 82%|████████▏ | 22444/27212 [3:44:13<49:29,  1.61it/s]"
          ],
          "name": "stderr"
        },
        {
          "output_type": "stream",
          "text": [
            "Professional and to the point. Able to adopt her proposals to my personal lifestyle\n",
            "Translation API returned the input string unchanged.\n"
          ],
          "name": "stdout"
        },
        {
          "output_type": "stream",
          "text": [
            " 82%|████████▏ | 22449/27212 [3:44:17<49:08,  1.62it/s]"
          ],
          "name": "stderr"
        },
        {
          "output_type": "stream",
          "text": [
            "Gia mia akoma fora emeina apolyta ikanopoihmenh\n",
            "Translation API returned the input string unchanged.\n"
          ],
          "name": "stdout"
        },
        {
          "output_type": "stream",
          "text": [
            " 83%|████████▎ | 22454/27212 [3:44:20<49:50,  1.59it/s]"
          ],
          "name": "stderr"
        },
        {
          "output_type": "stream",
          "text": [
            "ola ok!\n",
            "Translation API returned the input string unchanged.\n"
          ],
          "name": "stdout"
        },
        {
          "output_type": "stream",
          "text": [
            " 83%|████████▎ | 22456/27212 [3:44:22<58:14,  1.36it/s]  "
          ],
          "name": "stderr"
        },
        {
          "output_type": "stream",
          "text": [
            "O GIATROS HTAN KALOS ALLA DEN MAS EXHGOUSE ANALHTHKA KAI H EPISKAPSH HTAN POLH SUNTOMH\n",
            "Translation API returned the input string unchanged.\n"
          ],
          "name": "stdout"
        },
        {
          "output_type": "stream",
          "text": [
            " 83%|████████▎ | 22470/27212 [3:44:30<45:16,  1.75it/s]"
          ],
          "name": "stderr"
        },
        {
          "output_type": "stream",
          "text": [
            "Yparxei xreosei gia kathe kinisi tou giatrou. .  \n",
            "Translation API returned the input string unchanged.\n"
          ],
          "name": "stdout"
        },
        {
          "output_type": "stream",
          "text": [
            " 83%|████████▎ | 22473/27212 [3:44:33<51:51,  1.52it/s]"
          ],
          "name": "stderr"
        },
        {
          "output_type": "stream",
          "text": [
            "h empeiria mou htan e3airetiki\n",
            "Translation API returned the input string unchanged.\n"
          ],
          "name": "stdout"
        },
        {
          "output_type": "stream",
          "text": [
            " 83%|████████▎ | 22494/27212 [3:44:45<45:28,  1.73it/s]"
          ],
          "name": "stderr"
        },
        {
          "output_type": "stream",
          "text": [
            "!!!\n",
            "Translation API returned the input string unchanged.\n"
          ],
          "name": "stdout"
        },
        {
          "output_type": "stream",
          "text": [
            " 83%|████████▎ | 22537/27212 [3:45:11<45:48,  1.70it/s]"
          ],
          "name": "stderr"
        },
        {
          "output_type": "stream",
          "text": [
            "ola kala\n",
            "Translation API returned the input string unchanged.\n"
          ],
          "name": "stdout"
        },
        {
          "output_type": "stream",
          "text": [
            " 83%|████████▎ | 22594/27212 [3:45:45<1:04:04,  1.20it/s]"
          ],
          "name": "stderr"
        },
        {
          "output_type": "stream",
          "text": [
            "eyxaristo\n",
            "Translation API returned the input string unchanged.\n"
          ],
          "name": "stdout"
        },
        {
          "output_type": "stream",
          "text": [
            " 83%|████████▎ | 22691/27212 [3:46:43<44:13,  1.70it/s]"
          ],
          "name": "stderr"
        },
        {
          "output_type": "stream",
          "text": [
            "ok!!!!!!!!!!!!!!!!!!!!!!\n",
            "Translation API returned the input string unchanged.\n"
          ],
          "name": "stdout"
        },
        {
          "output_type": "stream",
          "text": [
            " 83%|████████▎ | 22699/27212 [3:46:49<45:20,  1.66it/s]"
          ],
          "name": "stderr"
        },
        {
          "output_type": "stream",
          "text": [
            "exairetikh giatros!\n",
            "Translation API returned the input string unchanged.\n"
          ],
          "name": "stdout"
        },
        {
          "output_type": "stream",
          "text": [
            " 83%|████████▎ | 22715/27212 [3:46:58<40:39,  1.84it/s]"
          ],
          "name": "stderr"
        },
        {
          "output_type": "stream",
          "text": [
            "Eimaste poly efxaristimeni. O giatros mas ferthike poly kala kai eksetase to paidi me poly leptomeria.\n",
            "Translation API returned the input string unchanged.\n"
          ],
          "name": "stdout"
        },
        {
          "output_type": "stream",
          "text": [
            " 84%|████████▎ | 22728/27212 [3:47:06<41:59,  1.78it/s]"
          ],
          "name": "stderr"
        },
        {
          "output_type": "stream",
          "text": [
            "Emeina poli euxaristimenos, poli kali giatros!\n",
            "Translation API returned the input string unchanged.\n"
          ],
          "name": "stdout"
        },
        {
          "output_type": "stream",
          "text": [
            "\r 84%|████████▎ | 22729/27212 [3:47:07<54:16,  1.38it/s]"
          ],
          "name": "stderr"
        },
        {
          "output_type": "stream",
          "text": [
            "epagelmatias kai poly exypiretikos!\n",
            "Translation API returned the input string unchanged.\n"
          ],
          "name": "stdout"
        },
        {
          "output_type": "stream",
          "text": [
            " 84%|████████▎ | 22743/27212 [3:47:16<43:09,  1.73it/s]"
          ],
          "name": "stderr"
        },
        {
          "output_type": "stream",
          "text": [
            "...\n",
            "Translation API returned the input string unchanged.\n"
          ],
          "name": "stdout"
        },
        {
          "output_type": "stream",
          "text": [
            " 84%|████████▎ | 22777/27212 [3:47:36<42:54,  1.72it/s]"
          ],
          "name": "stderr"
        },
        {
          "output_type": "stream",
          "text": [
            "den mporo na po kati thetiko gia to rantevou\n",
            "Translation API returned the input string unchanged.\n"
          ],
          "name": "stdout"
        },
        {
          "output_type": "stream",
          "text": [
            " 84%|████████▎ | 22782/27212 [3:47:40<46:23,  1.59it/s]"
          ],
          "name": "stderr"
        },
        {
          "output_type": "stream",
          "text": [
            "ola arista\n",
            "Translation API returned the input string unchanged.\n"
          ],
          "name": "stdout"
        },
        {
          "output_type": "stream",
          "text": [
            " 84%|████████▍ | 22794/27212 [3:47:47<44:38,  1.65it/s]"
          ],
          "name": "stderr"
        },
        {
          "output_type": "stream",
          "text": [
            "....\n",
            "Translation API returned the input string unchanged.\n"
          ],
          "name": "stdout"
        },
        {
          "output_type": "stream",
          "text": [
            " 84%|████████▍ | 22860/27212 [3:48:26<43:07,  1.68it/s]"
          ],
          "name": "stderr"
        },
        {
          "output_type": "stream",
          "text": [
            "!!!\n",
            "Translation API returned the input string unchanged.\n"
          ],
          "name": "stdout"
        },
        {
          "output_type": "stream",
          "text": [
            " 84%|████████▍ | 22871/27212 [3:48:33<42:34,  1.70it/s]"
          ],
          "name": "stderr"
        },
        {
          "output_type": "stream",
          "text": [
            "            .\n",
            "Translation API returned the input string unchanged.\n"
          ],
          "name": "stdout"
        },
        {
          "output_type": "stream",
          "text": [
            " 84%|████████▍ | 22890/27212 [3:48:45<42:47,  1.68it/s]"
          ],
          "name": "stderr"
        },
        {
          "output_type": "stream",
          "text": [
            "thanks\n",
            "Translation API returned the input string unchanged.\n"
          ],
          "name": "stdout"
        },
        {
          "output_type": "stream",
          "text": [
            " 84%|████████▍ | 22914/27212 [3:49:00<43:41,  1.64it/s]"
          ],
          "name": "stderr"
        },
        {
          "output_type": "stream",
          "text": [
            "ffs\n",
            "Translation API returned the input string unchanged.\n"
          ],
          "name": "stdout"
        },
        {
          "output_type": "stream",
          "text": [
            " 84%|████████▍ | 22923/27212 [3:49:05<42:02,  1.70it/s]"
          ],
          "name": "stderr"
        },
        {
          "output_type": "stream",
          "text": [
            "Kaloos\n",
            "Translation API returned the input string unchanged.\n"
          ],
          "name": "stdout"
        },
        {
          "output_type": "stream",
          "text": [
            " 84%|████████▍ | 22940/27212 [3:49:16<41:49,  1.70it/s]"
          ],
          "name": "stderr"
        },
        {
          "output_type": "stream",
          "text": [
            " No special comments\n",
            "Translation API returned the input string unchanged.\n"
          ],
          "name": "stdout"
        },
        {
          "output_type": "stream",
          "text": [
            " 84%|████████▍ | 22956/27212 [3:49:26<42:17,  1.68it/s]"
          ],
          "name": "stderr"
        },
        {
          "output_type": "stream",
          "text": [
            "excellent\n",
            "Translation API returned the input string unchanged.\n"
          ],
          "name": "stdout"
        },
        {
          "output_type": "stream",
          "text": [
            " 85%|████████▍ | 23016/27212 [3:50:01<40:09,  1.74it/s]"
          ],
          "name": "stderr"
        },
        {
          "output_type": "stream",
          "text": [
            "!!!!!!\n",
            "Translation API returned the input string unchanged.\n"
          ],
          "name": "stdout"
        },
        {
          "output_type": "stream",
          "text": [
            " 85%|████████▍ | 23026/27212 [3:50:07<41:49,  1.67it/s]"
          ],
          "name": "stderr"
        },
        {
          "output_type": "stream",
          "text": [
            "...\n",
            "Translation API returned the input string unchanged.\n"
          ],
          "name": "stdout"
        },
        {
          "output_type": "stream",
          "text": [
            " 85%|████████▍ | 23032/27212 [3:50:11<42:46,  1.63it/s]"
          ],
          "name": "stderr"
        },
        {
          "output_type": "stream",
          "text": [
            "OLA KALA\n",
            "Translation API returned the input string unchanged.\n"
          ],
          "name": "stdout"
        },
        {
          "output_type": "stream",
          "text": [
            " 85%|████████▍ | 23052/27212 [3:50:24<40:54,  1.69it/s]"
          ],
          "name": "stderr"
        },
        {
          "output_type": "stream",
          "text": [
            "ola kala\n",
            "Translation API returned the input string unchanged.\n"
          ],
          "name": "stdout"
        },
        {
          "output_type": "stream",
          "text": [
            " 85%|████████▍ | 23077/27212 [3:50:39<40:51,  1.69it/s]"
          ],
          "name": "stderr"
        },
        {
          "output_type": "stream",
          "text": [
            "eygenikos kai sovaros\n",
            "Translation API returned the input string unchanged.\n"
          ],
          "name": "stdout"
        },
        {
          "output_type": "stream",
          "text": [
            " 85%|████████▍ | 23095/27212 [3:50:50<39:57,  1.72it/s]"
          ],
          "name": "stderr"
        },
        {
          "output_type": "stream",
          "text": [
            "!!!!!!\n",
            "Translation API returned the input string unchanged.\n"
          ],
          "name": "stdout"
        },
        {
          "output_type": "stream",
          "text": [
            " 85%|████████▌ | 23131/27212 [3:51:11<39:50,  1.71it/s]"
          ],
          "name": "stderr"
        },
        {
          "output_type": "stream",
          "text": [
            ", \n",
            "Translation API returned the input string unchanged.\n"
          ],
          "name": "stdout"
        },
        {
          "output_type": "stream",
          "text": [
            " 85%|████████▌ | 23146/27212 [3:51:21<42:14,  1.60it/s]"
          ],
          "name": "stderr"
        },
        {
          "output_type": "stream",
          "text": [
            "Poli Kalos ---))))\n",
            "Translation API returned the input string unchanged.\n"
          ],
          "name": "stdout"
        },
        {
          "output_type": "stream",
          "text": [
            " 85%|████████▌ | 23153/27212 [3:51:25<42:13,  1.60it/s]"
          ],
          "name": "stderr"
        },
        {
          "output_type": "stream",
          "text": [
            "Ola kala\n",
            "Translation API returned the input string unchanged.\n"
          ],
          "name": "stdout"
        },
        {
          "output_type": "stream",
          "text": [
            " 85%|████████▌ | 23155/27212 [3:51:27<47:26,  1.43it/s]"
          ],
          "name": "stderr"
        },
        {
          "output_type": "stream",
          "text": [
            "Poly kalos giatros!\n",
            "Translation API returned the input string unchanged.\n"
          ],
          "name": "stdout"
        },
        {
          "output_type": "stream",
          "text": [
            " 85%|████████▌ | 23162/27212 [3:51:31<39:54,  1.69it/s]"
          ],
          "name": "stderr"
        },
        {
          "output_type": "stream",
          "text": [
            "..............\n",
            "Translation API returned the input string unchanged.\n"
          ],
          "name": "stdout"
        },
        {
          "output_type": "stream",
          "text": [
            " 85%|████████▌ | 23175/27212 [3:51:39<40:10,  1.67it/s]"
          ],
          "name": "stderr"
        },
        {
          "output_type": "stream",
          "text": [
            "OLA KALA, MIA XARA \n",
            "Translation API returned the input string unchanged.\n"
          ],
          "name": "stdout"
        },
        {
          "output_type": "stream",
          "text": [
            " 85%|████████▌ | 23183/27212 [3:51:45<41:41,  1.61it/s]"
          ],
          "name": "stderr"
        },
        {
          "output_type": "stream",
          "text": [
            "     .....\n",
            "Translation API returned the input string unchanged.\n"
          ],
          "name": "stdout"
        },
        {
          "output_type": "stream",
          "text": [
            " 86%|████████▌ | 23276/27212 [3:52:38<36:58,  1.77it/s]"
          ],
          "name": "stderr"
        },
        {
          "output_type": "stream",
          "text": [
            "Emeina poly euxaristimeni, poly kalos giatros.\n",
            "Translation API returned the input string unchanged.\n"
          ],
          "name": "stdout"
        },
        {
          "output_type": "stream",
          "text": [
            " 86%|████████▌ | 23287/27212 [3:52:45<40:54,  1.60it/s]"
          ],
          "name": "stderr"
        },
        {
          "output_type": "stream",
          "text": [
            "...\n",
            "Translation API returned the input string unchanged.\n"
          ],
          "name": "stdout"
        },
        {
          "output_type": "stream",
          "text": [
            "\r 86%|████████▌ | 23288/27212 [3:52:46<48:27,  1.35it/s]"
          ],
          "name": "stderr"
        },
        {
          "output_type": "stream",
          "text": [
            "He is highly recommended!!!! \n",
            "Translation API returned the input string unchanged.\n"
          ],
          "name": "stdout"
        },
        {
          "output_type": "stream",
          "text": [
            " 86%|████████▌ | 23290/27212 [3:52:47<48:34,  1.35it/s]"
          ],
          "name": "stderr"
        },
        {
          "output_type": "stream",
          "text": [
            "bnzdgfxhztr\n",
            "Translation API returned the input string unchanged.\n"
          ],
          "name": "stdout"
        },
        {
          "output_type": "stream",
          "text": [
            " 86%|████████▌ | 23308/27212 [3:52:58<37:15,  1.75it/s]"
          ],
          "name": "stderr"
        },
        {
          "output_type": "stream",
          "text": [
            "...\n",
            "Translation API returned the input string unchanged.\n"
          ],
          "name": "stdout"
        },
        {
          "output_type": "stream",
          "text": [
            " 86%|████████▌ | 23313/27212 [3:53:01<39:08,  1.66it/s]"
          ],
          "name": "stderr"
        },
        {
          "output_type": "stream",
          "text": [
            "Katartismenos iatros\n",
            "Translation API returned the input string unchanged.\n"
          ],
          "name": "stdout"
        },
        {
          "output_type": "stream",
          "text": [
            " 86%|████████▌ | 23348/27212 [3:53:23<37:19,  1.73it/s]"
          ],
          "name": "stderr"
        },
        {
          "output_type": "stream",
          "text": [
            "sdhsrtuytwu\n",
            "Translation API returned the input string unchanged.\n"
          ],
          "name": "stdout"
        },
        {
          "output_type": "stream",
          "text": [
            " 86%|████████▌ | 23375/27212 [3:53:39<39:25,  1.62it/s]"
          ],
          "name": "stderr"
        },
        {
          "output_type": "stream",
          "text": [
            "mia xara\n",
            "Translation API returned the input string unchanged.\n"
          ],
          "name": "stdout"
        },
        {
          "output_type": "stream",
          "text": [
            " 86%|████████▌ | 23399/27212 [3:53:54<36:24,  1.75it/s]"
          ],
          "name": "stderr"
        },
        {
          "output_type": "stream",
          "text": [
            "ola mia Xara.\n",
            "Translation API returned the input string unchanged.\n"
          ],
          "name": "stdout"
        },
        {
          "output_type": "stream",
          "text": [
            " 86%|████████▌ | 23426/27212 [3:54:10<35:58,  1.75it/s]"
          ],
          "name": "stderr"
        },
        {
          "output_type": "stream",
          "text": [
            "Ειμαι πολυ ευχαριστημενη.. .Ευχαριστώ πολύ \n",
            "Translation API returned and empty response.\n"
          ],
          "name": "stdout"
        },
        {
          "output_type": "stream",
          "text": [
            " 86%|████████▌ | 23435/27212 [3:54:19<39:57,  1.58it/s]"
          ],
          "name": "stderr"
        },
        {
          "output_type": "stream",
          "text": [
            "epaggelmatias kai prositos san anurvpos\n",
            "Translation API returned the input string unchanged.\n"
          ],
          "name": "stdout"
        },
        {
          "output_type": "stream",
          "text": [
            " 86%|████████▌ | 23449/27212 [3:54:28<35:03,  1.79it/s]"
          ],
          "name": "stderr"
        },
        {
          "output_type": "stream",
          "text": [
            "ARISTI\n",
            "Translation API returned the input string unchanged.\n"
          ],
          "name": "stdout"
        },
        {
          "output_type": "stream",
          "text": [
            " 86%|████████▋ | 23473/27212 [3:54:42<35:23,  1.76it/s]"
          ],
          "name": "stderr"
        },
        {
          "output_type": "stream",
          "text": [
            "........\n",
            "Translation API returned the input string unchanged.\n"
          ],
          "name": "stdout"
        },
        {
          "output_type": "stream",
          "text": [
            "\r 86%|████████▋ | 23474/27212 [3:54:43<43:40,  1.43it/s]"
          ],
          "name": "stderr"
        },
        {
          "output_type": "stream",
          "text": [
            "POly kalos kai epaggelmatias kai anthrwpos!\n",
            "Translation API returned the input string unchanged.\n"
          ],
          "name": "stdout"
        },
        {
          "output_type": "stream",
          "text": [
            " 86%|████████▋ | 23483/27212 [3:54:49<35:41,  1.74it/s]"
          ],
          "name": "stderr"
        },
        {
          "output_type": "stream",
          "text": [
            "...\n",
            "Translation API returned the input string unchanged.\n"
          ],
          "name": "stdout"
        },
        {
          "output_type": "stream",
          "text": [
            " 86%|████████▋ | 23502/27212 [3:55:01<36:39,  1.69it/s]"
          ],
          "name": "stderr"
        },
        {
          "output_type": "stream",
          "text": [
            "Emeina polu euxaristimeni apo th gnwsi pou eixe panw sto antikeimeno alla k apo tin filiki ths stasi!\n",
            "Translation API returned the input string unchanged.\n"
          ],
          "name": "stdout"
        },
        {
          "output_type": "stream",
          "text": [
            " 86%|████████▋ | 23513/27212 [3:55:08<34:18,  1.80it/s]"
          ],
          "name": "stderr"
        },
        {
          "output_type": "stream",
          "text": [
            " ..\n",
            "Translation API returned the input string unchanged.\n"
          ],
          "name": "stdout"
        },
        {
          "output_type": "stream",
          "text": [
            " 86%|████████▋ | 23527/27212 [3:55:17<37:13,  1.65it/s]"
          ],
          "name": "stderr"
        },
        {
          "output_type": "stream",
          "text": [
            "...\n",
            "Translation API returned the input string unchanged.\n"
          ],
          "name": "stdout"
        },
        {
          "output_type": "stream",
          "text": [
            " 87%|████████▋ | 23549/27212 [3:55:30<36:06,  1.69it/s]"
          ],
          "name": "stderr"
        },
        {
          "output_type": "stream",
          "text": [
            "...\n",
            "Translation API returned the input string unchanged.\n"
          ],
          "name": "stdout"
        },
        {
          "output_type": "stream",
          "text": [
            " 87%|████████▋ | 23629/27212 [3:56:17<34:45,  1.72it/s]"
          ],
          "name": "stderr"
        },
        {
          "output_type": "stream",
          "text": [
            "...\n",
            "Translation API returned the input string unchanged.\n"
          ],
          "name": "stdout"
        },
        {
          "output_type": "stream",
          "text": [
            " 87%|████████▋ | 23733/27212 [3:57:19<33:50,  1.71it/s]"
          ],
          "name": "stderr"
        },
        {
          "output_type": "stream",
          "text": [
            "!!!\n",
            "Translation API returned the input string unchanged.\n"
          ],
          "name": "stdout"
        },
        {
          "output_type": "stream",
          "text": [
            " 87%|████████▋ | 23746/27212 [3:57:27<33:54,  1.70it/s]"
          ],
          "name": "stderr"
        },
        {
          "output_type": "stream",
          "text": [
            "aristi eksipiretisi\n",
            "Translation API returned the input string unchanged.\n"
          ],
          "name": "stdout"
        },
        {
          "output_type": "stream",
          "text": [
            " 87%|████████▋ | 23751/27212 [3:57:30<36:37,  1.57it/s]"
          ],
          "name": "stderr"
        },
        {
          "output_type": "stream",
          "text": [
            "ola htan poly kala\n",
            "Translation API returned the input string unchanged.\n"
          ],
          "name": "stdout"
        },
        {
          "output_type": "stream",
          "text": [
            " 87%|████████▋ | 23772/27212 [3:57:43<32:43,  1.75it/s]"
          ],
          "name": "stderr"
        },
        {
          "output_type": "stream",
          "text": [
            "Ola ok\n",
            "Translation API returned the input string unchanged.\n"
          ],
          "name": "stdout"
        },
        {
          "output_type": "stream",
          "text": [
            " 88%|████████▊ | 23838/27212 [3:58:22<33:45,  1.67it/s]"
          ],
          "name": "stderr"
        },
        {
          "output_type": "stream",
          "text": [
            ":) :)\n",
            "Translation API returned the input string unchanged.\n"
          ],
          "name": "stdout"
        },
        {
          "output_type": "stream",
          "text": [
            " 88%|████████▊ | 23844/27212 [3:58:26<34:15,  1.64it/s]"
          ],
          "name": "stderr"
        },
        {
          "output_type": "stream",
          "text": [
            "...\n",
            "Translation API returned the input string unchanged.\n"
          ],
          "name": "stdout"
        },
        {
          "output_type": "stream",
          "text": [
            " 88%|████████▊ | 23885/27212 [3:58:50<33:09,  1.67it/s]"
          ],
          "name": "stderr"
        },
        {
          "output_type": "stream",
          "text": [
            "no comments\n",
            "Translation API returned the input string unchanged.\n"
          ],
          "name": "stdout"
        },
        {
          "output_type": "stream",
          "text": [
            "\r 88%|████████▊ | 23886/27212 [3:58:51<40:04,  1.38it/s]"
          ],
          "name": "stderr"
        },
        {
          "output_type": "stream",
          "text": [
            ".....\n",
            "Translation API returned the input string unchanged.\n"
          ],
          "name": "stdout"
        },
        {
          "output_type": "stream",
          "text": [
            " 88%|████████▊ | 23938/27212 [3:59:21<32:32,  1.68it/s]"
          ],
          "name": "stderr"
        },
        {
          "output_type": "stream",
          "text": [
            "N/a\n",
            "Translation API returned the input string unchanged.\n"
          ],
          "name": "stdout"
        },
        {
          "output_type": "stream",
          "text": [
            " 88%|████████▊ | 23951/27212 [3:59:29<31:32,  1.72it/s]"
          ],
          "name": "stderr"
        },
        {
          "output_type": "stream",
          "text": [
            "...................\n",
            "Translation API returned the input string unchanged.\n"
          ],
          "name": "stdout"
        },
        {
          "output_type": "stream",
          "text": [
            " 88%|████████▊ | 23962/27212 [3:59:36<29:23,  1.84it/s]"
          ],
          "name": "stderr"
        },
        {
          "output_type": "stream",
          "text": [
            "No further comments. Thanks\n",
            "Translation API returned the input string unchanged.\n"
          ],
          "name": "stdout"
        },
        {
          "output_type": "stream",
          "text": [
            " 88%|████████▊ | 23975/27212 [3:59:44<32:00,  1.69it/s]"
          ],
          "name": "stderr"
        },
        {
          "output_type": "stream",
          "text": [
            "111\n",
            "Translation API returned the input string unchanged.\n"
          ],
          "name": "stdout"
        },
        {
          "output_type": "stream",
          "text": [
            " 88%|████████▊ | 24040/27212 [4:00:22<30:19,  1.74it/s]"
          ],
          "name": "stderr"
        },
        {
          "output_type": "stream",
          "text": [
            "....\n",
            "Translation API returned the input string unchanged.\n"
          ],
          "name": "stdout"
        },
        {
          "output_type": "stream",
          "text": [
            " 88%|████████▊ | 24078/27212 [4:00:44<30:11,  1.73it/s]"
          ],
          "name": "stderr"
        },
        {
          "output_type": "stream",
          "text": [
            "...\n",
            "Translation API returned the input string unchanged.\n"
          ],
          "name": "stdout"
        },
        {
          "output_type": "stream",
          "text": [
            " 89%|████████▊ | 24093/27212 [4:00:54<31:28,  1.65it/s]"
          ],
          "name": "stderr"
        },
        {
          "output_type": "stream",
          "text": [
            ".........\n",
            "Translation API returned the input string unchanged.\n"
          ],
          "name": "stdout"
        },
        {
          "output_type": "stream",
          "text": [
            " 89%|████████▊ | 24134/27212 [4:01:17<29:59,  1.71it/s]"
          ],
          "name": "stderr"
        },
        {
          "output_type": "stream",
          "text": [
            " N/a\n",
            "Translation API returned the input string unchanged.\n"
          ],
          "name": "stdout"
        },
        {
          "output_type": "stream",
          "text": [
            " 89%|████████▊ | 24139/27212 [4:01:21<31:27,  1.63it/s]"
          ],
          "name": "stderr"
        },
        {
          "output_type": "stream",
          "text": [
            "apsogos sinistate\n",
            "Translation API returned the input string unchanged.\n"
          ],
          "name": "stdout"
        },
        {
          "output_type": "stream",
          "text": [
            " 89%|████████▊ | 24145/27212 [4:01:25<31:58,  1.60it/s]"
          ],
          "name": "stderr"
        },
        {
          "output_type": "stream",
          "text": [
            " On time\n",
            "Translation API returned the input string unchanged.\n"
          ],
          "name": "stdout"
        },
        {
          "output_type": "stream",
          "text": [
            " 89%|████████▉ | 24154/27212 [4:01:30<30:25,  1.68it/s]"
          ],
          "name": "stderr"
        },
        {
          "output_type": "stream",
          "text": [
            "ok!!!\n",
            "Translation API returned the input string unchanged.\n"
          ],
          "name": "stdout"
        },
        {
          "output_type": "stream",
          "text": [
            " 89%|████████▉ | 24159/27212 [4:01:34<30:37,  1.66it/s]"
          ],
          "name": "stderr"
        },
        {
          "output_type": "stream",
          "text": [
            "...\n",
            "Translation API returned the input string unchanged.\n"
          ],
          "name": "stdout"
        },
        {
          "output_type": "stream",
          "text": [
            " 89%|████████▉ | 24173/27212 [4:01:42<30:17,  1.67it/s]"
          ],
          "name": "stderr"
        },
        {
          "output_type": "stream",
          "text": [
            "itane evgenikh h giatros alla perimena miamisi ora \n",
            "Translation API returned the input string unchanged.\n"
          ],
          "name": "stdout"
        },
        {
          "output_type": "stream",
          "text": [
            " 89%|████████▉ | 24193/27212 [4:01:54<28:01,  1.80it/s]"
          ],
          "name": "stderr"
        },
        {
          "output_type": "stream",
          "text": [
            "me voithse arketa\n",
            "Translation API returned the input string unchanged.\n"
          ],
          "name": "stdout"
        },
        {
          "output_type": "stream",
          "text": [
            " 89%|████████▉ | 24197/27212 [4:01:57<32:14,  1.56it/s]"
          ],
          "name": "stderr"
        },
        {
          "output_type": "stream",
          "text": [
            "                     ola kala                                                                               \n",
            "Translation API returned the input string unchanged.\n"
          ],
          "name": "stdout"
        },
        {
          "output_type": "stream",
          "text": [
            " 89%|████████▉ | 24213/27212 [4:02:08<30:41,  1.63it/s]"
          ],
          "name": "stderr"
        },
        {
          "output_type": "stream",
          "text": [
            "!!!!\n",
            "Translation API returned the input string unchanged.\n"
          ],
          "name": "stdout"
        },
        {
          "output_type": "stream",
          "text": [
            " 89%|████████▉ | 24228/27212 [4:02:17<28:36,  1.74it/s]"
          ],
          "name": "stderr"
        },
        {
          "output_type": "stream",
          "text": [
            "xxx\n",
            "Translation API returned the input string unchanged.\n"
          ],
          "name": "stdout"
        },
        {
          "output_type": "stream",
          "text": [
            " 89%|████████▉ | 24239/27212 [4:02:24<29:15,  1.69it/s]"
          ],
          "name": "stderr"
        },
        {
          "output_type": "stream",
          "text": [
            "!!!\n",
            "Translation API returned the input string unchanged.\n"
          ],
          "name": "stdout"
        },
        {
          "output_type": "stream",
          "text": [
            " 89%|████████▉ | 24280/27212 [4:02:49<29:51,  1.64it/s]"
          ],
          "name": "stderr"
        },
        {
          "output_type": "stream",
          "text": [
            "!!!\n",
            "Translation API returned the input string unchanged.\n"
          ],
          "name": "stdout"
        },
        {
          "output_type": "stream",
          "text": [
            " 90%|████████▉ | 24413/27212 [4:04:08<28:05,  1.66it/s]"
          ],
          "name": "stderr"
        },
        {
          "output_type": "stream",
          "text": [
            "Poli kalos\n",
            "Translation API returned the input string unchanged.\n"
          ],
          "name": "stdout"
        },
        {
          "output_type": "stream",
          "text": [
            " 90%|████████▉ | 24427/27212 [4:04:16<28:13,  1.64it/s]"
          ],
          "name": "stderr"
        },
        {
          "output_type": "stream",
          "text": [
            "....\n",
            "Translation API returned the input string unchanged.\n"
          ],
          "name": "stdout"
        },
        {
          "output_type": "stream",
          "text": [
            " 90%|█████████ | 24512/27212 [4:05:06<25:37,  1.76it/s]"
          ],
          "name": "stderr"
        },
        {
          "output_type": "stream",
          "text": [
            "EYXARHSTHMENH APO THN TAXYTHTA THS YPHRHSIAS KAI TON GIATRO\n",
            "Translation API returned the input string unchanged.\n"
          ],
          "name": "stdout"
        },
        {
          "output_type": "stream",
          "text": [
            " 90%|█████████ | 24517/27212 [4:05:10<29:43,  1.51it/s]"
          ],
          "name": "stderr"
        },
        {
          "output_type": "stream",
          "text": [
            "Ola kala, den ypir3e kanena provlima kai i giatros teleia.\n",
            "Translation API returned the input string unchanged.\n"
          ],
          "name": "stdout"
        },
        {
          "output_type": "stream",
          "text": [
            " 90%|█████████ | 24521/27212 [4:05:13<29:53,  1.50it/s]"
          ],
          "name": "stderr"
        },
        {
          "output_type": "stream",
          "text": [
            "To rantevou mou egine kanonika stin wra tou, o giatros htan poly katatopistikos kai genika emeina poly euxaristimeni.\n",
            "Translation API returned the input string unchanged.\n"
          ],
          "name": "stdout"
        },
        {
          "output_type": "stream",
          "text": [
            " 90%|█████████ | 24543/27212 [4:05:26<26:47,  1.66it/s]"
          ],
          "name": "stderr"
        },
        {
          "output_type": "stream",
          "text": [
            "filiko perivallon gia to paidi o xwros tis iatrou. prositi kai eugeniki\n",
            "Translation API returned the input string unchanged.\n"
          ],
          "name": "stdout"
        },
        {
          "output_type": "stream",
          "text": [
            " 90%|█████████ | 24547/27212 [4:05:29<29:38,  1.50it/s]"
          ],
          "name": "stderr"
        },
        {
          "output_type": "stream",
          "text": [
            "...\n",
            "Translation API returned the input string unchanged.\n"
          ],
          "name": "stdout"
        },
        {
          "output_type": "stream",
          "text": [
            " 90%|█████████ | 24558/27212 [4:05:36<27:33,  1.60it/s]"
          ],
          "name": "stderr"
        },
        {
          "output_type": "stream",
          "text": [
            "!!!!!!!!!!\n",
            "Translation API returned the input string unchanged.\n"
          ],
          "name": "stdout"
        },
        {
          "output_type": "stream",
          "text": [
            " 90%|█████████ | 24564/27212 [4:05:40<27:41,  1.59it/s]"
          ],
          "name": "stderr"
        },
        {
          "output_type": "stream",
          "text": [
            "OLA KALA\n",
            "Translation API returned the input string unchanged.\n"
          ],
          "name": "stdout"
        },
        {
          "output_type": "stream",
          "text": [
            " 90%|█████████ | 24619/27212 [4:06:13<24:58,  1.73it/s]"
          ],
          "name": "stderr"
        },
        {
          "output_type": "stream",
          "text": [
            "...\n",
            "Translation API returned the input string unchanged.\n"
          ],
          "name": "stdout"
        },
        {
          "output_type": "stream",
          "text": [
            " 91%|█████████ | 24630/27212 [4:06:20<25:13,  1.71it/s]"
          ],
          "name": "stderr"
        },
        {
          "output_type": "stream",
          "text": [
            "Amesh eksyphrethsh.Poly eugenikh.\n",
            "Translation API returned the input string unchanged.\n"
          ],
          "name": "stdout"
        },
        {
          "output_type": "stream",
          "text": [
            " 91%|█████████ | 24637/27212 [4:06:24<26:38,  1.61it/s]"
          ],
          "name": "stderr"
        },
        {
          "output_type": "stream",
          "text": [
            "POLY KALH\n",
            "Translation API returned the input string unchanged.\n"
          ],
          "name": "stdout"
        },
        {
          "output_type": "stream",
          "text": [
            " 91%|█████████ | 24644/27212 [4:06:29<25:55,  1.65it/s]"
          ],
          "name": "stderr"
        },
        {
          "output_type": "stream",
          "text": [
            "ola mia xara\n",
            "Translation API returned the input string unchanged.\n"
          ],
          "name": "stdout"
        },
        {
          "output_type": "stream",
          "text": [
            " 91%|█████████ | 24665/27212 [4:06:42<24:35,  1.73it/s]"
          ],
          "name": "stderr"
        },
        {
          "output_type": "stream",
          "text": [
            "...\n",
            "Translation API returned the input string unchanged.\n"
          ],
          "name": "stdout"
        },
        {
          "output_type": "stream",
          "text": [
            " 91%|█████████ | 24671/27212 [4:06:46<27:25,  1.54it/s]"
          ],
          "name": "stderr"
        },
        {
          "output_type": "stream",
          "text": [
            "ola kala\n",
            "Translation API returned the input string unchanged.\n"
          ],
          "name": "stdout"
        },
        {
          "output_type": "stream",
          "text": [
            " 91%|█████████ | 24673/27212 [4:06:47<30:39,  1.38it/s]"
          ],
          "name": "stderr"
        },
        {
          "output_type": "stream",
          "text": [
            "XXX\n",
            "Translation API returned the input string unchanged.\n"
          ],
          "name": "stdout"
        },
        {
          "output_type": "stream",
          "text": [
            " 91%|█████████ | 24690/27212 [4:06:58<24:06,  1.74it/s]"
          ],
          "name": "stderr"
        },
        {
          "output_type": "stream",
          "text": [
            "value for money\n",
            "Translation API returned the input string unchanged.\n"
          ],
          "name": "stdout"
        },
        {
          "output_type": "stream",
          "text": [
            " 91%|█████████ | 24696/27212 [4:07:02<25:01,  1.68it/s]"
          ],
          "name": "stderr"
        },
        {
          "output_type": "stream",
          "text": [
            "Meiname eyxaristimenoi!  \n",
            "Translation API returned the input string unchanged.\n"
          ],
          "name": "stdout"
        },
        {
          "output_type": "stream",
          "text": [
            "\r 91%|█████████ | 24697/27212 [4:07:03<31:19,  1.34it/s]"
          ],
          "name": "stderr"
        },
        {
          "output_type": "stream",
          "text": [
            "ola ok\n",
            "Translation API returned the input string unchanged.\n"
          ],
          "name": "stdout"
        },
        {
          "output_type": "stream",
          "text": [
            " 91%|█████████ | 24708/27212 [4:07:10<23:28,  1.78it/s]"
          ],
          "name": "stderr"
        },
        {
          "output_type": "stream",
          "text": [
            "poli kali\n",
            "Translation API returned the input string unchanged.\n"
          ],
          "name": "stdout"
        },
        {
          "output_type": "stream",
          "text": [
            " 91%|█████████ | 24718/27212 [4:07:16<25:28,  1.63it/s]"
          ],
          "name": "stderr"
        },
        {
          "output_type": "stream",
          "text": [
            "...\n",
            "Translation API returned the input string unchanged.\n"
          ],
          "name": "stdout"
        },
        {
          "output_type": "stream",
          "text": [
            " 91%|█████████ | 24721/27212 [4:07:18<28:13,  1.47it/s]"
          ],
          "name": "stderr"
        },
        {
          "output_type": "stream",
          "text": [
            " ****\n",
            "Translation API returned the input string unchanged.\n"
          ],
          "name": "stdout"
        },
        {
          "output_type": "stream",
          "text": [
            " 91%|█████████ | 24740/27212 [4:07:30<24:55,  1.65it/s]"
          ],
          "name": "stderr"
        },
        {
          "output_type": "stream",
          "text": [
            "H giatros antimetwpise to peristatiko me epaggelmatismo kai synepeia.\n",
            "Translation API returned the input string unchanged.\n"
          ],
          "name": "stdout"
        },
        {
          "output_type": "stream",
          "text": [
            " 91%|█████████ | 24755/27212 [4:07:39<23:57,  1.71it/s]"
          ],
          "name": "stderr"
        },
        {
          "output_type": "stream",
          "text": [
            "A thorough examination and very helpful explanation as well as showing a polite manner. Excellent English too.  \n",
            "Translation API returned the input string unchanged.\n"
          ],
          "name": "stdout"
        },
        {
          "output_type": "stream",
          "text": [
            " 91%|█████████ | 24757/27212 [4:07:41<28:14,  1.45it/s]"
          ],
          "name": "stderr"
        },
        {
          "output_type": "stream",
          "text": [
            "Everything was fine thank you. Quick and to the point.\n",
            "Translation API returned the input string unchanged.\n"
          ],
          "name": "stdout"
        },
        {
          "output_type": "stream",
          "text": [
            " 91%|█████████ | 24764/27212 [4:07:46<25:27,  1.60it/s]"
          ],
          "name": "stderr"
        },
        {
          "output_type": "stream",
          "text": [
            "good staff\n",
            "Translation API returned the input string unchanged.\n"
          ],
          "name": "stdout"
        },
        {
          "output_type": "stream",
          "text": [
            " 91%|█████████ | 24795/27212 [4:08:04<24:31,  1.64it/s]"
          ],
          "name": "stderr"
        },
        {
          "output_type": "stream",
          "text": [
            "very professional. after check-up informed me thoroughly. Questions asked were answered promptly and simply. Excellent practitioner. would definitely recommend.  \n",
            "Translation API returned the input string unchanged.\n"
          ],
          "name": "stdout"
        },
        {
          "output_type": "stream",
          "text": [
            " 91%|█████████ | 24804/27212 [4:08:10<24:27,  1.64it/s]"
          ],
          "name": "stderr"
        },
        {
          "output_type": "stream",
          "text": [
            "To rantevou mou pige polu kala k emeina poly euxaristimenos apo tin k. Souxlaki, poli kali giatros!\n",
            "Translation API returned the input string unchanged.\n"
          ],
          "name": "stdout"
        },
        {
          "output_type": "stream",
          "text": [
            "\r 91%|█████████ | 24805/27212 [4:08:11<30:13,  1.33it/s]"
          ],
          "name": "stderr"
        },
        {
          "output_type": "stream",
          "text": [
            "...\n",
            "Translation API returned the input string unchanged.\n"
          ],
          "name": "stdout"
        },
        {
          "output_type": "stream",
          "text": [
            " 91%|█████████ | 24811/27212 [4:08:15<24:23,  1.64it/s]"
          ],
          "name": "stderr"
        },
        {
          "output_type": "stream",
          "text": [
            "super\n",
            "Translation API returned the input string unchanged.\n"
          ],
          "name": "stdout"
        },
        {
          "output_type": "stream",
          "text": [
            " 91%|█████████▏| 24844/27212 [4:08:35<23:08,  1.71it/s]"
          ],
          "name": "stderr"
        },
        {
          "output_type": "stream",
          "text": [
            "ok !\n",
            "Translation API returned the input string unchanged.\n"
          ],
          "name": "stdout"
        },
        {
          "output_type": "stream",
          "text": [
            " 91%|█████████▏| 24871/27212 [4:08:51<22:20,  1.75it/s]"
          ],
          "name": "stderr"
        },
        {
          "output_type": "stream",
          "text": [
            "Ola mia xara, amesi e3ipiretisi, genika poly kali i empeiria me ton k. Kopatsari.\n",
            "Translation API returned the input string unchanged.\n"
          ],
          "name": "stdout"
        },
        {
          "output_type": "stream",
          "text": [
            " 91%|█████████▏| 24875/27212 [4:08:54<25:01,  1.56it/s]"
          ],
          "name": "stderr"
        },
        {
          "output_type": "stream",
          "text": [
            "Katapliktiki giatros, tin episkeptomaste oli i oikogeneia gia laser, klp! \n",
            "Translation API returned the input string unchanged.\n"
          ],
          "name": "stdout"
        },
        {
          "output_type": "stream",
          "text": [
            " 92%|█████████▏| 24899/27212 [4:09:09<23:42,  1.63it/s]"
          ],
          "name": "stderr"
        },
        {
          "output_type": "stream",
          "text": [
            "poly kala\n",
            "Translation API returned the input string unchanged.\n"
          ],
          "name": "stdout"
        },
        {
          "output_type": "stream",
          "text": [
            " 92%|█████████▏| 24930/27212 [4:09:27<21:40,  1.75it/s]"
          ],
          "name": "stderr"
        },
        {
          "output_type": "stream",
          "text": [
            "!!!!!!!\n",
            "Translation API returned the input string unchanged.\n"
          ],
          "name": "stdout"
        },
        {
          "output_type": "stream",
          "text": [
            " 92%|█████████▏| 24953/27212 [4:09:41<21:58,  1.71it/s]"
          ],
          "name": "stderr"
        },
        {
          "output_type": "stream",
          "text": [
            "...\n",
            "Translation API returned the input string unchanged.\n"
          ],
          "name": "stdout"
        },
        {
          "output_type": "stream",
          "text": [
            " 92%|█████████▏| 24989/27212 [4:10:03<22:57,  1.61it/s]"
          ],
          "name": "stderr"
        },
        {
          "output_type": "stream",
          "text": [
            "polu euxaristimenos\n",
            "Translation API returned the input string unchanged.\n"
          ],
          "name": "stdout"
        },
        {
          "output_type": "stream",
          "text": [
            " 92%|█████████▏| 25025/27212 [4:10:25<21:18,  1.71it/s]"
          ],
          "name": "stderr"
        },
        {
          "output_type": "stream",
          "text": [
            "...\n",
            "Translation API returned the input string unchanged.\n"
          ],
          "name": "stdout"
        },
        {
          "output_type": "stream",
          "text": [
            " 92%|█████████▏| 25050/27212 [4:10:40<21:39,  1.66it/s]"
          ],
          "name": "stderr"
        },
        {
          "output_type": "stream",
          "text": [
            "No comments\n",
            "Translation API returned the input string unchanged.\n"
          ],
          "name": "stdout"
        },
        {
          "output_type": "stream",
          "text": [
            " 92%|█████████▏| 25121/27212 [4:11:22<19:15,  1.81it/s]"
          ],
          "name": "stderr"
        },
        {
          "output_type": "stream",
          "text": [
            "Ine poli kalos epagelmatias ke evxaristos antropos.Evxome na ine oli etsi.Ime ikanopiimeni.\n",
            "Translation API returned the input string unchanged.\n"
          ],
          "name": "stdout"
        },
        {
          "output_type": "stream",
          "text": [
            " 92%|█████████▏| 25147/27212 [4:11:38<20:19,  1.69it/s]"
          ],
          "name": "stderr"
        },
        {
          "output_type": "stream",
          "text": [
            "//////////\n",
            "Translation API returned the input string unchanged.\n"
          ],
          "name": "stdout"
        },
        {
          "output_type": "stream",
          "text": [
            " 92%|█████████▏| 25151/27212 [4:11:40<21:27,  1.60it/s]"
          ],
          "name": "stderr"
        },
        {
          "output_type": "stream",
          "text": [
            "ok!\n",
            "Translation API returned the input string unchanged.\n"
          ],
          "name": "stdout"
        },
        {
          "output_type": "stream",
          "text": [
            " 93%|█████████▎| 25265/27212 [4:12:46<17:44,  1.83it/s]"
          ],
          "name": "stderr"
        },
        {
          "output_type": "stream",
          "text": [
            "epaggelmatias poli euxaristimeni\n",
            "Translation API returned the input string unchanged.\n"
          ],
          "name": "stdout"
        },
        {
          "output_type": "stream",
          "text": [
            " 93%|█████████▎| 25299/27212 [4:13:07<18:58,  1.68it/s]"
          ],
          "name": "stderr"
        },
        {
          "output_type": "stream",
          "text": [
            "Συνεχίστε με αυτό τον τροπο να παρεχετε τις υπηρεσίες σας. ευχαριστω,\n",
            "HTTP Error 400: Bad Request\n"
          ],
          "name": "stdout"
        },
        {
          "output_type": "stream",
          "text": [
            " 93%|█████████▎| 25303/27212 [4:13:13<32:53,  1.03s/it]"
          ],
          "name": "stderr"
        },
        {
          "output_type": "stream",
          "text": [
            "no comment\n",
            "Translation API returned the input string unchanged.\n"
          ],
          "name": "stdout"
        },
        {
          "output_type": "stream",
          "text": [
            " 93%|█████████▎| 25320/27212 [4:13:24<18:09,  1.74it/s]"
          ],
          "name": "stderr"
        },
        {
          "output_type": "stream",
          "text": [
            "ola ok\n",
            "Translation API returned the input string unchanged.\n"
          ],
          "name": "stdout"
        },
        {
          "output_type": "stream",
          "text": [
            " 93%|█████████▎| 25344/27212 [4:13:38<18:26,  1.69it/s]"
          ],
          "name": "stderr"
        },
        {
          "output_type": "stream",
          "text": [
            "!!!!\n",
            "Translation API returned the input string unchanged.\n"
          ],
          "name": "stdout"
        },
        {
          "output_type": "stream",
          "text": [
            " 93%|█████████▎| 25425/27212 [4:14:27<17:27,  1.71it/s]"
          ],
          "name": "stderr"
        },
        {
          "output_type": "stream",
          "text": [
            "OK MIA XARA\n",
            "Translation API returned the input string unchanged.\n"
          ],
          "name": "stdout"
        },
        {
          "output_type": "stream",
          "text": [
            " 93%|█████████▎| 25432/27212 [4:14:31<16:35,  1.79it/s]"
          ],
          "name": "stderr"
        },
        {
          "output_type": "stream",
          "text": [
            "...\n",
            "Translation API returned the input string unchanged.\n"
          ],
          "name": "stdout"
        },
        {
          "output_type": "stream",
          "text": [
            " 93%|█████████▎| 25434/27212 [4:14:33<19:49,  1.49it/s]"
          ],
          "name": "stderr"
        },
        {
          "output_type": "stream",
          "text": [
            "...\n",
            "Translation API returned the input string unchanged.\n"
          ],
          "name": "stdout"
        },
        {
          "output_type": "stream",
          "text": [
            " 93%|█████████▎| 25436/27212 [4:14:34<21:16,  1.39it/s]"
          ],
          "name": "stderr"
        },
        {
          "output_type": "stream",
          "text": [
            "X \n",
            "Translation API returned the input string unchanged.\n"
          ],
          "name": "stdout"
        },
        {
          "output_type": "stream",
          "text": [
            " 94%|█████████▍| 25568/27212 [4:15:51<15:45,  1.74it/s]"
          ],
          "name": "stderr"
        },
        {
          "output_type": "stream",
          "text": [
            "kanena\n",
            "Translation API returned the input string unchanged.\n"
          ],
          "name": "stdout"
        },
        {
          "output_type": "stream",
          "text": [
            " 94%|█████████▍| 25578/27212 [4:15:57<16:00,  1.70it/s]"
          ],
          "name": "stderr"
        },
        {
          "output_type": "stream",
          "text": [
            "    ______\n",
            "Translation API returned the input string unchanged.\n"
          ],
          "name": "stdout"
        },
        {
          "output_type": "stream",
          "text": [
            " 94%|█████████▍| 25593/27212 [4:16:06<15:01,  1.80it/s]"
          ],
          "name": "stderr"
        },
        {
          "output_type": "stream",
          "text": [
            "Polu kala ola!\n",
            "Translation API returned the input string unchanged.\n"
          ],
          "name": "stdout"
        },
        {
          "output_type": "stream",
          "text": [
            " 94%|█████████▍| 25647/27212 [4:16:38<15:33,  1.68it/s]"
          ],
          "name": "stderr"
        },
        {
          "output_type": "stream",
          "text": [
            "Oxi\n",
            "Translation API returned the input string unchanged.\n"
          ],
          "name": "stdout"
        },
        {
          "output_type": "stream",
          "text": [
            " 94%|█████████▍| 25675/27212 [4:16:55<15:14,  1.68it/s]"
          ],
          "name": "stderr"
        },
        {
          "output_type": "stream",
          "text": [
            "Poly kalo site\n",
            "Translation API returned the input string unchanged.\n"
          ],
          "name": "stdout"
        },
        {
          "output_type": "stream",
          "text": [
            " 94%|█████████▍| 25702/27212 [4:17:11<14:38,  1.72it/s]"
          ],
          "name": "stderr"
        },
        {
          "output_type": "stream",
          "text": [
            "good\n",
            "Translation API returned the input string unchanged.\n"
          ],
          "name": "stdout"
        },
        {
          "output_type": "stream",
          "text": [
            " 95%|█████████▍| 25767/27212 [4:17:52<14:22,  1.67it/s]"
          ],
          "name": "stderr"
        },
        {
          "output_type": "stream",
          "text": [
            "poli kali eksiperetisi pano apola kalos anthropos nane kala \n",
            "Translation API returned the input string unchanged.\n"
          ],
          "name": "stdout"
        },
        {
          "output_type": "stream",
          "text": [
            " 95%|█████████▍| 25789/27212 [4:18:05<13:12,  1.80it/s]"
          ],
          "name": "stderr"
        },
        {
          "output_type": "stream",
          "text": [
            "....\n",
            "Translation API returned the input string unchanged.\n"
          ],
          "name": "stdout"
        },
        {
          "output_type": "stream",
          "text": [
            " 95%|█████████▍| 25800/27212 [4:18:12<14:15,  1.65it/s]"
          ],
          "name": "stderr"
        },
        {
          "output_type": "stream",
          "text": [
            "typikos sti douleia tou\n",
            "Translation API returned the input string unchanged.\n"
          ],
          "name": "stdout"
        },
        {
          "output_type": "stream",
          "text": [
            " 95%|█████████▍| 25810/27212 [4:18:19<14:47,  1.58it/s]"
          ],
          "name": "stderr"
        },
        {
          "output_type": "stream",
          "text": [
            "I had tried several doctors but mr Stefanidis took me in his own clinic, i followed his instructions and i m now fine! He is still the best.\n",
            "Translation API returned the input string unchanged.\n"
          ],
          "name": "stdout"
        },
        {
          "output_type": "stream",
          "text": [
            " 95%|█████████▍| 25851/27212 [4:18:43<13:45,  1.65it/s]"
          ],
          "name": "stderr"
        },
        {
          "output_type": "stream",
          "text": [
            "ola kala                                        \n",
            "Translation API returned the input string unchanged.\n"
          ],
          "name": "stdout"
        },
        {
          "output_type": "stream",
          "text": [
            " 95%|█████████▌| 25899/27212 [4:19:12<13:40,  1.60it/s]"
          ],
          "name": "stderr"
        },
        {
          "output_type": "stream",
          "text": [
            "EJAIRETIKH\n",
            "Translation API returned the input string unchanged.\n"
          ],
          "name": "stdout"
        },
        {
          "output_type": "stream",
          "text": [
            " 95%|█████████▌| 25927/27212 [4:19:29<12:29,  1.71it/s]"
          ],
          "name": "stderr"
        },
        {
          "output_type": "stream",
          "text": [
            "ΕΞΑΙΡΕΤΙΚΟΣ ΓΙΑΤΡΟΣ\n",
            "HTTP Error 400: Bad Request\n"
          ],
          "name": "stdout"
        },
        {
          "output_type": "stream",
          "text": [
            " 95%|█████████▌| 25937/27212 [4:19:39<13:20,  1.59it/s]"
          ],
          "name": "stderr"
        },
        {
          "output_type": "stream",
          "text": [
            "jhj;\n",
            "Translation API returned the input string unchanged.\n"
          ],
          "name": "stdout"
        },
        {
          "output_type": "stream",
          "text": [
            " 95%|█████████▌| 25983/27212 [4:20:07<12:09,  1.68it/s]"
          ],
          "name": "stderr"
        },
        {
          "output_type": "stream",
          "text": [
            "no comments\n",
            "Translation API returned the input string unchanged.\n"
          ],
          "name": "stdout"
        },
        {
          "output_type": "stream",
          "text": [
            " 95%|█████████▌| 25985/27212 [4:20:09<13:27,  1.52it/s]"
          ],
          "name": "stderr"
        },
        {
          "output_type": "stream",
          "text": [
            "OK.\n",
            "Translation API returned the input string unchanged.\n"
          ],
          "name": "stdout"
        },
        {
          "output_type": "stream",
          "text": [
            " 96%|█████████▌| 26014/27212 [4:20:26<11:44,  1.70it/s]"
          ],
          "name": "stderr"
        },
        {
          "output_type": "stream",
          "text": [
            ".........\n",
            "Translation API returned the input string unchanged.\n"
          ],
          "name": "stdout"
        },
        {
          "output_type": "stream",
          "text": [
            " 96%|█████████▌| 26021/27212 [4:20:31<11:33,  1.72it/s]"
          ],
          "name": "stderr"
        },
        {
          "output_type": "stream",
          "text": [
            "fine\n",
            "Translation API returned the input string unchanged.\n"
          ],
          "name": "stdout"
        },
        {
          "output_type": "stream",
          "text": [
            " 96%|█████████▌| 26065/27212 [4:20:57<10:52,  1.76it/s]"
          ],
          "name": "stderr"
        },
        {
          "output_type": "stream",
          "text": [
            "...\n",
            "Translation API returned the input string unchanged.\n"
          ],
          "name": "stdout"
        },
        {
          "output_type": "stream",
          "text": [
            "\r 96%|█████████▌| 26066/27212 [4:20:58<13:23,  1.43it/s]"
          ],
          "name": "stderr"
        },
        {
          "output_type": "stream",
          "text": [
            "ola pigan polu kala\n",
            "Translation API returned the input string unchanged.\n"
          ],
          "name": "stdout"
        },
        {
          "output_type": "stream",
          "text": [
            "\r 96%|█████████▌| 26067/27212 [4:20:59<15:34,  1.22it/s]"
          ],
          "name": "stderr"
        },
        {
          "output_type": "stream",
          "text": [
            "Polu kalos.\n",
            "Translation API returned the input string unchanged.\n"
          ],
          "name": "stdout"
        },
        {
          "output_type": "stream",
          "text": [
            " 96%|█████████▌| 26071/27212 [4:21:02<12:45,  1.49it/s]"
          ],
          "name": "stderr"
        },
        {
          "output_type": "stream",
          "text": [
            "O iatros itan exiphretikos kai katartismenos. Emeina apolyta ikanopoihmenos me th episkepsh moy. \n",
            "Translation API returned the input string unchanged.\n"
          ],
          "name": "stdout"
        },
        {
          "output_type": "stream",
          "text": [
            " 96%|█████████▌| 26085/27212 [4:21:11<11:10,  1.68it/s]"
          ],
          "name": "stderr"
        },
        {
          "output_type": "stream",
          "text": [
            "no further comment\n",
            "Translation API returned the input string unchanged.\n"
          ],
          "name": "stdout"
        },
        {
          "output_type": "stream",
          "text": [
            " 96%|█████████▌| 26091/27212 [4:21:15<11:43,  1.59it/s]"
          ],
          "name": "stderr"
        },
        {
          "output_type": "stream",
          "text": [
            "APARADEKTOS IATROS\n",
            "Translation API returned the input string unchanged.\n"
          ],
          "name": "stdout"
        },
        {
          "output_type": "stream",
          "text": [
            " 96%|█████████▌| 26101/27212 [4:21:21<12:00,  1.54it/s]"
          ],
          "name": "stderr"
        },
        {
          "output_type": "stream",
          "text": [
            "ola kala\n",
            "Translation API returned the input string unchanged.\n"
          ],
          "name": "stdout"
        },
        {
          "output_type": "stream",
          "text": [
            " 96%|█████████▌| 26105/27212 [4:21:24<11:36,  1.59it/s]"
          ],
          "name": "stderr"
        },
        {
          "output_type": "stream",
          "text": [
            "    hello!\n",
            "Translation API returned the input string unchanged.\n"
          ],
          "name": "stdout"
        },
        {
          "output_type": "stream",
          "text": [
            " 96%|█████████▌| 26141/27212 [4:21:46<11:22,  1.57it/s]"
          ],
          "name": "stderr"
        },
        {
          "output_type": "stream",
          "text": [
            "Poli kali, filiki kai enimeromeni odontiatros\n",
            "Translation API returned the input string unchanged.\n"
          ],
          "name": "stdout"
        },
        {
          "output_type": "stream",
          "text": [
            " 96%|█████████▋| 26206/27212 [4:22:26<09:59,  1.68it/s]"
          ],
          "name": "stderr"
        },
        {
          "output_type": "stream",
          "text": [
            "ola kala oyden sxolio\n",
            "Translation API returned the input string unchanged.\n"
          ],
          "name": "stdout"
        },
        {
          "output_type": "stream",
          "text": [
            " 96%|█████████▋| 26212/27212 [4:22:30<10:09,  1.64it/s]"
          ],
          "name": "stderr"
        },
        {
          "output_type": "stream",
          "text": [
            "siharitiria sto site ke stin giatro \n",
            "Translation API returned the input string unchanged.\n"
          ],
          "name": "stdout"
        },
        {
          "output_type": "stream",
          "text": [
            " 96%|█████████▋| 26217/27212 [4:22:34<10:40,  1.55it/s]"
          ],
          "name": "stderr"
        },
        {
          "output_type": "stream",
          "text": [
            "Thank you very much for your help...\n",
            "Translation API returned the input string unchanged.\n"
          ],
          "name": "stdout"
        },
        {
          "output_type": "stream",
          "text": [
            " 96%|█████████▋| 26245/27212 [4:22:52<09:44,  1.65it/s]"
          ],
          "name": "stderr"
        },
        {
          "output_type": "stream",
          "text": [
            "Keep it up! \n",
            "Translation API returned the input string unchanged.\n"
          ],
          "name": "stdout"
        },
        {
          "output_type": "stream",
          "text": [
            " 96%|█████████▋| 26249/27212 [4:22:54<10:06,  1.59it/s]"
          ],
          "name": "stderr"
        },
        {
          "output_type": "stream",
          "text": [
            "To doctor anytime den iche enimerosi ton giatro, me to iatro den itane kan evienikos afou den niche allowed as tennis den me dektike. Mall on olli pezoune me tin ygia mas\n",
            "Translation API returned the input string unchanged.\n"
          ],
          "name": "stdout"
        },
        {
          "output_type": "stream",
          "text": [
            " 96%|█████████▋| 26254/27212 [4:22:58<10:32,  1.52it/s]"
          ],
          "name": "stderr"
        },
        {
          "output_type": "stream",
          "text": [
            "Itan akrivi i amoivi tou Iatrou.\n",
            "Translation API returned the input string unchanged.\n"
          ],
          "name": "stdout"
        },
        {
          "output_type": "stream",
          "text": [
            "\r 96%|█████████▋| 26255/27212 [4:22:59<12:27,  1.28it/s]"
          ],
          "name": "stderr"
        },
        {
          "output_type": "stream",
          "text": [
            "there was a 20% discount on the doctor fees, however I expected a larger discount. Other than that I was very happy with the doctor\n",
            "Translation API returned the input string unchanged.\n"
          ],
          "name": "stdout"
        },
        {
          "output_type": "stream",
          "text": [
            " 97%|█████████▋| 26274/27212 [4:23:12<09:36,  1.63it/s]"
          ],
          "name": "stderr"
        },
        {
          "output_type": "stream",
          "text": [
            "Very good doctor !!!\n",
            "Translation API returned the input string unchanged.\n"
          ],
          "name": "stdout"
        },
        {
          "output_type": "stream",
          "text": [
            " 97%|█████████▋| 26298/27212 [4:23:27<10:15,  1.49it/s]"
          ],
          "name": "stderr"
        },
        {
          "output_type": "stream",
          "text": [
            "OK!\n",
            "Translation API returned the input string unchanged.\n"
          ],
          "name": "stdout"
        },
        {
          "output_type": "stream",
          "text": [
            " 97%|█████████▋| 26368/27212 [4:24:08<08:00,  1.76it/s]"
          ],
          "name": "stderr"
        },
        {
          "output_type": "stream",
          "text": [
            "I am very pleased with the doctors that you hd recomended and thank you very much for you help\n",
            "Translation API returned the input string unchanged.\n"
          ],
          "name": "stdout"
        },
        {
          "output_type": "stream",
          "text": [
            " 97%|█████████▋| 26417/27212 [4:24:38<07:12,  1.84it/s]"
          ],
          "name": "stderr"
        },
        {
          "output_type": "stream",
          "text": [
            "se mia ebdomada tha ksanapaw\n",
            "Translation API returned the input string unchanged.\n"
          ],
          "name": "stdout"
        },
        {
          "output_type": "stream",
          "text": [
            " 97%|█████████▋| 26477/27212 [4:25:12<06:35,  1.86it/s]"
          ],
          "name": "stderr"
        },
        {
          "output_type": "stream",
          "text": [
            "tonionion\n",
            "Translation API returned the input string unchanged.\n"
          ],
          "name": "stdout"
        },
        {
          "output_type": "stream",
          "text": [
            " 99%|█████████▉| 26913/27212 [4:29:12<02:59,  1.67it/s]"
          ],
          "name": "stderr"
        },
        {
          "output_type": "stream",
          "text": [
            "Doctoranytime was extremely helpful in informing me about the progress of the doctor's appointment. Making the appointment was very simple and time efficient! Keep up the good work :) \n",
            "Translation API returned the input string unchanged.\n"
          ],
          "name": "stdout"
        },
        {
          "output_type": "stream",
          "text": [
            " 99%|█████████▉| 26933/27212 [4:29:24<02:44,  1.70it/s]"
          ],
          "name": "stderr"
        },
        {
          "output_type": "stream",
          "text": [
            "Very informative and professional. Highly recommended.\n",
            "Translation API returned the input string unchanged.\n"
          ],
          "name": "stdout"
        },
        {
          "output_type": "stream",
          "text": [
            " 99%|█████████▉| 26972/27212 [4:29:49<02:18,  1.74it/s]"
          ],
          "name": "stderr"
        },
        {
          "output_type": "stream",
          "text": [
            "para poly kalos..den perimena na meinw toso eyxaristimeni!\n",
            "Translation API returned the input string unchanged.\n"
          ],
          "name": "stdout"
        },
        {
          "output_type": "stream",
          "text": [
            " 99%|█████████▉| 26978/27212 [4:29:53<02:24,  1.62it/s]"
          ],
          "name": "stderr"
        },
        {
          "output_type": "stream",
          "text": [
            "polu kalh k eksuphretikh\n",
            "Translation API returned the input string unchanged.\n"
          ],
          "name": "stdout"
        },
        {
          "output_type": "stream",
          "text": [
            " 99%|█████████▉| 27036/27212 [4:30:29<01:50,  1.59it/s]"
          ],
          "name": "stderr"
        },
        {
          "output_type": "stream",
          "text": [
            "To proto rantevou pou ixame klisei den egine, dioti piga kai i iatros mou ipe oti exei astheni kai tha prepei na perimeno mia me miamisi ora. mou edose neo rantevou opou i eksetasi spilon diirkise 3 lepta mono. den nomizo oti egine endelexos, mallon viazotan na me teliosei.\n",
            "Translation API returned the input string unchanged.\n"
          ],
          "name": "stdout"
        },
        {
          "output_type": "stream",
          "text": [
            "100%|█████████▉| 27158/27212 [4:31:44<00:33,  1.64it/s]"
          ],
          "name": "stderr"
        },
        {
          "output_type": "stream",
          "text": [
            "teleia\n",
            "Translation API returned the input string unchanged.\n"
          ],
          "name": "stdout"
        },
        {
          "output_type": "stream",
          "text": [
            "100%|██████████| 27212/27212 [4:32:18<00:00,  1.67it/s]"
          ],
          "name": "stderr"
        },
        {
          "output_type": "stream",
          "text": [
            "it took: 16338.327923059464 seconds\n"
          ],
          "name": "stdout"
        },
        {
          "output_type": "stream",
          "text": [
            "\n"
          ],
          "name": "stderr"
        }
      ]
    },
    {
      "cell_type": "code",
      "metadata": {
        "id": "rCW3dVqlwceV",
        "outputId": "d306458a-1bea-4fd6-a1f4-517aa1b64b4b",
        "colab": {
          "base_uri": "https://localhost:8080/",
          "height": 69
        }
      },
      "source": [
        "'''start = time.time()\n",
        "d = []\n",
        "#batches of 20000\n",
        "for row,rev in enumerate(revs.review[1000:2000]):\n",
        "  try:\n",
        "    blob_obj = TextBlob(rev)\n",
        "    #print(blob_obj.translate(to=\"en\"))\n",
        "    d.append(str(blob_obj.translate(to=\"en\")))\n",
        "    #revs.review[rev] = blob_obj.translate(to=\"en\")\n",
        "    print(row)\n",
        "  except:\n",
        "    d.append(rev)\n",
        "    print(row)\n",
        "    continue\n",
        "end = time.time()\n",
        "print(\"it took:\", end - start ,\"seconds\")'''"
      ],
      "execution_count": null,
      "outputs": [
        {
          "output_type": "execute_result",
          "data": {
            "application/vnd.google.colaboratory.intrinsic+json": {
              "type": "string"
            },
            "text/plain": [
              "'start = time.time()\\nd = []\\n#batches of 20000\\nfor row,rev in enumerate(revs.review[1000:2000]):\\n  try:\\n    blob_obj = TextBlob(rev)\\n    #print(blob_obj.translate(to=\"en\"))\\n    d.append(str(blob_obj.translate(to=\"en\")))\\n    #revs.review[rev] = blob_obj.translate(to=\"en\")\\n    print(row)\\n  except:\\n    d.append(rev)\\n    print(row)\\n    continue\\nend = time.time()\\nprint(\"it took:\", end - start ,\"seconds\")'"
            ]
          },
          "metadata": {
            "tags": []
          },
          "execution_count": 25
        }
      ]
    },
    {
      "cell_type": "code",
      "metadata": {
        "id": "rmNgmIBDGWqr"
      },
      "source": [
        "df2 = pd.DataFrame(d) "
      ],
      "execution_count": null,
      "outputs": []
    },
    {
      "cell_type": "code",
      "metadata": {
        "id": "DTCIBF8XKBvY",
        "outputId": "ef4d454e-3649-48ac-b899-9566de54b6f0",
        "colab": {
          "base_uri": "https://localhost:8080/",
          "height": 419
        }
      },
      "source": [
        "df2"
      ],
      "execution_count": null,
      "outputs": [
        {
          "output_type": "execute_result",
          "data": {
            "text/html": [
              "<div>\n",
              "<style scoped>\n",
              "    .dataframe tbody tr th:only-of-type {\n",
              "        vertical-align: middle;\n",
              "    }\n",
              "\n",
              "    .dataframe tbody tr th {\n",
              "        vertical-align: top;\n",
              "    }\n",
              "\n",
              "    .dataframe thead th {\n",
              "        text-align: right;\n",
              "    }\n",
              "</style>\n",
              "<table border=\"1\" class=\"dataframe\">\n",
              "  <thead>\n",
              "    <tr style=\"text-align: right;\">\n",
              "      <th></th>\n",
              "      <th>0</th>\n",
              "    </tr>\n",
              "  </thead>\n",
              "  <tbody>\n",
              "    <tr>\n",
              "      <th>0</th>\n",
              "      <td>Immediate service, the doctor took an interest...</td>\n",
              "    </tr>\n",
              "    <tr>\n",
              "      <th>1</th>\n",
              "      <td>Gentle helpful and very friendly</td>\n",
              "    </tr>\n",
              "    <tr>\n",
              "      <th>2</th>\n",
              "      <td>Gentle reliable and exudes confidence in the d...</td>\n",
              "    </tr>\n",
              "    <tr>\n",
              "      <th>3</th>\n",
              "      <td>I had an appointment at 12:30 in the morning. ...</td>\n",
              "    </tr>\n",
              "    <tr>\n",
              "      <th>4</th>\n",
              "      <td>Professional, inspires confidence, solves the ...</td>\n",
              "    </tr>\n",
              "    <tr>\n",
              "      <th>...</th>\n",
              "      <td>...</td>\n",
              "    </tr>\n",
              "    <tr>\n",
              "      <th>27207</th>\n",
              "      <td>I recommend it for those who need it.</td>\n",
              "    </tr>\n",
              "    <tr>\n",
              "      <th>27208</th>\n",
              "      <td>I went to the appointment but they were not in...</td>\n",
              "    </tr>\n",
              "    <tr>\n",
              "      <th>27209</th>\n",
              "      <td>I am very satisfied with this doctor and his s...</td>\n",
              "    </tr>\n",
              "    <tr>\n",
              "      <th>27210</th>\n",
              "      <td>impeccable behavior and high professionalism</td>\n",
              "    </tr>\n",
              "    <tr>\n",
              "      <th>27211</th>\n",
              "      <td>Gentle, approachable, informative.</td>\n",
              "    </tr>\n",
              "  </tbody>\n",
              "</table>\n",
              "<p>27212 rows × 1 columns</p>\n",
              "</div>"
            ],
            "text/plain": [
              "                                                       0\n",
              "0      Immediate service, the doctor took an interest...\n",
              "1                       Gentle helpful and very friendly\n",
              "2      Gentle reliable and exudes confidence in the d...\n",
              "3      I had an appointment at 12:30 in the morning. ...\n",
              "4      Professional, inspires confidence, solves the ...\n",
              "...                                                  ...\n",
              "27207              I recommend it for those who need it.\n",
              "27208  I went to the appointment but they were not in...\n",
              "27209  I am very satisfied with this doctor and his s...\n",
              "27210       impeccable behavior and high professionalism\n",
              "27211                 Gentle, approachable, informative.\n",
              "\n",
              "[27212 rows x 1 columns]"
            ]
          },
          "metadata": {
            "tags": []
          },
          "execution_count": 11
        }
      ]
    },
    {
      "cell_type": "code",
      "metadata": {
        "id": "awig2wN5pECL",
        "outputId": "5bcc52d3-efd8-4150-9067-0bc7c24a1594",
        "colab": {
          "base_uri": "https://localhost:8080/",
          "height": 204
        }
      },
      "source": [
        "revs[60000:60005]"
      ],
      "execution_count": null,
      "outputs": [
        {
          "output_type": "execute_result",
          "data": {
            "text/html": [
              "<div>\n",
              "<style scoped>\n",
              "    .dataframe tbody tr th:only-of-type {\n",
              "        vertical-align: middle;\n",
              "    }\n",
              "\n",
              "    .dataframe tbody tr th {\n",
              "        vertical-align: top;\n",
              "    }\n",
              "\n",
              "    .dataframe thead th {\n",
              "        text-align: right;\n",
              "    }\n",
              "</style>\n",
              "<table border=\"1\" class=\"dataframe\">\n",
              "  <thead>\n",
              "    <tr style=\"text-align: right;\">\n",
              "      <th></th>\n",
              "      <th>review</th>\n",
              "      <th>approved</th>\n",
              "      <th>TotalScore</th>\n",
              "      <th>PunctualityScore</th>\n",
              "    </tr>\n",
              "  </thead>\n",
              "  <tbody>\n",
              "    <tr>\n",
              "      <th>60058</th>\n",
              "      <td>Πολύ καλός</td>\n",
              "      <td>1</td>\n",
              "      <td>10.0</td>\n",
              "      <td>10.0</td>\n",
              "    </tr>\n",
              "    <tr>\n",
              "      <th>60059</th>\n",
              "      <td>Έμεινα πολύ ευχαριστημένη!</td>\n",
              "      <td>1</td>\n",
              "      <td>10.0</td>\n",
              "      <td>10.0</td>\n",
              "    </tr>\n",
              "    <tr>\n",
              "      <th>60060</th>\n",
              "      <td>Εξαιρετική!</td>\n",
              "      <td>1</td>\n",
              "      <td>10.0</td>\n",
              "      <td>10.0</td>\n",
              "    </tr>\n",
              "    <tr>\n",
              "      <th>60061</th>\n",
              "      <td>Πολυ καλοσυνατος άνθρωπος, ευγενεστατος, εξυπη...</td>\n",
              "      <td>1</td>\n",
              "      <td>10.0</td>\n",
              "      <td>10.0</td>\n",
              "    </tr>\n",
              "    <tr>\n",
              "      <th>60062</th>\n",
              "      <td>Η ιατρος φαινοταν να γνωριζει την περιπτωση μο...</td>\n",
              "      <td>1</td>\n",
              "      <td>8.0</td>\n",
              "      <td>9.4</td>\n",
              "    </tr>\n",
              "  </tbody>\n",
              "</table>\n",
              "</div>"
            ],
            "text/plain": [
              "                                                  review  ...  PunctualityScore\n",
              "60058                                        Πολύ καλός   ...              10.0\n",
              "60059                        Έμεινα πολύ ευχαριστημένη!   ...              10.0\n",
              "60060                                        Εξαιρετική!  ...              10.0\n",
              "60061  Πολυ καλοσυνατος άνθρωπος, ευγενεστατος, εξυπη...  ...              10.0\n",
              "60062  Η ιατρος φαινοταν να γνωριζει την περιπτωση μο...  ...               9.4\n",
              "\n",
              "[5 rows x 4 columns]"
            ]
          },
          "metadata": {
            "tags": []
          },
          "execution_count": 28
        }
      ]
    },
    {
      "cell_type": "code",
      "metadata": {
        "id": "tNMIVgzwgShV"
      },
      "source": [
        "translated_revs = pd.DataFrame(df2)"
      ],
      "execution_count": null,
      "outputs": []
    },
    {
      "cell_type": "code",
      "metadata": {
        "id": "iv4V2UsKRWDe",
        "outputId": "0b1f90bf-55c5-4f8f-bd8f-727952e1a334",
        "colab": {
          "base_uri": "https://localhost:8080/",
          "height": 419
        }
      },
      "source": [
        "translated_revs"
      ],
      "execution_count": null,
      "outputs": [
        {
          "output_type": "execute_result",
          "data": {
            "text/html": [
              "<div>\n",
              "<style scoped>\n",
              "    .dataframe tbody tr th:only-of-type {\n",
              "        vertical-align: middle;\n",
              "    }\n",
              "\n",
              "    .dataframe tbody tr th {\n",
              "        vertical-align: top;\n",
              "    }\n",
              "\n",
              "    .dataframe thead th {\n",
              "        text-align: right;\n",
              "    }\n",
              "</style>\n",
              "<table border=\"1\" class=\"dataframe\">\n",
              "  <thead>\n",
              "    <tr style=\"text-align: right;\">\n",
              "      <th></th>\n",
              "      <th>0</th>\n",
              "    </tr>\n",
              "  </thead>\n",
              "  <tbody>\n",
              "    <tr>\n",
              "      <th>0</th>\n",
              "      <td>Immediate service, the doctor took an interest...</td>\n",
              "    </tr>\n",
              "    <tr>\n",
              "      <th>1</th>\n",
              "      <td>Gentle helpful and very friendly</td>\n",
              "    </tr>\n",
              "    <tr>\n",
              "      <th>2</th>\n",
              "      <td>Gentle reliable and exudes confidence in the d...</td>\n",
              "    </tr>\n",
              "    <tr>\n",
              "      <th>3</th>\n",
              "      <td>I had an appointment at 12:30 in the morning. ...</td>\n",
              "    </tr>\n",
              "    <tr>\n",
              "      <th>4</th>\n",
              "      <td>Professional, inspires confidence, solves the ...</td>\n",
              "    </tr>\n",
              "    <tr>\n",
              "      <th>...</th>\n",
              "      <td>...</td>\n",
              "    </tr>\n",
              "    <tr>\n",
              "      <th>27207</th>\n",
              "      <td>I recommend it for those who need it.</td>\n",
              "    </tr>\n",
              "    <tr>\n",
              "      <th>27208</th>\n",
              "      <td>I went to the appointment but they were not in...</td>\n",
              "    </tr>\n",
              "    <tr>\n",
              "      <th>27209</th>\n",
              "      <td>I am very satisfied with this doctor and his s...</td>\n",
              "    </tr>\n",
              "    <tr>\n",
              "      <th>27210</th>\n",
              "      <td>impeccable behavior and high professionalism</td>\n",
              "    </tr>\n",
              "    <tr>\n",
              "      <th>27211</th>\n",
              "      <td>Gentle, approachable, informative.</td>\n",
              "    </tr>\n",
              "  </tbody>\n",
              "</table>\n",
              "<p>27212 rows × 1 columns</p>\n",
              "</div>"
            ],
            "text/plain": [
              "                                                       0\n",
              "0      Immediate service, the doctor took an interest...\n",
              "1                       Gentle helpful and very friendly\n",
              "2      Gentle reliable and exudes confidence in the d...\n",
              "3      I had an appointment at 12:30 in the morning. ...\n",
              "4      Professional, inspires confidence, solves the ...\n",
              "...                                                  ...\n",
              "27207              I recommend it for those who need it.\n",
              "27208  I went to the appointment but they were not in...\n",
              "27209  I am very satisfied with this doctor and his s...\n",
              "27210       impeccable behavior and high professionalism\n",
              "27211                 Gentle, approachable, informative.\n",
              "\n",
              "[27212 rows x 1 columns]"
            ]
          },
          "metadata": {
            "tags": []
          },
          "execution_count": 13
        }
      ]
    },
    {
      "cell_type": "code",
      "metadata": {
        "id": "flj_RUYUJ1z3"
      },
      "source": [
        "#revs['translated_review'][0:1000]"
      ],
      "execution_count": null,
      "outputs": []
    },
    {
      "cell_type": "code",
      "metadata": {
        "id": "WyrF4-NpDsVi"
      },
      "source": [
        "#translated_revs.to_csv(r'/content/drive/My Drive/Colab Notebooks/Classifier/translation1.csv', index = False, header=False)"
      ],
      "execution_count": null,
      "outputs": []
    },
    {
      "cell_type": "code",
      "metadata": {
        "id": "Jii_PBQTbCfK"
      },
      "source": [
        "translationsCleaned = translations[['TranslatedReview', 'Approved']].copy()"
      ],
      "execution_count": null,
      "outputs": []
    },
    {
      "cell_type": "code",
      "metadata": {
        "id": "RPRvnRcDpvie"
      },
      "source": [
        "tran = pd.read_csv(\"/content/drive/My Drive/Colab Notebooks/Classifier/translation.csv\", header=None) "
      ],
      "execution_count": null,
      "outputs": []
    },
    {
      "cell_type": "code",
      "metadata": {
        "id": "al1K5Jd0dHRW",
        "outputId": "40fce01a-c55d-47c1-df86-27e3426b60d3",
        "colab": {
          "base_uri": "https://localhost:8080/",
          "height": 419
        }
      },
      "source": [
        "tran"
      ],
      "execution_count": null,
      "outputs": [
        {
          "output_type": "execute_result",
          "data": {
            "text/html": [
              "<div>\n",
              "<style scoped>\n",
              "    .dataframe tbody tr th:only-of-type {\n",
              "        vertical-align: middle;\n",
              "    }\n",
              "\n",
              "    .dataframe tbody tr th {\n",
              "        vertical-align: top;\n",
              "    }\n",
              "\n",
              "    .dataframe thead th {\n",
              "        text-align: right;\n",
              "    }\n",
              "</style>\n",
              "<table border=\"1\" class=\"dataframe\">\n",
              "  <thead>\n",
              "    <tr style=\"text-align: right;\">\n",
              "      <th></th>\n",
              "      <th>0</th>\n",
              "    </tr>\n",
              "  </thead>\n",
              "  <tbody>\n",
              "    <tr>\n",
              "      <th>0</th>\n",
              "      <td>Reassuring, experienced and effective</td>\n",
              "    </tr>\n",
              "    <tr>\n",
              "      <th>1</th>\n",
              "      <td>A wonderful person makes you trust her and be ...</td>\n",
              "    </tr>\n",
              "    <tr>\n",
              "      <th>2</th>\n",
              "      <td>The doctor is excellent, familiar with the sub...</td>\n",
              "    </tr>\n",
              "    <tr>\n",
              "      <th>3</th>\n",
              "      <td>It gave me confidence and I said things I have...</td>\n",
              "    </tr>\n",
              "    <tr>\n",
              "      <th>4</th>\n",
              "      <td>Very good doctor I highly recommend him. Absol...</td>\n",
              "    </tr>\n",
              "    <tr>\n",
              "      <th>...</th>\n",
              "      <td>...</td>\n",
              "    </tr>\n",
              "    <tr>\n",
              "      <th>127205</th>\n",
              "      <td>I recommend it for those who need it.</td>\n",
              "    </tr>\n",
              "    <tr>\n",
              "      <th>127206</th>\n",
              "      <td>I went to the appointment but they were not in...</td>\n",
              "    </tr>\n",
              "    <tr>\n",
              "      <th>127207</th>\n",
              "      <td>I am very satisfied with this doctor and his s...</td>\n",
              "    </tr>\n",
              "    <tr>\n",
              "      <th>127208</th>\n",
              "      <td>impeccable behavior and high professionalism</td>\n",
              "    </tr>\n",
              "    <tr>\n",
              "      <th>127209</th>\n",
              "      <td>Gentle, approachable, informative.</td>\n",
              "    </tr>\n",
              "  </tbody>\n",
              "</table>\n",
              "<p>127210 rows × 1 columns</p>\n",
              "</div>"
            ],
            "text/plain": [
              "                                                        0\n",
              "0                   Reassuring, experienced and effective\n",
              "1       A wonderful person makes you trust her and be ...\n",
              "2       The doctor is excellent, familiar with the sub...\n",
              "3       It gave me confidence and I said things I have...\n",
              "4       Very good doctor I highly recommend him. Absol...\n",
              "...                                                   ...\n",
              "127205              I recommend it for those who need it.\n",
              "127206  I went to the appointment but they were not in...\n",
              "127207  I am very satisfied with this doctor and his s...\n",
              "127208       impeccable behavior and high professionalism\n",
              "127209                 Gentle, approachable, informative.\n",
              "\n",
              "[127210 rows x 1 columns]"
            ]
          },
          "metadata": {
            "tags": []
          },
          "execution_count": 12
        }
      ]
    },
    {
      "cell_type": "code",
      "metadata": {
        "id": "u3a41KWvaXth"
      },
      "source": [
        "translated_revs.to_csv('/content/drive/My Drive/Colab Notebooks/Classifier/translation.csv', mode='a', header=False, index=False)"
      ],
      "execution_count": null,
      "outputs": []
    },
    {
      "cell_type": "code",
      "metadata": {
        "id": "kRl7_JYRv_Yn",
        "outputId": "74ba22a9-2fa4-4a96-e432-9634e0e429c4",
        "colab": {
          "base_uri": "https://localhost:8080/",
          "height": 514
        }
      },
      "source": [
        "revs[0:15]"
      ],
      "execution_count": null,
      "outputs": [
        {
          "output_type": "execute_result",
          "data": {
            "text/html": [
              "<div>\n",
              "<style scoped>\n",
              "    .dataframe tbody tr th:only-of-type {\n",
              "        vertical-align: middle;\n",
              "    }\n",
              "\n",
              "    .dataframe tbody tr th {\n",
              "        vertical-align: top;\n",
              "    }\n",
              "\n",
              "    .dataframe thead th {\n",
              "        text-align: right;\n",
              "    }\n",
              "</style>\n",
              "<table border=\"1\" class=\"dataframe\">\n",
              "  <thead>\n",
              "    <tr style=\"text-align: right;\">\n",
              "      <th></th>\n",
              "      <th>review</th>\n",
              "      <th>approved</th>\n",
              "      <th>TotalScore</th>\n",
              "      <th>PunctualityScore</th>\n",
              "      <th>translated_review</th>\n",
              "    </tr>\n",
              "  </thead>\n",
              "  <tbody>\n",
              "    <tr>\n",
              "      <th>0</th>\n",
              "      <td>Καθησυχαστικη, έμπειρη και αποτέλεσμάτικη</td>\n",
              "      <td>1</td>\n",
              "      <td>10.0</td>\n",
              "      <td>10.0</td>\n",
              "      <td>Reassuring, experienced and effective</td>\n",
              "    </tr>\n",
              "    <tr>\n",
              "      <th>1</th>\n",
              "      <td>Υπέροχος άνθρωπος σε κάνει να την εμπιστευτείς...</td>\n",
              "      <td>1</td>\n",
              "      <td>10.0</td>\n",
              "      <td>10.0</td>\n",
              "      <td>A wonderful person makes you trust her and be ...</td>\n",
              "    </tr>\n",
              "    <tr>\n",
              "      <th>2</th>\n",
              "      <td>O γιατρός είναι εξαιρετικος, γνωστής του αντικ...</td>\n",
              "      <td>1</td>\n",
              "      <td>10.0</td>\n",
              "      <td>10.0</td>\n",
              "      <td>The doctor is excellent, familiar with the sub...</td>\n",
              "    </tr>\n",
              "    <tr>\n",
              "      <th>3</th>\n",
              "      <td>Μου ενέπνευσε εμπιστοσύνη και είπα πράγματα πο...</td>\n",
              "      <td>1</td>\n",
              "      <td>10.0</td>\n",
              "      <td>10.0</td>\n",
              "      <td>It gave me confidence and I said things I have...</td>\n",
              "    </tr>\n",
              "    <tr>\n",
              "      <th>4</th>\n",
              "      <td>Πολύ καλός γιατρός  Τον συστήνω ανεπιφύλακτα. ...</td>\n",
              "      <td>1</td>\n",
              "      <td>10.0</td>\n",
              "      <td>10.0</td>\n",
              "      <td>Very good doctor I highly recommend him. Absol...</td>\n",
              "    </tr>\n",
              "    <tr>\n",
              "      <th>5</th>\n",
              "      <td>To ραντεβού αφορούσε θεραπεία με λέιζερ. Η για...</td>\n",
              "      <td>1</td>\n",
              "      <td>10.0</td>\n",
              "      <td>9.8</td>\n",
              "      <td>The appointment was about laser treatment. The...</td>\n",
              "    </tr>\n",
              "    <tr>\n",
              "      <th>6</th>\n",
              "      <td>εξαιρετικη και πολυ σχολαστικη..!!</td>\n",
              "      <td>1</td>\n",
              "      <td>10.0</td>\n",
              "      <td>10.0</td>\n",
              "      <td>excellent and very meticulous .. !!</td>\n",
              "    </tr>\n",
              "    <tr>\n",
              "      <th>7</th>\n",
              "      <td>Ανθρώπινη συμπεριφορά, με εξέτασε διεξοδικά, έ...</td>\n",
              "      <td>1</td>\n",
              "      <td>10.0</td>\n",
              "      <td>10.0</td>\n",
              "      <td>Human behavior, he examined me thoroughly, I w...</td>\n",
              "    </tr>\n",
              "    <tr>\n",
              "      <th>8</th>\n",
              "      <td>Πάρα πολύ καλός. Τον συστήνω ανεπιφύλακτα!</td>\n",
              "      <td>1</td>\n",
              "      <td>10.0</td>\n",
              "      <td>10.0</td>\n",
              "      <td>Very good. I highly recommend it!</td>\n",
              "    </tr>\n",
              "    <tr>\n",
              "      <th>9</th>\n",
              "      <td>Ένα μεγάλο ευχαριστώ τον κ. Ηλία!</td>\n",
              "      <td>1</td>\n",
              "      <td>10.0</td>\n",
              "      <td>10.0</td>\n",
              "      <td>A big thank you to Mr. Elias!</td>\n",
              "    </tr>\n",
              "    <tr>\n",
              "      <th>10</th>\n",
              "      <td>Αξιόλογος γιατρός. Ευγενικός και πολύ καλός με...</td>\n",
              "      <td>1</td>\n",
              "      <td>10.0</td>\n",
              "      <td>9.4</td>\n",
              "      <td>NaN</td>\n",
              "    </tr>\n",
              "    <tr>\n",
              "      <th>11</th>\n",
              "      <td>Εξαιρετική ιατρος, με κατανόηση και εμπειρία.</td>\n",
              "      <td>1</td>\n",
              "      <td>10.0</td>\n",
              "      <td>10.0</td>\n",
              "      <td>NaN</td>\n",
              "    </tr>\n",
              "    <tr>\n",
              "      <th>12</th>\n",
              "      <td>Άψογη εξυπηρέτηση κ φιλικό περιβάλλον.</td>\n",
              "      <td>1</td>\n",
              "      <td>10.0</td>\n",
              "      <td>10.0</td>\n",
              "      <td>NaN</td>\n",
              "    </tr>\n",
              "    <tr>\n",
              "      <th>13</th>\n",
              "      <td>Ασχολήθηκε αρκετά με το ιστορικό μου. Πολύ φιλ...</td>\n",
              "      <td>1</td>\n",
              "      <td>5.0</td>\n",
              "      <td>9.0</td>\n",
              "      <td>NaN</td>\n",
              "    </tr>\n",
              "    <tr>\n",
              "      <th>14</th>\n",
              "      <td>Επεξηγηματικός, μου έδωσε και σαφείς οδηγίες γ...</td>\n",
              "      <td>1</td>\n",
              "      <td>10.0</td>\n",
              "      <td>9.6</td>\n",
              "      <td>NaN</td>\n",
              "    </tr>\n",
              "  </tbody>\n",
              "</table>\n",
              "</div>"
            ],
            "text/plain": [
              "                                               review  ...                                  translated_review\n",
              "0          Καθησυχαστικη, έμπειρη και αποτέλεσμάτικη   ...              Reassuring, experienced and effective\n",
              "1   Υπέροχος άνθρωπος σε κάνει να την εμπιστευτείς...  ...  A wonderful person makes you trust her and be ...\n",
              "2   O γιατρός είναι εξαιρετικος, γνωστής του αντικ...  ...  The doctor is excellent, familiar with the sub...\n",
              "3   Μου ενέπνευσε εμπιστοσύνη και είπα πράγματα πο...  ...  It gave me confidence and I said things I have...\n",
              "4   Πολύ καλός γιατρός  Τον συστήνω ανεπιφύλακτα. ...  ...  Very good doctor I highly recommend him. Absol...\n",
              "5   To ραντεβού αφορούσε θεραπεία με λέιζερ. Η για...  ...  The appointment was about laser treatment. The...\n",
              "6                  εξαιρετικη και πολυ σχολαστικη..!!  ...                excellent and very meticulous .. !!\n",
              "7   Ανθρώπινη συμπεριφορά, με εξέτασε διεξοδικά, έ...  ...  Human behavior, he examined me thoroughly, I w...\n",
              "8         Πάρα πολύ καλός. Τον συστήνω ανεπιφύλακτα!   ...                  Very good. I highly recommend it!\n",
              "9                  Ένα μεγάλο ευχαριστώ τον κ. Ηλία!   ...                      A big thank you to Mr. Elias!\n",
              "10  Αξιόλογος γιατρός. Ευγενικός και πολύ καλός με...  ...                                                NaN\n",
              "11     Εξαιρετική ιατρος, με κατανόηση και εμπειρία.   ...                                                NaN\n",
              "12            Άψογη εξυπηρέτηση κ φιλικό περιβάλλον.   ...                                                NaN\n",
              "13  Ασχολήθηκε αρκετά με το ιστορικό μου. Πολύ φιλ...  ...                                                NaN\n",
              "14  Επεξηγηματικός, μου έδωσε και σαφείς οδηγίες γ...  ...                                                NaN\n",
              "\n",
              "[15 rows x 5 columns]"
            ]
          },
          "metadata": {
            "tags": []
          },
          "execution_count": 31
        }
      ]
    },
    {
      "cell_type": "code",
      "metadata": {
        "id": "Y74vyKGiwUrA",
        "outputId": "605b5d50-fac6-416e-b76d-002ba48878e8",
        "colab": {
          "base_uri": "https://localhost:8080/",
          "height": 35
        }
      },
      "source": [
        "revs.review[0]"
      ],
      "execution_count": null,
      "outputs": [
        {
          "output_type": "execute_result",
          "data": {
            "application/vnd.google.colaboratory.intrinsic+json": {
              "type": "string"
            },
            "text/plain": [
              "'Καθησυχαστικη, έμπειρη και αποτέλεσμάτικη '"
            ]
          },
          "metadata": {
            "tags": []
          },
          "execution_count": 14
        }
      ]
    },
    {
      "cell_type": "markdown",
      "metadata": {
        "id": "Ijp4239iFVxY"
      },
      "source": [
        "### google transl"
      ]
    },
    {
      "cell_type": "code",
      "metadata": {
        "id": "o_KjuUuJGAxu"
      },
      "source": [
        "# make a deep copy of the data frame\n",
        "df_en = revs.copy()"
      ],
      "execution_count": null,
      "outputs": []
    },
    {
      "cell_type": "code",
      "metadata": {
        "id": "n8zQm337GDYu",
        "outputId": "812990bf-53ee-48d8-a6b2-e3cf6d0cb88f",
        "colab": {
          "base_uri": "https://localhost:8080/",
          "height": 419
        }
      },
      "source": [
        "df_en"
      ],
      "execution_count": null,
      "outputs": [
        {
          "output_type": "execute_result",
          "data": {
            "text/html": [
              "<div>\n",
              "<style scoped>\n",
              "    .dataframe tbody tr th:only-of-type {\n",
              "        vertical-align: middle;\n",
              "    }\n",
              "\n",
              "    .dataframe tbody tr th {\n",
              "        vertical-align: top;\n",
              "    }\n",
              "\n",
              "    .dataframe thead th {\n",
              "        text-align: right;\n",
              "    }\n",
              "</style>\n",
              "<table border=\"1\" class=\"dataframe\">\n",
              "  <thead>\n",
              "    <tr style=\"text-align: right;\">\n",
              "      <th></th>\n",
              "      <th>review</th>\n",
              "      <th>approved</th>\n",
              "      <th>TotalScore</th>\n",
              "      <th>PunctualityScore</th>\n",
              "    </tr>\n",
              "  </thead>\n",
              "  <tbody>\n",
              "    <tr>\n",
              "      <th>0</th>\n",
              "      <td>Καθησυχαστικη, έμπειρη και αποτέλεσμάτικη</td>\n",
              "      <td>1</td>\n",
              "      <td>10.0</td>\n",
              "      <td>10.0</td>\n",
              "    </tr>\n",
              "    <tr>\n",
              "      <th>1</th>\n",
              "      <td>Υπέροχος άνθρωπος σε κάνει να την εμπιστευτείς...</td>\n",
              "      <td>1</td>\n",
              "      <td>10.0</td>\n",
              "      <td>10.0</td>\n",
              "    </tr>\n",
              "    <tr>\n",
              "      <th>2</th>\n",
              "      <td>O γιατρός είναι εξαιρετικος, γνωστής του αντικ...</td>\n",
              "      <td>1</td>\n",
              "      <td>10.0</td>\n",
              "      <td>10.0</td>\n",
              "    </tr>\n",
              "    <tr>\n",
              "      <th>3</th>\n",
              "      <td>Μου ενέπνευσε εμπιστοσύνη και είπα πράγματα πο...</td>\n",
              "      <td>1</td>\n",
              "      <td>10.0</td>\n",
              "      <td>10.0</td>\n",
              "    </tr>\n",
              "    <tr>\n",
              "      <th>4</th>\n",
              "      <td>Πολύ καλός γιατρός  Τον συστήνω ανεπιφύλακτα. ...</td>\n",
              "      <td>1</td>\n",
              "      <td>10.0</td>\n",
              "      <td>10.0</td>\n",
              "    </tr>\n",
              "    <tr>\n",
              "      <th>...</th>\n",
              "      <td>...</td>\n",
              "      <td>...</td>\n",
              "      <td>...</td>\n",
              "      <td>...</td>\n",
              "    </tr>\n",
              "    <tr>\n",
              "      <th>127303</th>\n",
              "      <td>Τον συστηνω για οσους τον εχουν αναγκη.</td>\n",
              "      <td>1</td>\n",
              "      <td>10.0</td>\n",
              "      <td>10.0</td>\n",
              "    </tr>\n",
              "    <tr>\n",
              "      <th>127304</th>\n",
              "      <td>πηγα στο ραντεβου αλλα δεν ηταν ενημερωμενοι γ...</td>\n",
              "      <td>0</td>\n",
              "      <td>0.0</td>\n",
              "      <td>2.0</td>\n",
              "    </tr>\n",
              "    <tr>\n",
              "      <th>127305</th>\n",
              "      <td>Ειμαι πολύ ικανοποιημένη με τον εν λογω γιατρο...</td>\n",
              "      <td>1</td>\n",
              "      <td>10.0</td>\n",
              "      <td>10.0</td>\n",
              "    </tr>\n",
              "    <tr>\n",
              "      <th>127306</th>\n",
              "      <td>άψογη συμπεριφορά και υψηλός επαγγελματισμός</td>\n",
              "      <td>1</td>\n",
              "      <td>10.0</td>\n",
              "      <td>10.0</td>\n",
              "    </tr>\n",
              "    <tr>\n",
              "      <th>127307</th>\n",
              "      <td>Ευγενής, προσηνής, κατατοπιστικός.</td>\n",
              "      <td>0</td>\n",
              "      <td>10.0</td>\n",
              "      <td>10.0</td>\n",
              "    </tr>\n",
              "  </tbody>\n",
              "</table>\n",
              "<p>127308 rows × 4 columns</p>\n",
              "</div>"
            ],
            "text/plain": [
              "                                                   review  ...  PunctualityScore\n",
              "0              Καθησυχαστικη, έμπειρη και αποτέλεσμάτικη   ...              10.0\n",
              "1       Υπέροχος άνθρωπος σε κάνει να την εμπιστευτείς...  ...              10.0\n",
              "2       O γιατρός είναι εξαιρετικος, γνωστής του αντικ...  ...              10.0\n",
              "3       Μου ενέπνευσε εμπιστοσύνη και είπα πράγματα πο...  ...              10.0\n",
              "4       Πολύ καλός γιατρός  Τον συστήνω ανεπιφύλακτα. ...  ...              10.0\n",
              "...                                                   ...  ...               ...\n",
              "127303            Τον συστηνω για οσους τον εχουν αναγκη.  ...              10.0\n",
              "127304  πηγα στο ραντεβου αλλα δεν ηταν ενημερωμενοι γ...  ...               2.0\n",
              "127305  Ειμαι πολύ ικανοποιημένη με τον εν λογω γιατρο...  ...              10.0\n",
              "127306       άψογη συμπεριφορά και υψηλός επαγγελματισμός  ...              10.0\n",
              "127307                 Ευγενής, προσηνής, κατατοπιστικός.  ...              10.0\n",
              "\n",
              "[127308 rows x 4 columns]"
            ]
          },
          "metadata": {
            "tags": []
          },
          "execution_count": 18
        }
      ]
    },
    {
      "cell_type": "code",
      "metadata": {
        "id": "sZSjSoq_vjnV",
        "outputId": "ef6a7210-f06e-4413-c68b-f76f69391e02",
        "colab": {
          "base_uri": "https://localhost:8080/",
          "height": 54
        }
      },
      "source": [
        "translations = {}\n",
        "translator = Translator()\n",
        "\n",
        "unique_elements = df_en.review.unique()\n",
        "for element in unique_elements[:100]:\n",
        "    # add translation to the dictionary\n",
        "    translations[element] = translator.translate(element).text\n",
        "    \n",
        "print(translations)"
      ],
      "execution_count": null,
      "outputs": [
        {
          "output_type": "stream",
          "text": [
            "{'Καθησυχαστικη, έμπειρη και αποτέλεσμάτικη ': 'Reassuring, experienced and effective', 'Υπέροχος άνθρωπος σε κάνει να την εμπιστευτείς και να είσαι άνετα μαζί τις ': 'A wonderful person makes you trust her and be comfortable with them', 'O γιατρός είναι εξαιρετικος, γνωστής του αντικειμένου και επεξηγηματικός': 'The doctor is excellent, familiar with the subject and explanatory', 'Μου ενέπνευσε εμπιστοσύνη και είπα πράγματα που δεν έχω ξαναπεί πότε σε κανέναν. Αισθάνθηκα σιγουριά και ασφάλεια.': 'It gave me confidence and I said things I have never said to anyone before. I felt safe and secure.', 'Πολύ καλός γιατρός  Τον συστήνω ανεπιφύλακτα.  Απόλυτα καταρτισμένος. ': 'Very good doctor I highly recommend him. Absolutely trained.', 'To ραντεβού αφορούσε θεραπεία με λέιζερ. Η γιατρός ήταν συνεπέστατη και πολύ ευγενική. Ο χώρος επίσης πολύ καθαρός. Μου έδωσε την εντύπωση ότι γνωρίζει πολύ καλά το αντικείμενο της και ότι αγαπά την δουλειά της, ήταν κατατοπιστική και πολύ επεξηγηματική. Συζητήσαμε και για άλλα θέματα πέραν του λέιζερ και μου έδωσε αρκετές συμβουλές. Έμεινα ευχαριστημένη από το ραντεβού και σκέφτομαι να την επισκεφτώ πάλι σύντομα για άλλη θεραπεία.': 'The appointment was about laser treatment. The doctor was very consistent and very kind. The place is also very clean. She gave me the impression that she knows her subject very well and that she loves her job, it was informative and very explanatory. We discussed other topics besides the laser and he gave me several tips. I was happy with the appointment and I am thinking of visiting her again soon for another treatment.', 'εξαιρετικη και πολυ σχολαστικη..!!': 'excellent and very meticulous .. !!', 'Ανθρώπινη συμπεριφορά, με εξέτασε διεξοδικά, έμεινα ευχαριστημένη και θα την ξαναπροτιμήσω.': 'Human behavior, he examined me thoroughly, I was pleased and I will prefer it again.', 'Πάρα πολύ καλός. Τον συστήνω ανεπιφύλακτα! ': 'Very good. I highly recommend it!', 'Ένα μεγάλο ευχαριστώ τον κ. Ηλία! ': 'A big thank you to Mr. Elias!', 'Αξιόλογος γιατρός. Ευγενικός και πολύ καλός με τα παιδιά ': 'Remarkable doctor. Polite and very kind to children', 'Εξαιρετική ιατρος, με κατανόηση και εμπειρία. ': 'Excellent doctor, with understanding and experience.', 'Άψογη εξυπηρέτηση κ φιλικό περιβάλλον. ': 'Flawless service and friendly environment.', 'Ασχολήθηκε αρκετά με το ιστορικό μου. Πολύ φιλική και προσεκτική.': 'He dealt a lot with my history. Very friendly and attentive.', 'Επεξηγηματικός, μου έδωσε και σαφείς οδηγίες για τη συνέχεια. ': 'Explanatory, he also gave me clear instructions for the sequel.', 'Επισκέφτηκα τη γιατρό διστακτικά έχοντας ταλαιπωρηθεί αρκετό καιρό με το πρόβλημα υγείας μου. Η αντιμετώπιση της ήταν άμεση και από ότι φάνηκε στην πορεία , πολύ αποτελεσματική. Υπομονετική και με σεβασμό στον ασθενή τη συστήνω ανεπιφύλακτα. Χαίρομαι ιδιαίτερα που εμπιστεύτηκα το site σας. ': 'I visited the doctor hesitantly having suffered for some time with my health problem. The treatment was immediate and from what it seemed along the way, very effective. Patiently and with respect to the patient, I highly recommend it. I am very glad that I trusted your site.', 'Μου εξηγήσε απλά κ κατανοητά το προβλημα που αντιμετωπίζω κ τον τρόπο αντιμετώπισης. Απόλυτα συνεπής τον συστήνω!  ': 'He explained to me simply and understandably the problem I am facing and how to deal with it. I recommend it completely consistently!', 'Μου έβγαλε από την αρχή ένα άτομο εμπιστοσύνης, μου είπε τα βήματα που θα ακολουθήσουμε. Έχει τύχει να ενοχλήσω εκτός γραφείου, τηλεφωνικώς και είχα άμεση ανταπόκριση. ': 'A person of trust took me out from the beginning, he told me the steps we will follow. I have had the inconvenience of being out of the office, on the phone and I have had an immediate response.', 'Συνεπής, καταρτισμένος, ευγενικός.': 'Consistent, trained, polite.', 'Δε θα μπορούσα να είμαι πιο ευχαριστημένη, τιμές προσιτές για όλο τον κόσμο και η γιατρός είναι εξαιρετική!': 'I could not be happier, affordable prices for everyone and the doctor is great!', 'Εξαιρετικος επιστημονας κι ανθρωπος λεπτολογος αναλυτικος με κατανοηση κα αισθηση του χιουμορ.👍👍👍👍👍': 'Excellent scientist and detailed man with understanding and sense of humor.', 'Έμεινα πολύ ευχαριστημένη από τον γιατρό, είναι γνώστης της αιματολογίας κύησης, ένιωσα ασφάλεια ότι θα αντιμετωπιστεί ο,τι πρόβλημα τυχόν προκύψει.': 'I was very happy with the doctor, he is knowledgeable about gestational hematology, I felt safe that any problem would arise.', 'Τέλειο γιατρός, τέλειο ιατρείο. Το τέλειο. ': 'Perfect doctor, perfect doctor. The perfect.', 'Εξαίρετος άνθρωπος ...... θα τον πρότεινα ανεπιφύλαχτα σε συγγενείς και φίλους μου.....': 'Great man ...... I would highly recommend him to my relatives and friends .....', 'Εξαιρετικός γιατρός. Πολύ σχολαστική εξέταση αλλά και πολύ ανθρώπινη προσέγγιση προς τον ασθενή!!': 'Excellent doctor. Very meticulous examination but also a very human approach to the patient !!', 'Αξιόλογος και καρτατισμενος ιατρος. Σου εμπνέει εμπιστοσύνη.τον συνιστώ': 'Remarkable and certified doctor. It inspires confidence in you. I recommend it', 'ΣΥΝΕΠΗΣ, ΓΝΩΣΤΗΣ ΤΟΥ ΑΝΤΙΚΕΙΜΕΝΟΥ': 'CONSISTENT, KNOWLEDGE OF THE OBJECT', 'Άριστος επιστήμονας, αλλά και ευγενικό προσωπικό και προσεγμένος χώρος. Ο γιατρός δείχνει ενδιαφέρον και είναι φιλικός και πρόθυμος να λύσει κάθε απορία που μπορεί να προκύψει σε έναν ασθενή. Θα τον συνιστούσα ανεπιφύλακτα! ': 'Excellent scientist, but also polite staff and well-kept space. The doctor shows interest and is friendly and willing to answer any questions that may arise in a patient. I would highly recommend him!', 'Ο ιατρός ήταν εξαιρετικός.Ασχολήθηκε με το πρόβλημα μου,μου απάντησε σε όλες τις σχετικές ερωτήσεις που του έκανα και μου έδωσε σωστές συμβουλές.': 'The doctor was excellent. He dealt with my problem, answered all the relevant questions I asked him and gave me the right advice.', \"Πρώτη φορά επισκέφθηκα το γιατρό.Η επιλογή του έγινε καθαρά από ένστικτο χωρίς καμία σύσταση από κανέναν.'Έμεινα πολύ ευχαριστημένη από το περιβάλλον αλλά πιο πολύ από την άψογη συμπεριφορά του και τις γνώσεις του.\": 'I visited the doctor for the first time. His choice was made purely by instinct without any recommendation from anyone. I was very happy with the environment but more with his impeccable behavior and knowledge.', 'Πολυ καλος γιατρος και. ανθρωπος': 'Very good doctor and. person', 'Εξαιρετική γιατρός. Πρόσχαρη και ευγενική. Πολύ προσεκτική εξέταση και συζήτηση επί της ουσίας. Έμεινα πολύ ευχαριστημένη.': 'Excellent doctor. Cheerful and kind. Very careful examination and discussion on the substance. I was very happy.', 'Με μία μόνο λέξη, εκπληκτικός!': 'In a word, amazing!', ' very professional and helpful.': 'very professional and helpful.', 'Συμπαθητική , προσιτή ,οικία και εμπνέει εμπιστοσύνη!Δείχνει πολύ ενδιαφέρον για τον ασθενή!Πολύ καλή γιατρός!': 'Nice, affordable, home and inspires confidence! Shows a lot of interest for the patient! Very good doctor!', 'Όλα καλά......................': 'All good......................', 'Ήταν επιστημονικά καταρτισμένος, αρκετά αναλυτικός.Ασχολήθηκε με το πρόβλημά μου και με αρκετές ερωτήσεις προσπάθησε να καλύψει κάθε πιθανή αιτία.': 'He was scientifically trained, quite detailed. He dealt with my problem and with several questions tried to cover every possible cause.', 'Ο γιατρός ήταν εξαιρετικός ,μου ενέπνευσε εμπιστοσύνη και μου εδειξε με τον τρόπο του πως θα λυθεί το οποίο πρόβλημα έχει ο μικρός μου.': 'The doctor was excellent, he inspired me with confidence and he showed me in his own way how to solve which problem my little one has.', 'Από τος πιο αξιόλογες και κατιρτισμένες γιατρούς που έχω επισκεφθεί! Λεπτομερής εξέταση. Άμεση στην επικοινωνία. Μου εξήγησε και απάντησε σε όλες τις ερωτήσεις μου με σαφήνεια. Φιλική και οργανωμένο και καθαρό γραφείο. Την συστήνω ανεπιφύλακτα.': 'One of the most remarkable and trained doctors I have visited! Detailed examination. Direct communication. He explained and answered all my questions clearly. Friendly and organized and clean office. I highly recommend it.', 'Συμπαθεστατη, καταρτισμενη, μιλησε αναλυτικα και με το παιδι, μας ενεπνευσε εμπιστοσυνη.': 'Very nice, trained, spoke in detail and with the child, inspired us with confidence.', 'μου ενέπνευσε εμπιστοσύνη. ευγενικός και καταρτισμενος': 'inspired me with confidence. polite and trained', 'Ο γιατρος ειναι καταρτισμενος και ασχοληθηκε αρκετα με το προβλημα μου.': 'The doctor is trained and has dealt with my problem a lot.', 'Η ιατρός είναι εξαιρετική. Πολύ ευγενική! Αφιέρωσε αρκετό χρόνο στο ραντεβού. Έμεινα πολύ ευχαριστημένη!': 'The doctor is excellent. Very kind! Spend a lot of time on the date. I was very happy!', 'Πολύ καλή γιατρός, σχολαστική, φιλική και χαμογελαστή. Θα την πρότεινα ανεπιφύλακτα. ': 'Very good doctor, meticulous, friendly and smiling. I would highly recommend it.', 'Πολυ περιεκτικές και συνεκτικές συμβουλές.': 'Very comprehensive and coherent tips.', 'Πολύ καλή εμπειρια. Ο γιατρός έκανε την διάγνωση και μετά με ανέλαβε ο συνεργάτης του ο οποιος ήταν πολύ καλός ': 'Very good experience. The doctor made the diagnosis and then I was taken over by his colleague who was very good', 'Επισκέφθηκα τη γιατρό για έναν γενικό έλεγχο και είχα μια άψογη εμπειρία. Ευχαριστώ πολύ!': 'I visited the doctor for a general check-up and had a flawless experience. Thank you very much!', 'Σου εμπνέει άμεσα εμπιστοσύνη και οικειότητα, πολύ ευγενική και σαφώς σωστά καταρτισμένη, στην ώρα του το ραντεβού.': 'It immediately inspires you with trust and intimacy, very kind and clearly properly trained, on time for the appointment.', 'He was very experienced and looked after my case thoroughly!': 'He was very experienced and looked after my case thoroughly!', 'Πολύ καλός γιατρός, με βοήθησε πολύ και μου έδωσε αρκετές οδηγίες. ': 'Very good doctor, he helped me a lot and gave me several instructions.', 'Πολύ κατατοπιστικός και ευγενής ': 'Very informative and gentle', 'Κερδίζει την εμπιστοσύνη του πελάτη αμέσως. Φαίνεται να έχει αρκετή εμπειρία ως γιατρός και δη χειρούργος οδοντιατρος. Είναι ευγενικός και δεν δείχνει, ακόμα και σε ένα απλό καθαρισμό, να το κάνει να φαίνεται σαν αγγαρεία. Ο χρόνος θα δείξει κατά πόσο θα έχει και την συνέπεια στα παραπάνω.': 'Gains customer trust immediately. He seems to have a lot of experience as a doctor and a dental surgeon. He is polite and does not show, even in a simple cleaning, to make it look like chores. Time will tell whether it will be consistent with the above.', 'Εξαιρετικός. Το ραντεβού στην ώρα του. Το ιατρείο πεντακάθαρο.': \"Exceptional. The appointment on time. The doctor's office is spotless.\", 'Εμπνέει εμπιστοσύνη και σε προσέχει πολύ! ': 'It inspires confidence and pays close attention to you!', 'Πολύ καλός γιατρός μου εξήγησε απλά και κατανοητά ότι αφορούσε την περίπτωση μου..': 'A very good doctor explained to me simply and understandably that it concerned my case ..', 'Συνεπής,έμπειρος και ανθρώπινος...!!!': 'Consistent, experienced and human ... !!!', 'Εξαιρετικός γιατρός. Ασχολήθηκε σχολαστικά με την περίπτωσή μου. Τον συστήνω ανεπιφύλακτα.': 'Excellent doctor. He dealt meticulously with my case. I highly recommend it.', 'Εμεινα πολυ ευχαριστημενη, πολυ ευγενικος και καλος γιατρος. Απο τους ελαχιστους στην αθηνα που δινει ιατρικες βεβαιωσεις, και μαλιστα σε λογικη τιμη και με διεξοδικες εξετασεις. ': 'I was very happy, very kind and a good doctor. One of the few in Athens that gives medical certificates, and in fact at a reasonable price and with thorough examinations.', 'Εξαιρετικός οδοντίατρος.  Τον συνιστώ ανεπιφύλακτα': 'Excellent dentist. I highly recommend it', 'Ο γιατρός ήταν άψογος': 'The doctor was impeccable', 'Εξαιρετική γιατρός!Ασχολήθηκε μαζί μου σχολαστικά, απάντησε σε κάθε μου απορία!παρα πολυ ευγενική και έμπειρη!σίγουρα κέρδισε την εμπιστοσύνη μου, την συνιστώ ανεπιφύλακτα!': 'Excellent doctor! He treated me meticulously, answered my every question! Very kind and experienced! He definitely won my trust, I highly recommend it!', 'Αψογη ισορροπια μεταξυ επαγγελματισμου και οικιοτητας!': 'Flawless balance between professionalism and home!', 'Εξαιρετικός γιατρός, κατατοπιστικος και φιλικός με τον ασθενή. ': 'Excellent doctor, informative and patient friendly.', \"Καθ'όλα εξαιρετικός και συνεπής.\": 'Excellent and consistent in everything.', 'Έμεινα ευχαριστημένη από την επίσκεψη και την εξέταση': 'I was happy with the visit and the examination', 'Πολύ καλή προσέγγιση, επεξηγηματικός και με μεγάλη συνέπεια στο ραντεβού. Ευγενική γραμματεία.': 'Very good approach, explanatory and with great consistency in the appointment. Courtesy secretariat.', 'Εξαιρετικός γιατρός, ευγενέστατος και ιδιαίτερα σχολαστικός με όλα τα θέματα που χρειάζονταν διερεύνηση.': 'An excellent doctor, very gentle and very meticulous with all the issues that needed to be investigated.', 'Εξαιρετικός.. Ασχολείται σε βάθος... Εξηγεί τα πάντα με λεπτομέρεια..': 'Excellent .. Deep down ... Explains everything in detail ..', 'Εξαιρετική ανάλυση της πάθησής μου. Πολύ ευγενικός και αναλυτικός.': 'Excellent analysis of my condition. Very polite and detailed.', 'Εξέταση αναλυτική, πολύ φιλικός με τα παιδιά.. Καταρτισμένος στο αντικείμενο του. Εύκολη πρόσβαση στο ιατρείο.': \"Detailed examination, very child friendly .. Trained in its subject. Easy access to the doctor's office.\", 'Εξαιρετική στην δουλειά της και πολύ φιλική σαν άνθρωπος! ': 'Excellent at her job and very friendly as a person!', 'Σχολαστική ,υπομονετικοί ,επεξηγηματική και συνεπής.': 'Meticulous, patient, explanatory and consistent.', 'Τον συστήνω ανεπιφυλακτα.δεν πονεσα.δεν καταλαβα τιποτα.ηταν αψογος': 'I recommend him unreservedly. I was not in pain. I did not understand anything. He was impeccable.', 'ΑΨΟΓΗ ΕΠΙΣΤ. ΚΑΤΑΡΤΙΣΗ ΑΠΟΛΥΤΑ ΚΑΤΑΝΟΗΤΟΣ': 'EXCELLENT SCIENCE. TRAINING ABSOLUTELY UNDERSTANDABLE', 'Εξαιρετική γιατρός, ευγενική και χαμογελαστή. Ωραίος και περιποιημενος χώρος. Τη συστήνω ανεπιφύλακτα!': 'Excellent doctor, polite and smiling. Nice and well-kept place. I highly recommend it!', 'Ασχολήθηκε πολύ με την περίπτωση μου!! Άκουσε υπομονετικά όλες τις απορίες και τους προβληματισμούς μου. Φάνηκε να ξέρει πολύ καλά το αντικείμενο!!! Την συστήνω ανεπιφύλακτα!!!': 'He dealt a lot with my case !! He patiently listened to all my questions and concerns. He seemed to know the subject very well !!! I highly recommend it !!!', 'Ο γιατρός ήταν εξαιρετικός, όπως επίσης και ο χώρος του ιατρείου. Όλα ήταν καθαρά και τα μηχανήματα πολύ σύγχρονα. Έμεινα πολύ ευχαριστημένη γιατί εκτός από τις γνώσεις του πάνω στο αντικείμενο είχε πολλή υπομονή και την απαραίτητη ευγένεια.  Φυσικά τον προτείνω. ': \"The doctor was excellent, as was the doctor's office. Everything was clean and the machines very modern. I was very happy because in addition to his knowledge of the subject he had a lot of patience and the necessary courtesy. Of course I recommend him.\", 'Η γιατρός προτείνεται ανεπιφύλακτα.': 'The doctor strongly recommends it.', 'Εξαιρετικός γιατρός.Συνεπής στο ραντεβού.': 'Excellent doctor. Consistent in appointments.', 'Δευτερη φορά που επισκέπτομαι τον γιατρό, οί εντυπώσεις μου είναι ακόμη καλύτερες. Ειλικρινά δεν έχω συναντήσει από γιατρό τέτοια αντιμετώπιση, συνέπεια σε ό,τι κι αν πεί, ο,τι κι αν κάνει. Συγχαρητήρια.': 'The second time I visit the doctor, my impressions are even better. I honestly have not encountered such a treatment from a doctor, consistency in whatever he says, whatever he does. Congratulations.', 'Υπέροχος γιατρός, αψογος σε όλα!': 'Wonderful doctor, flawless in everything!', 'Οπως πάντα ευγενής και εξυπηρετικότατη': 'As always gentle and very helpful', 'Με κέρδισε εκ πρώτης όψεως με την οικειότητα που επέδειξε και με το ενδιαφέρον': 'He won me over at first sight with the intimacy he showed and the interest', 'εξαιρετικος γιατρος ασχολειται με τον ασθενη διεξοδικα και δινει λυσεις αποτελεσματικες...τον σθστηνω διχως επιφυλαξεις': 'An excellent doctor deals with the patient thoroughly and gives effective solutions ... I recommend him without reservations', 'Ο κύριος Δηλανάς θα ακούσει με προσοχή ότι έχεις να του πεις σχετικά με το πρόβλημά σου και θα απαντήσει σε όποια απορία έχεις. Σου εμπνέει εμπιστοσύνη, θα ζητήσει εξετάσεις ώστε η διάγνωσή του να είναι τεκμηριωμένη και η θεραπεία που θα ακολουθήσει να σε βοηθήσει. Τον έχω συστήσει σε φίλους. ': 'Mr. Dilanas will listen carefully to what you have to say about your problem and will answer any question you may have. He inspires confidence in you, he will ask for examinations so that his diagnosis is substantiated and the treatment that will follow will help you. I have recommended it to friends.', 'Εξαιρετικός, ασχολήθηκε ενδελεχώς με το θέμα μου, συστήνεται ανεπιφύλακτα.': 'Excellent, dealt thoroughly with my subject, highly recommended.', 'Μεγάλη εμπιστοσύνη. Έμεινα πολύ ευχαριστημένη από την επίσκεψη. Ήταν πολύ κατατοπιστική όσον αφορά στην πάθηση μου και την θεραπεία.  ': 'Great confidence. I was very happy with the visit. It was very informative in terms of my condition and treatment.', 'Συνεπής,καταρτισμένος,φιλικός. Αν χρειαστεί πάλι σε αυτόν θα απευθυνθώ.': 'Consistent, trained, friendly. If necessary, I will contact him again.', 'Ο Π. Αλεξανδρόπουλος είναι πολύ προσιτός, ανθρώπινος και ευγενής. Επίσης εξαιρετικά καταρτισμένος και επεξηγηματικός.': 'P. Alexandropoulos is very approachable, humane and noble. Also extremely trained and explanatory.', 'Άκουσε το πρόβλημά μου, μου έδωσε λύση και το πιο σημαντικό ότι στην επανεξέταση που πήγα θυμόταν τι του είχα πει την πρώτη φορά. Ένιωσα άνετα και πολύ οικία μαζί του.': 'He listened to my problem, he gave me a solution and most importantly that in the review I went he remembered what I had told him the first time. I felt comfortable and very at home with him.', 'Έδειξε ενδιαφέρον για την περίπτωσή μου. Την συστήνω ανεπιφύλακτα.': 'He showed interest in my case. I highly recommend it.', 'Συνεπής στο ραντεβού της, ασχολήθηκε σε βάθος με τη περιπτωσή μου, μου εξήγησε τα πάντα. Φιλική και πολύ αναλυτική.': 'Consistent in her appointment, she dealt in depth with my case, she explained everything to me. Friendly and very detailed.', 'Πολύ καλή και ευγενική, σίγουρα θα την επισκεφτούμε ξανά': 'Very good and kind, we will definitely visit her again', 'Πάρα πολύ προσεχτική, ευγενική, έδωσε μεγάλη σημασία στη λεπτομέρεια': 'Very careful, polite, paid great attention to detail', 'Έμεινα πολύ ευχαριστημένος από την συγκεκριμένη γιατρό, με εξέτασε διεξοδικά και μου εξήγησε πολύ αναλυτικά το τι έχω. Βοηθήθηκα πολύ!': 'I was very happy with this particular doctor, he examined me thoroughly and explained to me in great detail what I have. I helped a lot!', 'Εξαιρετική γιατρός, σου εμπνέει εμπιστοσύνη και ηρεμία. Τη συνιστώ ανεπιφύλακτα. ': 'Excellent doctor, inspires confidence and calm. I highly recommend it.', 'Πολύ καλή, πολύ σοβαρή, προσεχτική, επαγγελματίας': 'Very good, very serious, careful, professional', 'Πολυ καλός γιατρός ο οποίος δείχνει εξαιρετικό ενδιαφέρον στον ασθενή του. Επεξηγηματικός και συμβουλευτικός ως προς το πρόβλημα που αντιμετώπιζα. ': 'A very good doctor who shows great interest in his patient. Explanatory and advisory on the problem I was facing.', 'Πολύ καλός ιατρός. Τον συστήνω σε όλους.  ': 'Very good doctor. I recommend it to everyone.', 'Ασχολείται με το ιστορικό του ασθενή και αυτό είναι βασικό. ': \"It deals with the patient's history and that is key.\"}\n"
          ],
          "name": "stdout"
        }
      ]
    },
    {
      "cell_type": "code",
      "metadata": {
        "id": "gvsYPhDIHcfz",
        "outputId": "67261d99-274b-4363-eb52-f4dbbbf70a80",
        "colab": {
          "base_uri": "https://localhost:8080/",
          "height": 34
        }
      },
      "source": [
        "len(unique_elements)"
      ],
      "execution_count": null,
      "outputs": [
        {
          "output_type": "execute_result",
          "data": {
            "text/plain": [
              "111307"
            ]
          },
          "metadata": {
            "tags": []
          },
          "execution_count": 27
        }
      ]
    },
    {
      "cell_type": "code",
      "metadata": {
        "id": "tIF6pNkoIExV",
        "outputId": "c3c6bfcc-41f3-4492-d2ab-d2c33ad53968",
        "colab": {
          "base_uri": "https://localhost:8080/",
          "height": 54
        }
      },
      "source": [
        "translations.values()"
      ],
      "execution_count": null,
      "outputs": [
        {
          "output_type": "execute_result",
          "data": {
            "text/plain": [
              "dict_values(['Reassuring, experienced and effective', 'A wonderful person makes you trust her and be comfortable with them', 'The doctor is excellent, familiar with the subject and explanatory', 'It gave me confidence and I said things I have never said to anyone before. I felt safe and secure.', 'Very good doctor I highly recommend him. Absolutely trained.', 'The appointment was about laser treatment. The doctor was very consistent and very kind. The place is also very clean. She gave me the impression that she knows her subject very well and that she loves her job, it was informative and very explanatory. We discussed other topics besides the laser and he gave me several tips. I was happy with the appointment and I am thinking of visiting her again soon for another treatment.', 'excellent and very meticulous .. !!', 'Human behavior, he examined me thoroughly, I was pleased and I will prefer it again.', 'Very good. I highly recommend it!', 'A big thank you to Mr. Elias!', 'Remarkable doctor. Polite and very kind to children', 'Excellent doctor, with understanding and experience.', 'Flawless service and friendly environment.', 'He dealt a lot with my history. Very friendly and attentive.', 'Explanatory, he also gave me clear instructions for the sequel.', 'I visited the doctor hesitantly having suffered for some time with my health problem. The treatment was immediate and from what it seemed along the way, very effective. Patiently and with respect to the patient, I highly recommend it. I am very glad that I trusted your site.', 'He explained to me simply and understandably the problem I am facing and how to deal with it. I recommend it completely consistently!', 'A person of trust took me out from the beginning, he told me the steps we will follow. I have had the inconvenience of being out of the office, on the phone and I have had an immediate response.', 'Consistent, trained, polite.', 'I could not be happier, affordable prices for everyone and the doctor is great!', 'Excellent scientist and detailed man with understanding and sense of humor.', 'I was very happy with the doctor, he is knowledgeable about gestational hematology, I felt safe that any problem would arise.', 'Perfect doctor, perfect doctor. The perfect.', 'Great man ...... I would highly recommend him to my relatives and friends .....', 'Excellent doctor. Very meticulous examination but also a very human approach to the patient !!', 'Remarkable and certified doctor. It inspires confidence in you. I recommend it', 'CONSISTENT, KNOWLEDGE OF THE OBJECT', 'Excellent scientist, but also polite staff and well-kept space. The doctor shows interest and is friendly and willing to answer any questions that may arise in a patient. I would highly recommend him!', 'The doctor was excellent. He dealt with my problem, answered all the relevant questions I asked him and gave me the right advice.', 'I visited the doctor for the first time. His choice was made purely by instinct without any recommendation from anyone. I was very happy with the environment but more with his impeccable behavior and knowledge.', 'Very good doctor and. person', 'Excellent doctor. Cheerful and kind. Very careful examination and discussion on the substance. I was very happy.', 'In a word, amazing!', 'very professional and helpful.', 'Nice, affordable, home and inspires confidence! Shows a lot of interest for the patient! Very good doctor!', 'All good......................', 'He was scientifically trained, quite detailed. He dealt with my problem and with several questions tried to cover every possible cause.', 'The doctor was excellent, he inspired me with confidence and he showed me in his own way how to solve which problem my little one has.', 'One of the most remarkable and trained doctors I have visited! Detailed examination. Direct communication. He explained and answered all my questions clearly. Friendly and organized and clean office. I highly recommend it.', 'Very nice, trained, spoke in detail and with the child, inspired us with confidence.', 'inspired me with confidence. polite and trained', 'The doctor is trained and has dealt with my problem a lot.', 'The doctor is excellent. Very kind! Spend a lot of time on the date. I was very happy!', 'Very good doctor, meticulous, friendly and smiling. I would highly recommend it.', 'Very comprehensive and coherent tips.', 'Very good experience. The doctor made the diagnosis and then I was taken over by his colleague who was very good', 'I visited the doctor for a general check-up and had a flawless experience. Thank you very much!', 'It immediately inspires you with trust and intimacy, very kind and clearly properly trained, on time for the appointment.', 'He was very experienced and looked after my case thoroughly!', 'Very good doctor, he helped me a lot and gave me several instructions.', 'Very informative and gentle', 'Gains customer trust immediately. He seems to have a lot of experience as a doctor and a dental surgeon. He is polite and does not show, even in a simple cleaning, to make it look like chores. Time will tell whether it will be consistent with the above.', \"Exceptional. The appointment on time. The doctor's office is spotless.\", 'It inspires confidence and pays close attention to you!', 'A very good doctor explained to me simply and understandably that it concerned my case ..', 'Consistent, experienced and human ... !!!', 'Excellent doctor. He dealt meticulously with my case. I highly recommend it.', 'I was very happy, very kind and a good doctor. One of the few in Athens that gives medical certificates, and in fact at a reasonable price and with thorough examinations.', 'Excellent dentist. I highly recommend it', 'The doctor was impeccable', 'Excellent doctor! He treated me meticulously, answered my every question! Very kind and experienced! He definitely won my trust, I highly recommend it!', 'Flawless balance between professionalism and home!', 'Excellent doctor, informative and patient friendly.', 'Excellent and consistent in everything.', 'I was happy with the visit and the examination', 'Very good approach, explanatory and with great consistency in the appointment. Courtesy secretariat.', 'An excellent doctor, very gentle and very meticulous with all the issues that needed to be investigated.', 'Excellent .. Deep down ... Explains everything in detail ..', 'Excellent analysis of my condition. Very polite and detailed.', \"Detailed examination, very child friendly .. Trained in its subject. Easy access to the doctor's office.\", 'Excellent at her job and very friendly as a person!', 'Meticulous, patient, explanatory and consistent.', 'I recommend him unreservedly. I was not in pain. I did not understand anything. He was impeccable.', 'EXCELLENT SCIENCE. TRAINING ABSOLUTELY UNDERSTANDABLE', 'Excellent doctor, polite and smiling. Nice and well-kept place. I highly recommend it!', 'He dealt a lot with my case !! He patiently listened to all my questions and concerns. He seemed to know the subject very well !!! I highly recommend it !!!', \"The doctor was excellent, as was the doctor's office. Everything was clean and the machines very modern. I was very happy because in addition to his knowledge of the subject he had a lot of patience and the necessary courtesy. Of course I recommend him.\", 'The doctor strongly recommends it.', 'Excellent doctor. Consistent in appointments.', 'The second time I visit the doctor, my impressions are even better. I honestly have not encountered such a treatment from a doctor, consistency in whatever he says, whatever he does. Congratulations.', 'Wonderful doctor, flawless in everything!', 'As always gentle and very helpful', 'He won me over at first sight with the intimacy he showed and the interest', 'An excellent doctor deals with the patient thoroughly and gives effective solutions ... I recommend him without reservations', 'Mr. Dilanas will listen carefully to what you have to say about your problem and will answer any question you may have. He inspires confidence in you, he will ask for examinations so that his diagnosis is substantiated and the treatment that will follow will help you. I have recommended it to friends.', 'Excellent, dealt thoroughly with my subject, highly recommended.', 'Great confidence. I was very happy with the visit. It was very informative in terms of my condition and treatment.', 'Consistent, trained, friendly. If necessary, I will contact him again.', 'P. Alexandropoulos is very approachable, humane and noble. Also extremely trained and explanatory.', 'He listened to my problem, he gave me a solution and most importantly that in the review I went he remembered what I had told him the first time. I felt comfortable and very at home with him.', 'He showed interest in my case. I highly recommend it.', 'Consistent in her appointment, she dealt in depth with my case, she explained everything to me. Friendly and very detailed.', 'Very good and kind, we will definitely visit her again', 'Very careful, polite, paid great attention to detail', 'I was very happy with this particular doctor, he examined me thoroughly and explained to me in great detail what I have. I helped a lot!', 'Excellent doctor, inspires confidence and calm. I highly recommend it.', 'Very good, very serious, careful, professional', 'A very good doctor who shows great interest in his patient. Explanatory and advisory on the problem I was facing.', 'Very good doctor. I recommend it to everyone.', \"It deals with the patient's history and that is key.\"])"
            ]
          },
          "metadata": {
            "tags": []
          },
          "execution_count": 32
        }
      ]
    },
    {
      "cell_type": "code",
      "metadata": {
        "id": "EApxSWPkKPnu"
      },
      "source": [
        ""
      ],
      "execution_count": null,
      "outputs": []
    },
    {
      "cell_type": "code",
      "metadata": {
        "id": "-vaBdnlqauNA"
      },
      "source": [
        ""
      ],
      "execution_count": null,
      "outputs": []
    }
  ]
}